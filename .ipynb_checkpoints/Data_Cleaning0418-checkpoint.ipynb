{
 "cells": [
  {
   "cell_type": "code",
   "execution_count": 1,
   "id": "385c49a5-ac6e-4545-9780-96deb25c64ce",
   "metadata": {},
   "outputs": [],
   "source": [
    "import pandas as pd\n",
    "import numpy as np\n",
    "import datetime as dt\n",
    "import matplotlib\n",
    "import matplotlib.pyplot as plt\n",
    "import os\n",
    "import geopandas as gpd\n",
    "import seaborn as sns\n",
    "\n",
    "# suppress warning\n",
    "import warnings\n",
    "warnings.filterwarnings('ignore')\n",
    "\n",
    "import statsmodels.formula.api as smf\n",
    "import statsmodels.api as sm\n",
    "from statsmodels.tsa.seasonal import seasonal_decompose\n",
    "import scipy\n",
    "from sklearn.metrics import r2_score\n",
    "from statsmodels.graphics.tsaplots import plot_acf\n",
    "\n",
    "#import seaborn as sns\n",
    "#sns.set()\n",
    "\n",
    "%matplotlib inline"
   ]
  },
  {
   "cell_type": "markdown",
   "id": "109c282c",
   "metadata": {},
   "source": [
    "## Data Cleaning"
   ]
  },
  {
   "cell_type": "code",
   "execution_count": 35,
   "id": "5d6e1b23-ee8d-4dcb-8ff3-6974be44c861",
   "metadata": {},
   "outputs": [],
   "source": [
    "# Get the current directory\n",
    "current_directory = os.getcwd()\n",
    "\n",
    "# Define the path to the data folder\n",
    "data_folder = os.path.join(current_directory, 'data')\n",
    "\n",
    "# List all files in the data folder\n",
    "files = os.listdir(data_folder)\n",
    "\n",
    "\n",
    "# Read each CSV file in the data folder\n",
    "for file in files:\n",
    "    if file.endswith('listings2024_03.csv'):\n",
    "        print(\"df2024_03\")\n",
    "        file_path1 = os.path.join(data_folder, file)\n",
    "        df2024_03 = pd.read_csv(file_path1)\n",
    "    elif file.endswith('listings2024_02.csv'):\n",
    "        print(\"df2024_02\")\n",
    "        file_path2 = os.path.join(data_folder, file)\n",
    "        df2024_02 = pd.read_csv(file_path2)\n",
    "    elif file.endswith(\"listings2024_01.csv\"):\n",
    "        print(\"df2024_01\")\n",
    "        file_path3 = os.path.join(data_folder, file)\n",
    "        df2024_01 = pd.read_csv(file_path3)\n",
    "    elif file.endswith(\"listings2023_12.csv\"):\n",
    "        print(\"df2023_12\")\n",
    "        file_path4 = os.path.join(data_folder, file)\n",
    "        df2023_12 = pd.read_csv(file_path4)\n",
    "    elif file.endswith(\"listings2023_11.csv\"):\n",
    "        print(\"df2023_11\")\n",
    "        file_path5 = os.path.join(data_folder, file)\n",
    "        df2023_11 = pd.read_csv(file_path5)\n",
    "    elif file.endswith(\"listings2023_10.csv\"):\n",
    "        print(\"df2023_10\")\n",
    "        file_path6 = os.path.join(data_folder, file)\n",
    "        df2023_10 = pd.read_csv(file_path6)\n",
    "    elif file.endswith(\"listings2023_09.csv\"):\n",
    "        print(\"df2023_09\")\n",
    "        file_path7 = os.path.join(data_folder, file)\n",
    "        df2023_09 = pd.read_csv(file_path7)\n",
    "    elif file.endswith(\"listings2023_08.csv\"):\n",
    "        print(\"df2023_08\")\n",
    "        file_path8 = os.path.join(data_folder, file)\n",
    "        df2023_08 = pd.read_csv(file_path8)\n",
    "    elif file.endswith(\"listings2023_07.csv\"):\n",
    "        print(\"df2023_07\")\n",
    "        file_path9 = os.path.join(data_folder, file)\n",
    "        df2023_07 = pd.read_csv(file_path9)        \n",
    "    elif file.endswith(\"listings2023_06.csv\"):\n",
    "        print(\"df2023_06\")\n",
    "        file_path10 = os.path.join(data_folder, file)\n",
    "        df2023_06 = pd.read_csv(file_path10)        \n",
    "    elif file.endswith(\"listings2023_05.csv\"):\n",
    "        print(\"df2023_05\")\n",
    "        file_path11 = os.path.join(data_folder, file)\n",
    "        df2023_05 = pd.read_csv(file_path11)\n",
    "    elif file.endswith(\"listings2023_04.csv\"):\n",
    "        print(\"df2023_04\")\n",
    "        file_path12 = os.path.join(data_folder, file)\n",
    "        df2023_04 = pd.read_csv(file_path12)\n",
    "  \n",
    "    \n"
   ]
  },
  {
   "cell_type": "code",
   "execution_count": 36,
   "id": "0b8ee4d1-e043-4c13-95f3-c19f08f935de",
   "metadata": {},
   "outputs": [],
   "source": [
    "# List of DataFrames\n",
    "dataframes = [\n",
    "    df2023_08, df2024_01, df2023_09, df2024_02, df2024_03,\n",
    "    df2023_07, df2023_12, df2023_06, df2023_10, df2023_04,\n",
    "    df2023_05, df2023_11\n",
    "]\n",
    "\n",
    "# Dictionary to hold the names and lengths\n",
    "df_lengths = {}\n",
    "\n",
    "# Iterate through the DataFrames and print their lengths\n",
    "for i, df in enumerate(dataframes, start=4):\n",
    "    month_year = f\"df2023_{i:02}\" if i < 13 else f\"df2024_{i - 12:02}\"\n",
    "    df_lengths[month_year] = len(df)\n",
    "\n",
    "# Print the lengths\n",
    "for name, length in df_lengths.items():\n",
    "    print(f\"Length of {name}: {length}\")"
   ]
  },
  {
   "cell_type": "code",
   "execution_count": 4,
   "id": "3315be25",
   "metadata": {},
   "outputs": [],
   "source": [
    "df_missing_values = {}\n",
    "\n",
    "for i, df in enumerate(dataframes, start=4):\n",
    "    month_year = f\"df2023_{i:02}\" if i < 13 else f\"df2024_{i - 12:02}\"\n",
    "    df_missing_values[month_year] = df.isnull().sum()\n",
    "\n",
    "for name, missing_counts in df_missing_values.items():\n",
    "    print(f\"Missing values in {name}:\")\n",
    "    print(missing_counts)\n",
    "    print() "
   ]
  },
  {
   "cell_type": "markdown",
   "id": "a645709c",
   "metadata": {},
   "source": [
    "### Add Zipcode"
   ]
  },
  {
   "cell_type": "code",
   "execution_count": 37,
   "id": "ddbb443e",
   "metadata": {},
   "outputs": [],
   "source": [
    "NYCzipcode = gpd.read_file('./Data/ZIPCODE/ZIP_CODE_040114.shp')"
   ]
  },
  {
   "cell_type": "code",
   "execution_count": 38,
   "id": "1e4a1326",
   "metadata": {},
   "outputs": [],
   "source": [
    "df2024_01_gdf = gpd.GeoDataFrame(\n",
    "    df2024_01,\n",
    "    geometry=gpd.points_from_xy(df2024_01.longitude, df2024_01.latitude),\n",
    "    crs=\"EPSG:4326\"\n",
    ")"
   ]
  },
  {
   "cell_type": "code",
   "execution_count": 9,
   "id": "e37914d0",
   "metadata": {},
   "outputs": [],
   "source": [
    "# 2024_1 with ziocode not all data.\n",
    "df2024_01_gdf = df2024_01_gdf.to_crs(NYCzipcode.crs)\n",
    "joined_gdf = gpd.sjoin(df2024_01_gdf, NYCzipcode, how=\"left\", op=\"within\")\n",
    "unique_zipcodes = joined_gdf.reset_index().groupby('index').first()\n",
    "airbnb202401_with_zip = df2024_01.merge(unique_zipcodes[['ZIPCODE']], left_index=True, right_index=True, how='left')\n"
   ]
  },
  {
   "cell_type": "code",
   "execution_count": 10,
   "id": "2a7753bd",
   "metadata": {},
   "outputs": [],
   "source": [
    "#Removing the Duplicates if any\n",
    "airbnb202401_with_zip.duplicated().sum()\n",
    "airbnb202401_with_zip.drop_duplicates(inplace=True)\n",
    "len(airbnb202401_with_zip)"
   ]
  },
  {
   "cell_type": "markdown",
   "id": "4d89cf9d",
   "metadata": {},
   "source": [
    "### Crime Data"
   ]
  },
  {
   "cell_type": "code",
   "execution_count": 11,
   "id": "118c21a1",
   "metadata": {},
   "outputs": [],
   "source": [
    "file_path_crimes = os.path.join(data_folder, 'NYPD_Hate_Crimes_20240305.csv')\n",
    "crimes = pd.read_csv(file_path_crimes)\n",
    "crimes.head()"
   ]
  },
  {
   "cell_type": "markdown",
   "id": "356d6eb1",
   "metadata": {},
   "source": [
    "## Descriptive Analysis"
   ]
  },
  {
   "cell_type": "code",
   "execution_count": 12,
   "id": "fb67f55a",
   "metadata": {},
   "outputs": [],
   "source": [
    "crimes.dtypes"
   ]
  },
  {
   "cell_type": "code",
   "execution_count": 13,
   "id": "29617010",
   "metadata": {},
   "outputs": [],
   "source": [
    "crimes.County.unique()"
   ]
  },
  {
   "cell_type": "code",
   "execution_count": 14,
   "id": "54828439",
   "metadata": {},
   "outputs": [],
   "source": [
    "airbnb202401_with_zip.neighbourhood_group.unique()"
   ]
  },
  {
   "cell_type": "code",
   "execution_count": 15,
   "id": "a7b20047",
   "metadata": {},
   "outputs": [],
   "source": [
    "# Kings= Brooklyn, RichMond= Staten Island\n",
    "county_to_borough = {\n",
    "    'KINGS': 'Brooklyn',\n",
    "    'NEW YORK': 'Manhattan',\n",
    "    'QUEENS': 'Queens',\n",
    "    'BRONX': 'Bronx',\n",
    "    'RICHMOND': 'Staten Island'\n",
    "}\n",
    "\n",
    "# Replace the county names with borough names in the 'County' column\n",
    "crimes['County'] = crimes['County'].replace(county_to_borough)"
   ]
  },
  {
   "cell_type": "code",
   "execution_count": 16,
   "id": "7c280dea",
   "metadata": {},
   "outputs": [],
   "source": [
    "crimes.County.unique()"
   ]
  },
  {
   "cell_type": "code",
   "execution_count": 17,
   "id": "fa1965e2",
   "metadata": {},
   "outputs": [],
   "source": [
    "crimes.shape"
   ]
  },
  {
   "cell_type": "markdown",
   "id": "ca79081c",
   "metadata": {},
   "source": [
    "### Rental Income"
   ]
  },
  {
   "cell_type": "code",
   "execution_count": 18,
   "id": "f38d1f75",
   "metadata": {},
   "outputs": [],
   "source": [
    "rental = pd.read_csv(\"DOF_Condominium_Comparable_Rental_Income_in_NYC_20231211.csv\")"
   ]
  },
  {
   "cell_type": "code",
   "execution_count": 19,
   "id": "20477867",
   "metadata": {},
   "outputs": [],
   "source": [
    "rental_gross_income = rental.groupby(['Neighborhood']).agg({'Gross Income per SqFt': 'mean'})\n",
    "rental_gross_income.sort_index(inplace=True)\n",
    "rental_gross_income.head()"
   ]
  },
  {
   "cell_type": "code",
   "execution_count": 20,
   "id": "73a78b9c",
   "metadata": {},
   "outputs": [],
   "source": [
    "airbnb_neighbor_price = df2024_01.groupby(['neighbourhood']).agg({'price': 'mean'})\n",
    "airbnb_neighbor_price.head()"
   ]
  },
  {
   "cell_type": "code",
   "execution_count": 21,
   "id": "387b39ff",
   "metadata": {},
   "outputs": [],
   "source": [
    "airbnb_neighbor_price.index = airbnb_neighbor_price.index.str.upper()\n",
    "filtered_rental_gross_income = rental_gross_income[rental_gross_income.index.isin(airbnb_neighbor_price.index)]\n",
    "filtered_rental_gross_income.head()"
   ]
  },
  {
   "cell_type": "code",
   "execution_count": 34,
   "id": "975114f2",
   "metadata": {},
   "outputs": [],
   "source": [
    "Rental_marketvalue = rental.groupby(['Neighborhood']).agg({'Market Value per SqFt': 'mean'})\n",
    "filtered_Rental_marketvalue = Rental_marketvalue[Rental_marketvalue.index.isin(airbnb_neighbor_price.index)]\n",
    "filtered_Rental_marketvalue.head()"
   ]
  },
  {
   "cell_type": "markdown",
   "id": "8388d07f",
   "metadata": {},
   "source": [
    "## Exploratory Analysis"
   ]
  },
  {
   "cell_type": "markdown",
   "id": "a1c4371a",
   "metadata": {},
   "source": [
    "(目前只做了202401 后面需要可以直接copy代码改数)"
   ]
  },
  {
   "cell_type": "code",
   "execution_count": 23,
   "id": "2f4e3a7d",
   "metadata": {},
   "outputs": [],
   "source": [
    "#drop unnecessary columns\n",
    "df2024_01.drop(['name','id','host_name','last_review','number_of_reviews_ltm', 'license'], axis=1, inplace=True)\n",
    "df2024_01.columns"
   ]
  },
  {
   "cell_type": "code",
   "execution_count": 24,
   "id": "58c97fe1",
   "metadata": {},
   "outputs": [],
   "source": [
    "#select the number columns\n",
    "numeric_df = df2024_01.select_dtypes(include=[np.number])\n"
   ]
  },
  {
   "cell_type": "markdown",
   "id": "89ea632b",
   "metadata": {},
   "source": [
    "Get Correlation between different variables"
   ]
  },
  {
   "cell_type": "code",
   "execution_count": 25,
   "id": "7e5431bd",
   "metadata": {},
   "outputs": [],
   "source": [
    "corr = numeric_df.corr(method='kendall')\n",
    "plt.figure(figsize=(15,8))\n",
    "sns.heatmap(corr, annot=True)"
   ]
  },
  {
   "cell_type": "markdown",
   "id": "f0d2e1a7",
   "metadata": {},
   "source": [
    "Plot all Neighbourhood Group"
   ]
  },
  {
   "cell_type": "code",
   "execution_count": 26,
   "id": "a7148fdc",
   "metadata": {},
   "outputs": [],
   "source": [
    "sns.countplot(x='neighbourhood_group', data=df2024_01, palette=\"plasma\")\n",
    "fig = plt.gcf()\n",
    "fig.set_size_inches(10,10)\n",
    "plt.title('Neighbourhood Group')"
   ]
  },
  {
   "cell_type": "markdown",
   "id": "3755754c",
   "metadata": {},
   "source": [
    "Neighbourhood"
   ]
  },
  {
   "cell_type": "code",
   "execution_count": 27,
   "id": "15f91230",
   "metadata": {},
   "outputs": [],
   "source": [
    "sns.countplot(x='neighbourhood', data=df2024_01, palette=\"plasma\")\n",
    "fig = plt.gcf()\n",
    "fig.set_size_inches(25,6)\n",
    "plt.title('Neighbourhood')\n"
   ]
  },
  {
   "cell_type": "code",
   "execution_count": 28,
   "id": "7964a56f",
   "metadata": {},
   "outputs": [],
   "source": [
    "df2024_01['neighbourhood'] = df2024_01['neighbourhood'].astype(str)"
   ]
  },
  {
   "cell_type": "markdown",
   "id": "9a5c431d",
   "metadata": {},
   "source": [
    "Room Type"
   ]
  },
  {
   "cell_type": "code",
   "execution_count": 29,
   "id": "ad19c85e",
   "metadata": {},
   "outputs": [],
   "source": [
    "#Restaurants delivering Online or not\n",
    "sns.countplot(x='room_type', data=df2024_01, palette=\"plasma\")\n",
    "fig = plt.gcf()\n",
    "fig.set_size_inches(10,10)\n",
    "plt.title('Restaurants delivering online or Not')"
   ]
  },
  {
   "cell_type": "markdown",
   "id": "008d6fbf",
   "metadata": {},
   "source": [
    "Relation between neighbourgroup and Availability of Room¶\n"
   ]
  },
  {
   "cell_type": "code",
   "execution_count": 30,
   "id": "9c1a560b",
   "metadata": {},
   "outputs": [],
   "source": [
    "plt.figure(figsize=(10,10))\n",
    "ax = sns.boxplot(data=df2024_01, x='neighbourhood_group',y='availability_365',palette='plasma')"
   ]
  },
  {
   "cell_type": "code",
   "execution_count": 31,
   "id": "70804568",
   "metadata": {},
   "outputs": [],
   "source": [
    "plt.figure(figsize=(10,6))\n",
    "sns.scatterplot(x=df2024_01['longitude'], y=df2024_01['latitude'], hue=df2024_01['neighbourhood_group'])\n",
    "plt.ioff()"
   ]
  },
  {
   "cell_type": "code",
   "execution_count": 32,
   "id": "29af5326",
   "metadata": {},
   "outputs": [],
   "source": [
    "plt.figure(figsize=(10,6))\n",
    "sns.scatterplot(x=df2024_01['longitude'], y=df2024_01['latitude'], hue=df2024_01['availability_365'])\n",
    "plt.ioff()"
   ]
  },
  {
   "cell_type": "code",
   "execution_count": 33,
   "id": "76dc93bf",
   "metadata": {},
   "outputs": [],
   "source": [
    "df2024_01\n",
    "#发现availability_365数据有问题"
   ]
  },
  {
   "cell_type": "markdown",
   "id": "81176605",
   "metadata": {},
   "source": [
    "### Time Series"
   ]
  },
  {
   "cell_type": "markdown",
   "id": "06e91e6b",
   "metadata": {},
   "source": [
    "### PCA..."
   ]
  }
 ],
 "metadata": {
  "kernelspec": {
   "display_name": "Python 3 (ipykernel)",
   "language": "python",
   "name": "python3"
  },
  "language_info": {
   "codemirror_mode": {
    "name": "ipython",
    "version": 3
   },
   "file_extension": ".py",
   "mimetype": "text/x-python",
   "name": "python",
   "nbconvert_exporter": "python",
   "pygments_lexer": "ipython3",
   "version": "3.11.0"
  }
 },
 "nbformat": 4,
 "nbformat_minor": 5
}
