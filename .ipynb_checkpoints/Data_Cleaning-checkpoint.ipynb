{
 "cells": [
  {
   "cell_type": "code",
   "execution_count": 2,
   "id": "385c49a5-ac6e-4545-9780-96deb25c64ce",
   "metadata": {},
   "outputs": [],
   "source": [
    "import pandas as pd\n",
    "import numpy as np\n",
    "import datetime as dt\n",
    "import matplotlib\n",
    "import matplotlib.pyplot as plt\n",
    "import os\n",
    "\n",
    "# suppress warning\n",
    "import warnings\n",
    "warnings.filterwarnings('ignore')\n",
    "\n",
    "import statsmodels.formula.api as smf\n",
    "import statsmodels.api as sm\n",
    "from statsmodels.tsa.seasonal import seasonal_decompose\n",
    "import scipy\n",
    "from sklearn.metrics import r2_score\n",
    "from statsmodels.graphics.tsaplots import plot_acf\n",
    "\n",
    "#import seaborn as sns\n",
    "#sns.set()\n",
    "\n",
    "%matplotlib inline"
   ]
  },
  {
   "cell_type": "code",
   "execution_count": 20,
   "id": "5d6e1b23-ee8d-4dcb-8ff3-6974be44c861",
   "metadata": {},
   "outputs": [
    {
     "name": "stdout",
     "output_type": "stream",
     "text": [
      "df1\n",
      "df2\n"
     ]
    }
   ],
   "source": [
    "# Get the current directory\n",
    "current_directory = os.getcwd()\n",
    "\n",
    "# Define the path to the data folder\n",
    "data_folder = os.path.join(current_directory, 'data')\n",
    "\n",
    "# List all files in the data folder\n",
    "files = os.listdir(data_folder)\n",
    "\n",
    "# Read each CSV file in the data folder\n",
    "for file in files:\n",
    "    if file.endswith('listings1.csv'):\n",
    "        print(\"df1\")\n",
    "        file_path1 = os.path.join(data_folder, file)\n",
    "        df1 = pd.read_csv(file_path1)\n",
    "    elif file.endswith('listings2.csv'):\n",
    "        print(\"df2\")\n",
    "        file_path2 = os.path.join(data_folder, file)\n",
    "        df2 = pd.read_csv(file_path2)\n",
    "        # Process the DataFrame df as needed"
   ]
  },
  {
   "cell_type": "code",
   "execution_count": 26,
   "id": "0b8ee4d1-e043-4c13-95f3-c19f08f935de",
   "metadata": {},
   "outputs": [
    {
     "data": {
      "text/plain": [
       "2940150"
      ]
     },
     "execution_count": 26,
     "metadata": {},
     "output_type": "execute_result"
    }
   ],
   "source": [
    "df1.size"
   ]
  },
  {
   "cell_type": "code",
   "execution_count": 25,
   "id": "3209dceb-a1f4-407b-9777-16c559d0a6fb",
   "metadata": {},
   "outputs": [
    {
     "data": {
      "text/plain": [
       "705636"
      ]
     },
     "execution_count": 25,
     "metadata": {},
     "output_type": "execute_result"
    }
   ],
   "source": [
    "df2.size"
   ]
  },
  {
   "cell_type": "code",
   "execution_count": null,
   "id": "ece1fb2b-2dc2-4ff7-9391-45a6b5f03bdc",
   "metadata": {},
   "outputs": [],
   "source": []
  }
 ],
 "metadata": {
  "kernelspec": {
   "display_name": "Python 3 (ipykernel)",
   "language": "python",
   "name": "python3"
  },
  "language_info": {
   "codemirror_mode": {
    "name": "ipython",
    "version": 3
   },
   "file_extension": ".py",
   "mimetype": "text/x-python",
   "name": "python",
   "nbconvert_exporter": "python",
   "pygments_lexer": "ipython3",
   "version": "3.11.0"
  }
 },
 "nbformat": 4,
 "nbformat_minor": 5
}
