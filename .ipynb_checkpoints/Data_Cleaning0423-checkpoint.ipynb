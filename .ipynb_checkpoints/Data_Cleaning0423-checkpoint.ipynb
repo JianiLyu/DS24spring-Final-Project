{
 "cells": [
  {
   "cell_type": "code",
   "execution_count": 1,
   "id": "385c49a5-ac6e-4545-9780-96deb25c64ce",
   "metadata": {},
   "outputs": [
    {
     "name": "stderr",
     "output_type": "stream",
     "text": [
      "/Users/simaochen/anaconda3/lib/python3.11/site-packages/pandas/core/arrays/masked.py:60: UserWarning: Pandas requires version '1.3.6' or newer of 'bottleneck' (version '1.3.5' currently installed).\n",
      "  from pandas.core import (\n"
     ]
    }
   ],
   "source": [
    "import pandas as pd\n",
    "import numpy as np\n",
    "import datetime as dt\n",
    "import matplotlib\n",
    "import matplotlib.pyplot as plt\n",
    "import os\n",
    "import geopandas as gpd\n",
    "import seaborn as sns\n",
    "\n",
    "# suppress warning\n",
    "import warnings\n",
    "warnings.filterwarnings('ignore')\n",
    "\n",
    "import statsmodels.formula.api as smf\n",
    "import statsmodels.api as sm\n",
    "from statsmodels.tsa.seasonal import seasonal_decompose\n",
    "import scipy\n",
    "from sklearn.metrics import r2_score\n",
    "from sklearn.preprocessing import OneHotEncoder\n",
    "from statsmodels.graphics.tsaplots import plot_acf\n",
    "\n",
    "#import seaborn as sns\n",
    "#sns.set()\n",
    "\n",
    "%matplotlib inline"
   ]
  },
  {
   "cell_type": "markdown",
   "id": "109c282c",
   "metadata": {},
   "source": [
    "## Data Cleaning"
   ]
  },
  {
   "cell_type": "code",
   "execution_count": 2,
   "id": "9ad97742",
   "metadata": {},
   "outputs": [
    {
     "name": "stdout",
     "output_type": "stream",
     "text": [
      "2021_data\n"
     ]
    }
   ],
   "source": [
    "# Get the current directory\n",
    "current_directory = os.getcwd()\n",
    "\n",
    "# Define the path to the data folder\n",
    "data_folder = os.path.join(current_directory, 'data')\n",
    "\n",
    "# List all files in the data folder\n",
    "files = os.listdir(data_folder)\n",
    "\n",
    "\n",
    "# Read each CSV file in the data folder\n",
    "for file in files:\n",
    "    if file.endswith('listings2021.csv'):\n",
    "        print(\"2021_data\")\n",
    "        file_path1 = os.path.join(data_folder, file)\n",
    "        df2021 = pd.read_csv(file_path1)\n",
    "#     elif file.endswith('listings2024_02.csv'):\n",
    "#         print(\"df2024_02\")\n",
    "#         file_path2 = os.path.join(data_folder, file)\n",
    "#         df2024_02 = pd.read_csv(file_path2)\n",
    "#     elif file.endswith(\"listings2024_01.csv\"):\n",
    "#         print(\"df2024_01\")\n",
    "#         file_path3 = os.path.join(data_folder, file)\n",
    "#         df2024_01 = pd.read_csv(file_path3)\n",
    "#     elif file.endswith(\"listings2023_12.csv\"):\n",
    "#         print(\"df2023_12\")\n",
    "#         file_path4 = os.path.join(data_folder, file)\n",
    "#         df2023_12 = pd.read_csv(file_path4)\n",
    "#     elif file.endswith(\"listings2023_11.csv\"):\n",
    "#         print(\"df2023_11\")\n",
    "#         file_path5 = os.path.join(data_folder, file)\n",
    "#         df2023_11 = pd.read_csv(file_path5)\n",
    "#     elif file.endswith(\"listings2023_10.csv\"):\n",
    "#         print(\"df2023_10\")\n",
    "#         file_path6 = os.path.join(data_folder, file)\n",
    "#         df2023_10 = pd.read_csv(file_path6)\n",
    "#     elif file.endswith(\"listings2023_09.csv\"):\n",
    "#         print(\"df2023_09\")\n",
    "#         file_path7 = os.path.join(data_folder, file)\n",
    "#         df2023_09 = pd.read_csv(file_path7)\n",
    "#     elif file.endswith(\"listings2023_08.csv\"):\n",
    "#         print(\"df2023_08\")\n",
    "#         file_path8 = os.path.join(data_folder, file)\n",
    "#         df2023_08 = pd.read_csv(file_path8)\n",
    "#     elif file.endswith(\"listings2023_07.csv\"):\n",
    "#         print(\"df2023_07\")\n",
    "#         file_path9 = os.path.join(data_folder, file)\n",
    "#         df2023_07 = pd.read_csv(file_path9)        \n",
    "#     elif file.endswith(\"listings2023_06.csv\"):\n",
    "#         print(\"df2023_06\")\n",
    "#         file_path10 = os.path.join(data_folder, file)\n",
    "#         df2023_06 = pd.read_csv(file_path10)        \n",
    "#     elif file.endswith(\"listings2023_05.csv\"):\n",
    "#         print(\"df2023_05\")\n",
    "#         file_path11 = os.path.join(data_folder, file)\n",
    "#         df2023_05 = pd.read_csv(file_path11)\n",
    "#     elif file.endswith(\"listings2023_04.csv\"):\n",
    "#         print(\"df2023_04\")\n",
    "#         file_path12 = os.path.join(data_folder, file)\n",
    "#         df2023_04 = pd.read_csv(file_path12)\n",
    "  \n",
    "    \n"
   ]
  },
  {
   "cell_type": "code",
   "execution_count": 3,
   "id": "93b55998",
   "metadata": {
    "scrolled": true
   },
   "outputs": [
    {
     "data": {
      "text/html": [
       "<div>\n",
       "<style scoped>\n",
       "    .dataframe tbody tr th:only-of-type {\n",
       "        vertical-align: middle;\n",
       "    }\n",
       "\n",
       "    .dataframe tbody tr th {\n",
       "        vertical-align: top;\n",
       "    }\n",
       "\n",
       "    .dataframe thead th {\n",
       "        text-align: right;\n",
       "    }\n",
       "</style>\n",
       "<table border=\"1\" class=\"dataframe\">\n",
       "  <thead>\n",
       "    <tr style=\"text-align: right;\">\n",
       "      <th></th>\n",
       "      <th>host_id</th>\n",
       "      <th>host_since</th>\n",
       "      <th>host_since_date</th>\n",
       "      <th>host_response_time</th>\n",
       "      <th>host_is_superhost</th>\n",
       "      <th>host_has_profile_pic</th>\n",
       "      <th>host_identity_verified</th>\n",
       "      <th>neighbourhood</th>\n",
       "      <th>neighbourhood_group</th>\n",
       "      <th>latitude</th>\n",
       "      <th>...</th>\n",
       "      <th>maximum_nights</th>\n",
       "      <th>has_availability</th>\n",
       "      <th>availability_365</th>\n",
       "      <th>number_of_reviews</th>\n",
       "      <th>first_review</th>\n",
       "      <th>first_review_date</th>\n",
       "      <th>last_review</th>\n",
       "      <th>last_review_date</th>\n",
       "      <th>review_scores_rating</th>\n",
       "      <th>instant_bookable</th>\n",
       "    </tr>\n",
       "  </thead>\n",
       "  <tbody>\n",
       "    <tr>\n",
       "      <th>0</th>\n",
       "      <td>191091</td>\n",
       "      <td>8-04-2010</td>\n",
       "      <td>2010-08-04</td>\n",
       "      <td>Within A Few Hours</td>\n",
       "      <td>Superhost</td>\n",
       "      <td>Host has a Profile Picture</td>\n",
       "      <td>Host identity verified</td>\n",
       "      <td>Tribeca</td>\n",
       "      <td>Manhattan</td>\n",
       "      <td>40.72100</td>\n",
       "      <td>...</td>\n",
       "      <td>90</td>\n",
       "      <td>Host has availability</td>\n",
       "      <td>298</td>\n",
       "      <td>13</td>\n",
       "      <td>1/4/20</td>\n",
       "      <td>2020-01-04</td>\n",
       "      <td>12/29/20</td>\n",
       "      <td>2020-12-29</td>\n",
       "      <td>4.85</td>\n",
       "      <td>Host not instant bookable</td>\n",
       "    </tr>\n",
       "    <tr>\n",
       "      <th>1</th>\n",
       "      <td>244071</td>\n",
       "      <td>9-24-2010</td>\n",
       "      <td>2010-09-24</td>\n",
       "      <td>Within An Hour</td>\n",
       "      <td>Superhost</td>\n",
       "      <td>Host has a Profile Picture</td>\n",
       "      <td>Host identity verified</td>\n",
       "      <td>Ditmars Steinway</td>\n",
       "      <td>Queens</td>\n",
       "      <td>40.77868</td>\n",
       "      <td>...</td>\n",
       "      <td>1125</td>\n",
       "      <td>Host has availability</td>\n",
       "      <td>137</td>\n",
       "      <td>14</td>\n",
       "      <td>10/5/21</td>\n",
       "      <td>2021-10-05</td>\n",
       "      <td>11/9/21</td>\n",
       "      <td>2021-11-09</td>\n",
       "      <td>4.93</td>\n",
       "      <td>Host not instant bookable</td>\n",
       "    </tr>\n",
       "    <tr>\n",
       "      <th>2</th>\n",
       "      <td>503800</td>\n",
       "      <td>4-12-2011</td>\n",
       "      <td>2011-04-12</td>\n",
       "      <td>Within An Hour</td>\n",
       "      <td>Superhost</td>\n",
       "      <td>Host has a Profile Picture</td>\n",
       "      <td>Host identity verified</td>\n",
       "      <td>Crown Heights</td>\n",
       "      <td>Brooklyn</td>\n",
       "      <td>40.67654</td>\n",
       "      <td>...</td>\n",
       "      <td>14</td>\n",
       "      <td>Host has availability</td>\n",
       "      <td>128</td>\n",
       "      <td>16</td>\n",
       "      <td>5/20/21</td>\n",
       "      <td>2021-05-20</td>\n",
       "      <td>11/7/21</td>\n",
       "      <td>2021-11-07</td>\n",
       "      <td>4.88</td>\n",
       "      <td>Host instant bookable</td>\n",
       "    </tr>\n",
       "    <tr>\n",
       "      <th>3</th>\n",
       "      <td>262812</td>\n",
       "      <td>10-15-2010</td>\n",
       "      <td>2010-10-15</td>\n",
       "      <td>Within A Day</td>\n",
       "      <td>Not a Superhost</td>\n",
       "      <td>Host has a Profile Picture</td>\n",
       "      <td>Host identity verified</td>\n",
       "      <td>Williamsburg</td>\n",
       "      <td>Brooklyn</td>\n",
       "      <td>40.71983</td>\n",
       "      <td>...</td>\n",
       "      <td>90</td>\n",
       "      <td>Host has availability</td>\n",
       "      <td>77</td>\n",
       "      <td>57</td>\n",
       "      <td>5/5/19</td>\n",
       "      <td>2019-05-05</td>\n",
       "      <td>12/11/19</td>\n",
       "      <td>2019-12-11</td>\n",
       "      <td>4.45</td>\n",
       "      <td>Host not instant bookable</td>\n",
       "    </tr>\n",
       "    <tr>\n",
       "      <th>4</th>\n",
       "      <td>663384</td>\n",
       "      <td>6/4/11</td>\n",
       "      <td>2011-06-04</td>\n",
       "      <td>Within A Day</td>\n",
       "      <td>Superhost</td>\n",
       "      <td>Host has a Profile Picture</td>\n",
       "      <td>Host identity verified</td>\n",
       "      <td>Park Slope</td>\n",
       "      <td>Brooklyn</td>\n",
       "      <td>40.67494</td>\n",
       "      <td>...</td>\n",
       "      <td>30</td>\n",
       "      <td>Host has availability</td>\n",
       "      <td>0</td>\n",
       "      <td>29</td>\n",
       "      <td>1/2/19</td>\n",
       "      <td>2019-01-02</td>\n",
       "      <td>11/28/21</td>\n",
       "      <td>2021-11-28</td>\n",
       "      <td>4.93</td>\n",
       "      <td>Host not instant bookable</td>\n",
       "    </tr>\n",
       "  </tbody>\n",
       "</table>\n",
       "<p>5 rows × 27 columns</p>\n",
       "</div>"
      ],
      "text/plain": [
       "   host_id   host_since host_since_date  host_response_time host_is_superhost  \\\n",
       "0   191091    8-04-2010      2010-08-04  Within A Few Hours         Superhost   \n",
       "1   244071    9-24-2010      2010-09-24      Within An Hour         Superhost   \n",
       "2   503800    4-12-2011      2011-04-12      Within An Hour         Superhost   \n",
       "3   262812   10-15-2010      2010-10-15        Within A Day   Not a Superhost   \n",
       "4   663384       6/4/11      2011-06-04        Within A Day         Superhost   \n",
       "\n",
       "         host_has_profile_pic  host_identity_verified     neighbourhood  \\\n",
       "0  Host has a Profile Picture  Host identity verified           Tribeca   \n",
       "1  Host has a Profile Picture  Host identity verified  Ditmars Steinway   \n",
       "2  Host has a Profile Picture  Host identity verified     Crown Heights   \n",
       "3  Host has a Profile Picture  Host identity verified      Williamsburg   \n",
       "4  Host has a Profile Picture  Host identity verified        Park Slope   \n",
       "\n",
       "  neighbourhood_group  latitude  ...  maximum_nights       has_availability  \\\n",
       "0           Manhattan  40.72100  ...              90  Host has availability   \n",
       "1              Queens  40.77868  ...            1125  Host has availability   \n",
       "2            Brooklyn  40.67654  ...              14  Host has availability   \n",
       "3            Brooklyn  40.71983  ...              90  Host has availability   \n",
       "4            Brooklyn  40.67494  ...              30  Host has availability   \n",
       "\n",
       "  availability_365  number_of_reviews first_review  first_review_date  \\\n",
       "0              298                 13       1/4/20         2020-01-04   \n",
       "1              137                 14      10/5/21         2021-10-05   \n",
       "2              128                 16      5/20/21         2021-05-20   \n",
       "3               77                 57       5/5/19         2019-05-05   \n",
       "4                0                 29       1/2/19         2019-01-02   \n",
       "\n",
       "   last_review  last_review_date review_scores_rating  \\\n",
       "0     12/29/20        2020-12-29                 4.85   \n",
       "1      11/9/21        2021-11-09                 4.93   \n",
       "2      11/7/21        2021-11-07                 4.88   \n",
       "3     12/11/19        2019-12-11                 4.45   \n",
       "4     11/28/21        2021-11-28                 4.93   \n",
       "\n",
       "            instant_bookable  \n",
       "0  Host not instant bookable  \n",
       "1  Host not instant bookable  \n",
       "2      Host instant bookable  \n",
       "3  Host not instant bookable  \n",
       "4  Host not instant bookable  \n",
       "\n",
       "[5 rows x 27 columns]"
      ]
     },
     "execution_count": 3,
     "metadata": {},
     "output_type": "execute_result"
    }
   ],
   "source": [
    "df2021.head()"
   ]
  },
  {
   "cell_type": "code",
   "execution_count": 4,
   "id": "b49b6b25",
   "metadata": {
    "scrolled": true
   },
   "outputs": [],
   "source": [
    "columns_list_2021 = set(df2021.columns)"
   ]
  },
  {
   "cell_type": "code",
   "execution_count": 5,
   "id": "37d525e1",
   "metadata": {},
   "outputs": [
    {
     "ename": "NameError",
     "evalue": "name 'df2023_04' is not defined",
     "output_type": "error",
     "traceback": [
      "\u001b[0;31m---------------------------------------------------------------------------\u001b[0m",
      "\u001b[0;31mNameError\u001b[0m                                 Traceback (most recent call last)",
      "Cell \u001b[0;32mIn[5], line 1\u001b[0m\n\u001b[0;32m----> 1\u001b[0m columns_list_2023_04 \u001b[38;5;241m=\u001b[39m \u001b[38;5;28mset\u001b[39m(df2023_04\u001b[38;5;241m.\u001b[39mcolumns)\n",
      "\u001b[0;31mNameError\u001b[0m: name 'df2023_04' is not defined"
     ]
    }
   ],
   "source": [
    "# columns_list_2023_04 = set(df2023_04.columns)"
   ]
  },
  {
   "cell_type": "code",
   "execution_count": null,
   "id": "e694ddf4",
   "metadata": {},
   "outputs": [],
   "source": [
    "# # common_elements = columns_list_2023_04[columns_list_2023_04.isin(columns_list_2021 )]\n",
    "\n",
    "\n",
    "# common_elements = columns_list_2023_04.intersection(columns_list_2021)"
   ]
  },
  {
   "cell_type": "code",
   "execution_count": null,
   "id": "7a11f1c8",
   "metadata": {
    "scrolled": true
   },
   "outputs": [],
   "source": [
    "# common_elements"
   ]
  },
  {
   "cell_type": "code",
   "execution_count": null,
   "id": "a25edf38",
   "metadata": {
    "scrolled": true
   },
   "outputs": [],
   "source": [
    "# len(df2023_04)"
   ]
  },
  {
   "cell_type": "code",
   "execution_count": null,
   "id": "7fba928a",
   "metadata": {},
   "outputs": [],
   "source": [
    "# df2023_04.columns"
   ]
  },
  {
   "cell_type": "code",
   "execution_count": null,
   "id": "8020809f",
   "metadata": {},
   "outputs": [],
   "source": [
    "# df2023_04.head()"
   ]
  },
  {
   "cell_type": "code",
   "execution_count": null,
   "id": "730a7ce7",
   "metadata": {},
   "outputs": [],
   "source": [
    "# df2023_04_host_id = df2023_04.host_id\n",
    "# df2021_host_id = df2021.host_id"
   ]
  },
  {
   "cell_type": "code",
   "execution_count": null,
   "id": "05c00472",
   "metadata": {},
   "outputs": [],
   "source": [
    "# common_elements = df2023_04_host_id[df2023_04_host_id.isin(df2021_host_id)]"
   ]
  },
  {
   "cell_type": "code",
   "execution_count": null,
   "id": "99b15604",
   "metadata": {},
   "outputs": [],
   "source": [
    "# len(common_elements)"
   ]
  },
  {
   "cell_type": "code",
   "execution_count": 5,
   "id": "5d6e1b23-ee8d-4dcb-8ff3-6974be44c861",
   "metadata": {},
   "outputs": [
    {
     "name": "stdout",
     "output_type": "stream",
     "text": [
      "df2023_08\n",
      "df2024_01\n",
      "df2023_09\n",
      "df2024_02\n",
      "df2024_03\n",
      "df2023_07\n",
      "df2023_12\n",
      "df2023_06\n",
      "df2023_10\n",
      "df2023_04\n",
      "df2023_05\n",
      "df2023_11\n"
     ]
    }
   ],
   "source": [
    "# Get the current directory\n",
    "current_directory = os.getcwd()\n",
    "\n",
    "# Define the path to the data folder\n",
    "data_folder = os.path.join(current_directory, 'data')\n",
    "\n",
    "# List all files in the data folder\n",
    "files = os.listdir(data_folder)\n",
    "\n",
    "\n",
    "# Read each CSV file in the data folder\n",
    "for file in files:\n",
    "    if file.endswith('listings2024_03.csv'):\n",
    "        print(\"df2024_03\")\n",
    "        file_path1 = os.path.join(data_folder, file)\n",
    "        df2024_03 = pd.read_csv(file_path1)\n",
    "    elif file.endswith('listings2024_02.csv'):\n",
    "        print(\"df2024_02\")\n",
    "        file_path2 = os.path.join(data_folder, file)\n",
    "        df2024_02 = pd.read_csv(file_path2)\n",
    "    elif file.endswith(\"listings2024_01.csv\"):\n",
    "        print(\"df2024_01\")\n",
    "        file_path3 = os.path.join(data_folder, file)\n",
    "        df2024_01 = pd.read_csv(file_path3)\n",
    "    elif file.endswith(\"listings2023_12.csv\"):\n",
    "        print(\"df2023_12\")\n",
    "        file_path4 = os.path.join(data_folder, file)\n",
    "        df2023_12 = pd.read_csv(file_path4)\n",
    "    elif file.endswith(\"listings2023_11.csv\"):\n",
    "        print(\"df2023_11\")\n",
    "        file_path5 = os.path.join(data_folder, file)\n",
    "        df2023_11 = pd.read_csv(file_path5)\n",
    "    elif file.endswith(\"listings2023_10.csv\"):\n",
    "        print(\"df2023_10\")\n",
    "        file_path6 = os.path.join(data_folder, file)\n",
    "        df2023_10 = pd.read_csv(file_path6)\n",
    "    elif file.endswith(\"listings2023_09.csv\"):\n",
    "        print(\"df2023_09\")\n",
    "        file_path7 = os.path.join(data_folder, file)\n",
    "        df2023_09 = pd.read_csv(file_path7)\n",
    "    elif file.endswith(\"listings2023_08.csv\"):\n",
    "        print(\"df2023_08\")\n",
    "        file_path8 = os.path.join(data_folder, file)\n",
    "        df2023_08 = pd.read_csv(file_path8)\n",
    "    elif file.endswith(\"listings2023_07.csv\"):\n",
    "        print(\"df2023_07\")\n",
    "        file_path9 = os.path.join(data_folder, file)\n",
    "        df2023_07 = pd.read_csv(file_path9)        \n",
    "    elif file.endswith(\"listings2023_06.csv\"):\n",
    "        print(\"df2023_06\")\n",
    "        file_path10 = os.path.join(data_folder, file)\n",
    "        df2023_06 = pd.read_csv(file_path10)        \n",
    "    elif file.endswith(\"listings2023_05.csv\"):\n",
    "        print(\"df2023_05\")\n",
    "        file_path11 = os.path.join(data_folder, file)\n",
    "        df2023_05 = pd.read_csv(file_path11)\n",
    "    elif file.endswith(\"listings2023_04.csv\"):\n",
    "        print(\"df2023_04\")\n",
    "        file_path12 = os.path.join(data_folder, file)\n",
    "        df2023_04 = pd.read_csv(file_path12)\n",
    "  \n",
    "    \n"
   ]
  },
  {
   "cell_type": "code",
   "execution_count": 6,
   "id": "0b8ee4d1-e043-4c13-95f3-c19f08f935de",
   "metadata": {},
   "outputs": [
    {
     "name": "stdout",
     "output_type": "stream",
     "text": [
      "Length of df2023_04: 43582\n",
      "Length of df2023_05: 39719\n",
      "Length of df2023_06: 39453\n",
      "Length of df2023_07: 39202\n",
      "Length of df2023_08: 39319\n",
      "Length of df2023_09: 43729\n",
      "Length of df2023_10: 39627\n",
      "Length of df2023_11: 43566\n",
      "Length of df2023_12: 38792\n",
      "Length of df2024_01: 43241\n",
      "Length of df2024_02: 43303\n",
      "Length of df2024_03: 39160\n"
     ]
    }
   ],
   "source": [
    "# List of DataFrames\n",
    "dataframes = [\n",
    "    df2023_08, df2024_01, df2023_09, df2024_02, df2024_03,\n",
    "    df2023_07, df2023_12, df2023_06, df2023_10, df2023_04,\n",
    "    df2023_05, df2023_11\n",
    "]\n",
    "\n",
    "# Dictionary to hold the names and lengths\n",
    "df_lengths = {}\n",
    "\n",
    "# Iterate through the DataFrames and print their lengths\n",
    "for i, df in enumerate(dataframes, start=4):\n",
    "    month_year = f\"df2023_{i:02}\" if i < 13 else f\"df2024_{i - 12:02}\"\n",
    "    df_lengths[month_year] = len(df)\n",
    "\n",
    "# Print the lengths\n",
    "for name, length in df_lengths.items():\n",
    "    print(f\"Length of {name}: {length}\")"
   ]
  },
  {
   "cell_type": "code",
   "execution_count": 8,
   "id": "3315be25",
   "metadata": {},
   "outputs": [
    {
     "name": "stdout",
     "output_type": "stream",
     "text": [
      "Missing values in df2023_04:\n",
      "id                                    0\n",
      "name                                  0\n",
      "host_id                               0\n",
      "host_name                             5\n",
      "neighbourhood_group                   0\n",
      "neighbourhood                         0\n",
      "latitude                              0\n",
      "longitude                             0\n",
      "room_type                             0\n",
      "price                                 0\n",
      "minimum_nights                        0\n",
      "number_of_reviews                     0\n",
      "last_review                       10603\n",
      "reviews_per_month                 10603\n",
      "calculated_host_listings_count        0\n",
      "availability_365                      0\n",
      "number_of_reviews_ltm                 0\n",
      "license                           43582\n",
      "dtype: int64\n",
      "\n",
      "Missing values in df2023_05:\n",
      "id                                    0\n",
      "name                                  0\n",
      "host_id                               0\n",
      "host_name                             5\n",
      "neighbourhood_group                   0\n",
      "neighbourhood                         0\n",
      "latitude                              0\n",
      "longitude                             0\n",
      "room_type                             0\n",
      "price                             10628\n",
      "minimum_nights                        0\n",
      "number_of_reviews                     0\n",
      "last_review                       11543\n",
      "reviews_per_month                 11543\n",
      "calculated_host_listings_count        0\n",
      "availability_365                      0\n",
      "number_of_reviews_ltm                 0\n",
      "license                           35027\n",
      "dtype: int64\n",
      "\n",
      "Missing values in df2023_06:\n",
      "id                                    0\n",
      "name                                  0\n",
      "host_id                               0\n",
      "host_name                             5\n",
      "neighbourhood_group                   0\n",
      "neighbourhood                         0\n",
      "latitude                              0\n",
      "longitude                             0\n",
      "room_type                             0\n",
      "price                                 0\n",
      "minimum_nights                        0\n",
      "number_of_reviews                     0\n",
      "last_review                       10241\n",
      "reviews_per_month                 10241\n",
      "calculated_host_listings_count        0\n",
      "availability_365                      0\n",
      "number_of_reviews_ltm                 0\n",
      "license                           39453\n",
      "dtype: int64\n",
      "\n",
      "Missing values in df2023_07:\n",
      "id                                    0\n",
      "name                                  0\n",
      "host_id                               0\n",
      "host_name                             5\n",
      "neighbourhood_group                   0\n",
      "neighbourhood                         0\n",
      "latitude                              0\n",
      "longitude                             0\n",
      "room_type                             0\n",
      "price                             14935\n",
      "minimum_nights                        0\n",
      "number_of_reviews                     0\n",
      "last_review                       11500\n",
      "reviews_per_month                 11500\n",
      "calculated_host_listings_count        0\n",
      "availability_365                      0\n",
      "number_of_reviews_ltm                 0\n",
      "license                           34397\n",
      "dtype: int64\n",
      "\n",
      "Missing values in df2023_08:\n",
      "id                                    0\n",
      "name                                  2\n",
      "host_id                               0\n",
      "host_name                             6\n",
      "neighbourhood_group                   0\n",
      "neighbourhood                         0\n",
      "latitude                              0\n",
      "longitude                             0\n",
      "room_type                             0\n",
      "price                             15042\n",
      "minimum_nights                        0\n",
      "number_of_reviews                     0\n",
      "last_review                       11805\n",
      "reviews_per_month                 11805\n",
      "calculated_host_listings_count        0\n",
      "availability_365                      0\n",
      "number_of_reviews_ltm                 0\n",
      "license                           34212\n",
      "dtype: int64\n",
      "\n",
      "Missing values in df2023_09:\n",
      "id                                    0\n",
      "name                                  0\n",
      "host_id                               0\n",
      "host_name                             5\n",
      "neighbourhood_group                   0\n",
      "neighbourhood                         0\n",
      "latitude                              0\n",
      "longitude                             0\n",
      "room_type                             0\n",
      "price                                 0\n",
      "minimum_nights                        0\n",
      "number_of_reviews                     0\n",
      "last_review                       10497\n",
      "reviews_per_month                 10497\n",
      "calculated_host_listings_count        0\n",
      "availability_365                      0\n",
      "number_of_reviews_ltm                 0\n",
      "license                           43729\n",
      "dtype: int64\n",
      "\n",
      "Missing values in df2023_10:\n",
      "id                                    0\n",
      "name                                  0\n",
      "host_id                               0\n",
      "host_name                            15\n",
      "neighbourhood_group                   0\n",
      "neighbourhood                         0\n",
      "latitude                              0\n",
      "longitude                             0\n",
      "room_type                             0\n",
      "price                                 0\n",
      "minimum_nights                        0\n",
      "number_of_reviews                     0\n",
      "last_review                       11480\n",
      "reviews_per_month                 11480\n",
      "calculated_host_listings_count        0\n",
      "availability_365                      0\n",
      "number_of_reviews_ltm                 0\n",
      "license                           35268\n",
      "dtype: int64\n",
      "\n",
      "Missing values in df2023_11:\n",
      "id                                    0\n",
      "name                                  0\n",
      "host_id                               0\n",
      "host_name                             5\n",
      "neighbourhood_group                   0\n",
      "neighbourhood                         0\n",
      "latitude                              0\n",
      "longitude                             0\n",
      "room_type                             0\n",
      "price                                 0\n",
      "minimum_nights                        0\n",
      "number_of_reviews                     0\n",
      "last_review                       10496\n",
      "reviews_per_month                 10496\n",
      "calculated_host_listings_count        0\n",
      "availability_365                      0\n",
      "number_of_reviews_ltm                 0\n",
      "license                           43566\n",
      "dtype: int64\n",
      "\n",
      "Missing values in df2023_12:\n",
      "id                                    0\n",
      "name                                  0\n",
      "host_id                               0\n",
      "host_name                             5\n",
      "neighbourhood_group                   0\n",
      "neighbourhood                         0\n",
      "latitude                              0\n",
      "longitude                             0\n",
      "room_type                             0\n",
      "price                                 0\n",
      "minimum_nights                        0\n",
      "number_of_reviews                     0\n",
      "last_review                       10352\n",
      "reviews_per_month                 10352\n",
      "calculated_host_listings_count        0\n",
      "availability_365                      0\n",
      "number_of_reviews_ltm                 0\n",
      "license                           35853\n",
      "dtype: int64\n",
      "\n",
      "Missing values in df2024_01:\n",
      "id                                    0\n",
      "name                                 12\n",
      "host_id                               0\n",
      "host_name                             5\n",
      "neighbourhood_group                   0\n",
      "neighbourhood                         0\n",
      "latitude                              0\n",
      "longitude                             0\n",
      "room_type                             0\n",
      "price                                 0\n",
      "minimum_nights                        0\n",
      "number_of_reviews                     0\n",
      "last_review                       10606\n",
      "reviews_per_month                 10606\n",
      "calculated_host_listings_count        0\n",
      "availability_365                      0\n",
      "number_of_reviews_ltm                 0\n",
      "license                           43240\n",
      "dtype: int64\n",
      "\n",
      "Missing values in df2024_02:\n",
      "id                                    0\n",
      "name                                  9\n",
      "host_id                               0\n",
      "host_name                             5\n",
      "neighbourhood_group                   0\n",
      "neighbourhood                         0\n",
      "latitude                              0\n",
      "longitude                             0\n",
      "room_type                             0\n",
      "price                                 0\n",
      "minimum_nights                        0\n",
      "number_of_reviews                     0\n",
      "last_review                       10436\n",
      "reviews_per_month                 10436\n",
      "calculated_host_listings_count        0\n",
      "availability_365                      0\n",
      "number_of_reviews_ltm                 0\n",
      "license                           43302\n",
      "dtype: int64\n",
      "\n",
      "Missing values in df2024_03:\n",
      "id                                    0\n",
      "name                                  0\n",
      "host_id                               0\n",
      "host_name                             5\n",
      "neighbourhood_group                   0\n",
      "neighbourhood                         0\n",
      "latitude                              0\n",
      "longitude                             0\n",
      "room_type                             0\n",
      "price                                 0\n",
      "minimum_nights                        0\n",
      "number_of_reviews                     0\n",
      "last_review                       10949\n",
      "reviews_per_month                 10949\n",
      "calculated_host_listings_count        0\n",
      "availability_365                      0\n",
      "number_of_reviews_ltm                 0\n",
      "license                           35281\n",
      "dtype: int64\n",
      "\n"
     ]
    }
   ],
   "source": [
    "df_missing_values = {}\n",
    "\n",
    "for i, df in enumerate(dataframes, start=4):\n",
    "    month_year = f\"df2023_{i:02}\" if i < 13 else f\"df2024_{i - 12:02}\"\n",
    "    df_missing_values[month_year] = df.isnull().sum()\n",
    "\n",
    "for name, missing_counts in df_missing_values.items():\n",
    "    print(f\"Missing values in {name}:\")\n",
    "    print(missing_counts)\n",
    "    print() "
   ]
  },
  {
   "cell_type": "markdown",
   "id": "a645709c",
   "metadata": {},
   "source": [
    "### Add Zipcode"
   ]
  },
  {
   "cell_type": "code",
   "execution_count": 7,
   "id": "ddbb443e",
   "metadata": {},
   "outputs": [],
   "source": [
    "NYCzipcode = gpd.read_file('./Data/ZIPCODE/ZIP_CODE_040114.shp')"
   ]
  },
  {
   "cell_type": "code",
   "execution_count": 8,
   "id": "1e4a1326",
   "metadata": {},
   "outputs": [],
   "source": [
    "df2024_01_gdf = gpd.GeoDataFrame(\n",
    "    df2024_01,\n",
    "    geometry=gpd.points_from_xy(df2024_01.longitude, df2024_01.latitude),\n",
    "    crs=\"EPSG:4326\"\n",
    ")"
   ]
  },
  {
   "cell_type": "code",
   "execution_count": 9,
   "id": "e37914d0",
   "metadata": {},
   "outputs": [],
   "source": [
    "# 2024_1 with ziocode not all data.\n",
    "df2024_01_gdf = df2024_01_gdf.to_crs(NYCzipcode.crs)\n",
    "joined_gdf = gpd.sjoin(df2024_01_gdf, NYCzipcode, how=\"left\", op=\"within\")\n",
    "unique_zipcodes = joined_gdf.reset_index().groupby('index').first()\n",
    "airbnb202401_with_zip = df2024_01.merge(unique_zipcodes[['ZIPCODE']], left_index=True, right_index=True, how='left')\n"
   ]
  },
  {
   "cell_type": "code",
   "execution_count": 10,
   "id": "2a7753bd",
   "metadata": {
    "scrolled": true
   },
   "outputs": [
    {
     "data": {
      "text/plain": [
       "39719"
      ]
     },
     "execution_count": 10,
     "metadata": {},
     "output_type": "execute_result"
    }
   ],
   "source": [
    "#Removing the Duplicates if any\n",
    "airbnb202401_with_zip.duplicated().sum()\n",
    "airbnb202401_with_zip.drop_duplicates(inplace=True)\n",
    "len(airbnb202401_with_zip)"
   ]
  },
  {
   "cell_type": "code",
   "execution_count": 11,
   "id": "8077b607",
   "metadata": {},
   "outputs": [
    {
     "data": {
      "text/plain": [
       "Index(['id', 'name', 'host_id', 'host_name', 'neighbourhood_group',\n",
       "       'neighbourhood', 'latitude', 'longitude', 'room_type', 'price',\n",
       "       'minimum_nights', 'number_of_reviews', 'last_review',\n",
       "       'reviews_per_month', 'calculated_host_listings_count',\n",
       "       'availability_365', 'number_of_reviews_ltm', 'license', 'ZIPCODE'],\n",
       "      dtype='object')"
      ]
     },
     "execution_count": 11,
     "metadata": {},
     "output_type": "execute_result"
    }
   ],
   "source": [
    "airbnb202401_with_zip.columns"
   ]
  },
  {
   "cell_type": "markdown",
   "id": "4d89cf9d",
   "metadata": {},
   "source": [
    "### Crime Data"
   ]
  },
  {
   "cell_type": "code",
   "execution_count": null,
   "id": "118c21a1",
   "metadata": {},
   "outputs": [],
   "source": [
    "file_path_crimes = os.path.join(data_folder, 'NYPD_Hate_Crimes_20240305.csv')\n",
    "crimes = pd.read_csv(file_path_crimes)\n",
    "crimes.head()"
   ]
  },
  {
   "cell_type": "markdown",
   "id": "356d6eb1",
   "metadata": {},
   "source": [
    "## Descriptive Analysis"
   ]
  },
  {
   "cell_type": "code",
   "execution_count": null,
   "id": "fb67f55a",
   "metadata": {},
   "outputs": [],
   "source": [
    "crimes.dtypes"
   ]
  },
  {
   "cell_type": "code",
   "execution_count": null,
   "id": "29617010",
   "metadata": {},
   "outputs": [],
   "source": [
    "crimes.County.unique()"
   ]
  },
  {
   "cell_type": "code",
   "execution_count": null,
   "id": "54828439",
   "metadata": {},
   "outputs": [],
   "source": [
    "airbnb202401_with_zip.neighbourhood_group.unique()"
   ]
  },
  {
   "cell_type": "code",
   "execution_count": null,
   "id": "a7b20047",
   "metadata": {},
   "outputs": [],
   "source": [
    "# Kings= Brooklyn, RichMond= Staten Island\n",
    "county_to_borough = {\n",
    "    'KINGS': 'Brooklyn',\n",
    "    'NEW YORK': 'Manhattan',\n",
    "    'QUEENS': 'Queens',\n",
    "    'BRONX': 'Bronx',\n",
    "    'RICHMOND': 'Staten Island'\n",
    "}\n",
    "\n",
    "# Replace the county names with borough names in the 'County' column\n",
    "crimes['County'] = crimes['County'].replace(county_to_borough)"
   ]
  },
  {
   "cell_type": "code",
   "execution_count": null,
   "id": "7c280dea",
   "metadata": {},
   "outputs": [],
   "source": [
    "crimes.County.unique()"
   ]
  },
  {
   "cell_type": "code",
   "execution_count": null,
   "id": "fa1965e2",
   "metadata": {},
   "outputs": [],
   "source": [
    "crimes.shape"
   ]
  },
  {
   "cell_type": "markdown",
   "id": "ca79081c",
   "metadata": {},
   "source": [
    "### Rental Income"
   ]
  },
  {
   "cell_type": "code",
   "execution_count": null,
   "id": "f38d1f75",
   "metadata": {},
   "outputs": [],
   "source": [
    "rental = pd.read_csv(\"./Data/DOF_Condominium_Comparable_Rental_Income_in_NYC_20231211.csv\")"
   ]
  },
  {
   "cell_type": "code",
   "execution_count": null,
   "id": "20477867",
   "metadata": {},
   "outputs": [],
   "source": [
    "rental_gross_income = rental.groupby(['Neighborhood']).agg({'Gross Income per SqFt': 'mean'})\n",
    "rental_gross_income.sort_index(inplace=True)\n",
    "rental_gross_income.head()"
   ]
  },
  {
   "cell_type": "code",
   "execution_count": null,
   "id": "73a78b9c",
   "metadata": {},
   "outputs": [],
   "source": [
    "airbnb_neighbor_price = df2024_01.groupby(['neighbourhood']).agg({'price': 'mean'})\n",
    "airbnb_neighbor_price.head()"
   ]
  },
  {
   "cell_type": "code",
   "execution_count": null,
   "id": "387b39ff",
   "metadata": {},
   "outputs": [],
   "source": [
    "airbnb_neighbor_price.index = airbnb_neighbor_price.index.str.upper()\n",
    "filtered_rental_gross_income = rental_gross_income[rental_gross_income.index.isin(airbnb_neighbor_price.index)]\n",
    "filtered_rental_gross_income.head()"
   ]
  },
  {
   "cell_type": "code",
   "execution_count": null,
   "id": "975114f2",
   "metadata": {},
   "outputs": [],
   "source": [
    "Rental_marketvalue = rental.groupby(['Neighborhood']).agg({'Market Value per SqFt': 'mean'})\n",
    "filtered_Rental_marketvalue = Rental_marketvalue[Rental_marketvalue.index.isin(airbnb_neighbor_price.index)]\n",
    "filtered_Rental_marketvalue.head()"
   ]
  },
  {
   "cell_type": "markdown",
   "id": "8388d07f",
   "metadata": {},
   "source": [
    "## Exploratory Analysis"
   ]
  },
  {
   "cell_type": "markdown",
   "id": "a1c4371a",
   "metadata": {},
   "source": [
    "(目前只做了202401 后面需要可以直接copy代码改数)"
   ]
  },
  {
   "cell_type": "code",
   "execution_count": null,
   "id": "2f4e3a7d",
   "metadata": {},
   "outputs": [],
   "source": [
    "#drop unnecessary columns\n",
    "df2024_01.drop(['name','id','host_name','last_review','number_of_reviews_ltm', 'license'], axis=1, inplace=True)\n",
    "df2024_01.columns"
   ]
  },
  {
   "cell_type": "code",
   "execution_count": null,
   "id": "58c97fe1",
   "metadata": {},
   "outputs": [],
   "source": [
    "#select the number columns\n",
    "numeric_df = df2024_01.select_dtypes(include=[np.number])\n"
   ]
  },
  {
   "cell_type": "markdown",
   "id": "89ea632b",
   "metadata": {},
   "source": [
    "Get Correlation between different variables"
   ]
  },
  {
   "cell_type": "code",
   "execution_count": null,
   "id": "7e5431bd",
   "metadata": {},
   "outputs": [],
   "source": [
    "corr = numeric_df.corr(method='kendall')\n",
    "plt.figure(figsize=(15,8))\n",
    "sns.heatmap(corr, annot=True)"
   ]
  },
  {
   "cell_type": "markdown",
   "id": "f0d2e1a7",
   "metadata": {},
   "source": [
    "Plot all Neighbourhood Group"
   ]
  },
  {
   "cell_type": "code",
   "execution_count": null,
   "id": "a7148fdc",
   "metadata": {},
   "outputs": [],
   "source": [
    "sns.countplot(x='neighbourhood_group', data=df2024_01, palette=\"plasma\")\n",
    "fig = plt.gcf()\n",
    "fig.set_size_inches(10,10)\n",
    "plt.title('Neighbourhood Group')"
   ]
  },
  {
   "cell_type": "markdown",
   "id": "3755754c",
   "metadata": {},
   "source": [
    "Neighbourhood"
   ]
  },
  {
   "cell_type": "code",
   "execution_count": null,
   "id": "15f91230",
   "metadata": {},
   "outputs": [],
   "source": [
    "sns.countplot(x='neighbourhood', data=df2024_01, palette=\"plasma\")\n",
    "fig = plt.gcf()\n",
    "fig.set_size_inches(25,6)\n",
    "plt.title('Neighbourhood')\n"
   ]
  },
  {
   "cell_type": "code",
   "execution_count": null,
   "id": "7964a56f",
   "metadata": {},
   "outputs": [],
   "source": [
    "df2024_01['neighbourhood'] = df2024_01['neighbourhood'].astype(str)"
   ]
  },
  {
   "cell_type": "markdown",
   "id": "9a5c431d",
   "metadata": {},
   "source": [
    "Room Type"
   ]
  },
  {
   "cell_type": "code",
   "execution_count": null,
   "id": "ad19c85e",
   "metadata": {},
   "outputs": [],
   "source": [
    "#Restaurants delivering Online or not\n",
    "sns.countplot(x='room_type', data=df2024_01, palette=\"plasma\")\n",
    "fig = plt.gcf()\n",
    "fig.set_size_inches(10,10)\n",
    "plt.title('Restaurants delivering online or Not')"
   ]
  },
  {
   "cell_type": "markdown",
   "id": "008d6fbf",
   "metadata": {},
   "source": [
    "Relation between neighbourgroup and Availability of Room¶\n"
   ]
  },
  {
   "cell_type": "code",
   "execution_count": null,
   "id": "9c1a560b",
   "metadata": {},
   "outputs": [],
   "source": [
    "plt.figure(figsize=(10,10))\n",
    "ax = sns.boxplot(data=df2024_01, x='neighbourhood_group',y='availability_365',palette='plasma')"
   ]
  },
  {
   "cell_type": "code",
   "execution_count": null,
   "id": "70804568",
   "metadata": {},
   "outputs": [],
   "source": [
    "plt.figure(figsize=(10,6))\n",
    "sns.scatterplot(x=df2024_01['longitude'], y=df2024_01['latitude'], hue=df2024_01['neighbourhood_group'])\n",
    "plt.ioff()"
   ]
  },
  {
   "cell_type": "code",
   "execution_count": null,
   "id": "29af5326",
   "metadata": {},
   "outputs": [],
   "source": [
    "plt.figure(figsize=(10,6))\n",
    "sns.scatterplot(x=df2024_01['longitude'], y=df2024_01['latitude'], hue=df2024_01['availability_365'])\n",
    "plt.ioff()"
   ]
  },
  {
   "cell_type": "code",
   "execution_count": null,
   "id": "76dc93bf",
   "metadata": {},
   "outputs": [],
   "source": [
    "df2024_01\n",
    "#发现availability_365数据有问题"
   ]
  },
  {
   "cell_type": "markdown",
   "id": "81176605",
   "metadata": {},
   "source": [
    "### Time Series"
   ]
  },
  {
   "cell_type": "markdown",
   "id": "06e91e6b",
   "metadata": {},
   "source": [
    "### PCA..."
   ]
  },
  {
   "cell_type": "code",
   "execution_count": null,
   "id": "7751f2fd",
   "metadata": {},
   "outputs": [],
   "source": [
    "df2024_01.head()"
   ]
  },
  {
   "cell_type": "markdown",
   "id": "4e9bf330",
   "metadata": {},
   "source": [
    "## Nueral Nets"
   ]
  },
  {
   "cell_type": "code",
   "execution_count": 12,
   "id": "814853b3",
   "metadata": {},
   "outputs": [],
   "source": [
    "airbnb202401_with_zip.to_csv('airbnb_data_processed.csv', index=False)"
   ]
  },
  {
   "cell_type": "code",
   "execution_count": 13,
   "id": "91befaef",
   "metadata": {
    "scrolled": true
   },
   "outputs": [
    {
     "data": {
      "text/html": [
       "<div>\n",
       "<style scoped>\n",
       "    .dataframe tbody tr th:only-of-type {\n",
       "        vertical-align: middle;\n",
       "    }\n",
       "\n",
       "    .dataframe tbody tr th {\n",
       "        vertical-align: top;\n",
       "    }\n",
       "\n",
       "    .dataframe thead th {\n",
       "        text-align: right;\n",
       "    }\n",
       "</style>\n",
       "<table border=\"1\" class=\"dataframe\">\n",
       "  <thead>\n",
       "    <tr style=\"text-align: right;\">\n",
       "      <th></th>\n",
       "      <th>id</th>\n",
       "      <th>name</th>\n",
       "      <th>host_id</th>\n",
       "      <th>host_name</th>\n",
       "      <th>neighbourhood_group</th>\n",
       "      <th>neighbourhood</th>\n",
       "      <th>latitude</th>\n",
       "      <th>longitude</th>\n",
       "      <th>room_type</th>\n",
       "      <th>price</th>\n",
       "      <th>minimum_nights</th>\n",
       "      <th>number_of_reviews</th>\n",
       "      <th>last_review</th>\n",
       "      <th>reviews_per_month</th>\n",
       "      <th>calculated_host_listings_count</th>\n",
       "      <th>availability_365</th>\n",
       "      <th>number_of_reviews_ltm</th>\n",
       "      <th>license</th>\n",
       "      <th>ZIPCODE</th>\n",
       "    </tr>\n",
       "  </thead>\n",
       "  <tbody>\n",
       "    <tr>\n",
       "      <th>0</th>\n",
       "      <td>21935608</td>\n",
       "      <td>Rental unit in New York · ★4.67 · 1 bedroom · ...</td>\n",
       "      <td>5448955</td>\n",
       "      <td>Mike</td>\n",
       "      <td>Manhattan</td>\n",
       "      <td>East Village</td>\n",
       "      <td>40.73179</td>\n",
       "      <td>-73.98679</td>\n",
       "      <td>Entire home/apt</td>\n",
       "      <td>NaN</td>\n",
       "      <td>30</td>\n",
       "      <td>15</td>\n",
       "      <td>2019-08-25</td>\n",
       "      <td>0.20</td>\n",
       "      <td>1</td>\n",
       "      <td>0</td>\n",
       "      <td>0</td>\n",
       "      <td>NaN</td>\n",
       "      <td>10003.0</td>\n",
       "    </tr>\n",
       "    <tr>\n",
       "      <th>1</th>\n",
       "      <td>743430766348459803</td>\n",
       "      <td>Rental unit in Brooklyn · 1 bedroom · 1 bed · ...</td>\n",
       "      <td>83422715</td>\n",
       "      <td>D</td>\n",
       "      <td>Brooklyn</td>\n",
       "      <td>Flatbush</td>\n",
       "      <td>40.65375</td>\n",
       "      <td>-73.95502</td>\n",
       "      <td>Entire home/apt</td>\n",
       "      <td>289.0</td>\n",
       "      <td>30</td>\n",
       "      <td>0</td>\n",
       "      <td>NaN</td>\n",
       "      <td>NaN</td>\n",
       "      <td>1</td>\n",
       "      <td>365</td>\n",
       "      <td>0</td>\n",
       "      <td>NaN</td>\n",
       "      <td>11226.0</td>\n",
       "    </tr>\n",
       "    <tr>\n",
       "      <th>2</th>\n",
       "      <td>22122723</td>\n",
       "      <td>Rental unit in New York · 1 bedroom · 1 bed · ...</td>\n",
       "      <td>43719554</td>\n",
       "      <td>Bersabel</td>\n",
       "      <td>Manhattan</td>\n",
       "      <td>Harlem</td>\n",
       "      <td>40.82440</td>\n",
       "      <td>-73.94598</td>\n",
       "      <td>Private room</td>\n",
       "      <td>NaN</td>\n",
       "      <td>30</td>\n",
       "      <td>0</td>\n",
       "      <td>NaN</td>\n",
       "      <td>NaN</td>\n",
       "      <td>1</td>\n",
       "      <td>0</td>\n",
       "      <td>0</td>\n",
       "      <td>NaN</td>\n",
       "      <td>10031.0</td>\n",
       "    </tr>\n",
       "    <tr>\n",
       "      <th>3</th>\n",
       "      <td>22434861</td>\n",
       "      <td>Rental unit in Brooklyn · 3 bedrooms · 4 beds ...</td>\n",
       "      <td>5925222</td>\n",
       "      <td>Sophia</td>\n",
       "      <td>Brooklyn</td>\n",
       "      <td>Bushwick</td>\n",
       "      <td>40.69020</td>\n",
       "      <td>-73.91782</td>\n",
       "      <td>Entire home/apt</td>\n",
       "      <td>NaN</td>\n",
       "      <td>30</td>\n",
       "      <td>1</td>\n",
       "      <td>2018-01-01</td>\n",
       "      <td>0.01</td>\n",
       "      <td>1</td>\n",
       "      <td>0</td>\n",
       "      <td>0</td>\n",
       "      <td>NaN</td>\n",
       "      <td>11221.0</td>\n",
       "    </tr>\n",
       "    <tr>\n",
       "      <th>4</th>\n",
       "      <td>35713272</td>\n",
       "      <td>Rental unit in New York · 1 bedroom · 1 bed · ...</td>\n",
       "      <td>268631641</td>\n",
       "      <td>Harris</td>\n",
       "      <td>Manhattan</td>\n",
       "      <td>East Village</td>\n",
       "      <td>40.72385</td>\n",
       "      <td>-73.97695</td>\n",
       "      <td>Private room</td>\n",
       "      <td>NaN</td>\n",
       "      <td>30</td>\n",
       "      <td>1</td>\n",
       "      <td>2019-06-20</td>\n",
       "      <td>0.02</td>\n",
       "      <td>1</td>\n",
       "      <td>0</td>\n",
       "      <td>0</td>\n",
       "      <td>NaN</td>\n",
       "      <td>10009.0</td>\n",
       "    </tr>\n",
       "  </tbody>\n",
       "</table>\n",
       "</div>"
      ],
      "text/plain": [
       "                   id                                               name  \\\n",
       "0            21935608  Rental unit in New York · ★4.67 · 1 bedroom · ...   \n",
       "1  743430766348459803  Rental unit in Brooklyn · 1 bedroom · 1 bed · ...   \n",
       "2            22122723  Rental unit in New York · 1 bedroom · 1 bed · ...   \n",
       "3            22434861  Rental unit in Brooklyn · 3 bedrooms · 4 beds ...   \n",
       "4            35713272  Rental unit in New York · 1 bedroom · 1 bed · ...   \n",
       "\n",
       "     host_id host_name neighbourhood_group neighbourhood  latitude  longitude  \\\n",
       "0    5448955      Mike           Manhattan  East Village  40.73179  -73.98679   \n",
       "1   83422715         D            Brooklyn      Flatbush  40.65375  -73.95502   \n",
       "2   43719554  Bersabel           Manhattan        Harlem  40.82440  -73.94598   \n",
       "3    5925222    Sophia            Brooklyn      Bushwick  40.69020  -73.91782   \n",
       "4  268631641    Harris           Manhattan  East Village  40.72385  -73.97695   \n",
       "\n",
       "         room_type  price  minimum_nights  number_of_reviews last_review  \\\n",
       "0  Entire home/apt    NaN              30                 15  2019-08-25   \n",
       "1  Entire home/apt  289.0              30                  0         NaN   \n",
       "2     Private room    NaN              30                  0         NaN   \n",
       "3  Entire home/apt    NaN              30                  1  2018-01-01   \n",
       "4     Private room    NaN              30                  1  2019-06-20   \n",
       "\n",
       "   reviews_per_month  calculated_host_listings_count  availability_365  \\\n",
       "0               0.20                               1                 0   \n",
       "1                NaN                               1               365   \n",
       "2                NaN                               1                 0   \n",
       "3               0.01                               1                 0   \n",
       "4               0.02                               1                 0   \n",
       "\n",
       "   number_of_reviews_ltm license  ZIPCODE  \n",
       "0                      0     NaN  10003.0  \n",
       "1                      0     NaN  11226.0  \n",
       "2                      0     NaN  10031.0  \n",
       "3                      0     NaN  11221.0  \n",
       "4                      0     NaN  10009.0  "
      ]
     },
     "execution_count": 13,
     "metadata": {},
     "output_type": "execute_result"
    }
   ],
   "source": [
    "import pandas as pd\n",
    "import numpy as np\n",
    "import torch\n",
    "import torch.nn as nn\n",
    "import torch.optim as optim\n",
    "from sklearn.model_selection import train_test_split\n",
    "from sklearn.preprocessing import StandardScaler\n",
    "from sklearn.metrics import mean_squared_error\n",
    "\n",
    "airbnb_data = pd.read_csv('airbnb_data_processed.csv')\n",
    "airbnb_data.head()"
   ]
  },
  {
   "cell_type": "code",
   "execution_count": 14,
   "id": "5e404bd4",
   "metadata": {
    "scrolled": false
   },
   "outputs": [
    {
     "data": {
      "text/plain": [
       "Index(['id', 'name', 'host_id', 'host_name', 'neighbourhood_group',\n",
       "       'neighbourhood', 'latitude', 'longitude', 'room_type', 'price',\n",
       "       'minimum_nights', 'number_of_reviews', 'last_review',\n",
       "       'reviews_per_month', 'calculated_host_listings_count',\n",
       "       'availability_365', 'number_of_reviews_ltm', 'license', 'ZIPCODE'],\n",
       "      dtype='object')"
      ]
     },
     "execution_count": 14,
     "metadata": {},
     "output_type": "execute_result"
    }
   ],
   "source": [
    "airbnb_data.columns"
   ]
  },
  {
   "cell_type": "code",
   "execution_count": 15,
   "id": "2a065dcc",
   "metadata": {},
   "outputs": [],
   "source": [
    "# airbnb_data = airbnb_data.drop([\"license\"], axis = 1)\n",
    "airbnb_data = airbnb_data.drop([\"id\"], axis = 1)\n",
    "airbnb_data = airbnb_data.drop([\"host_id\"], axis = 1)"
   ]
  },
  {
   "cell_type": "code",
   "execution_count": 16,
   "id": "320bd905",
   "metadata": {
    "scrolled": false
   },
   "outputs": [],
   "source": [
    "airbnb_data.rename(columns={'neighbourhood_group': 'borough'}, inplace=True)"
   ]
  },
  {
   "cell_type": "code",
   "execution_count": 17,
   "id": "cd2f06ac",
   "metadata": {},
   "outputs": [
    {
     "data": {
      "text/plain": [
       "Index(['name', 'host_name', 'borough', 'neighbourhood', 'latitude',\n",
       "       'longitude', 'room_type', 'price', 'minimum_nights',\n",
       "       'number_of_reviews', 'last_review', 'reviews_per_month',\n",
       "       'calculated_host_listings_count', 'availability_365',\n",
       "       'number_of_reviews_ltm', 'license', 'ZIPCODE'],\n",
       "      dtype='object')"
      ]
     },
     "execution_count": 17,
     "metadata": {},
     "output_type": "execute_result"
    }
   ],
   "source": [
    "airbnb_data.columns"
   ]
  },
  {
   "cell_type": "code",
   "execution_count": 18,
   "id": "1dbdcfce",
   "metadata": {},
   "outputs": [
    {
     "data": {
      "text/plain": [
       "0        1\n",
       "1        1\n",
       "2        1\n",
       "3        1\n",
       "4        1\n",
       "        ..\n",
       "39714    1\n",
       "39715    1\n",
       "39716    1\n",
       "39717    1\n",
       "39718    1\n",
       "Name: calculated_host_listings_count, Length: 39719, dtype: int64"
      ]
     },
     "execution_count": 18,
     "metadata": {},
     "output_type": "execute_result"
    }
   ],
   "source": [
    "airbnb_data.calculated_host_listings_count"
   ]
  },
  {
   "cell_type": "code",
   "execution_count": 159,
   "id": "b9476a2e",
   "metadata": {
    "scrolled": true
   },
   "outputs": [
    {
     "data": {
      "text/plain": [
       "name                               object\n",
       "host_name                          object\n",
       "borough                            object\n",
       "neighbourhood                      object\n",
       "latitude                          float64\n",
       "longitude                         float64\n",
       "room_type                          object\n",
       "price                             float64\n",
       "minimum_nights                      int64\n",
       "number_of_reviews                   int64\n",
       "last_review                        object\n",
       "reviews_per_month                 float64\n",
       "calculated_host_listings_count      int64\n",
       "availability_365                    int64\n",
       "number_of_reviews_ltm               int64\n",
       "license                            object\n",
       "ZIPCODE                           float64\n",
       "dtype: object"
      ]
     },
     "execution_count": 159,
     "metadata": {},
     "output_type": "execute_result"
    }
   ],
   "source": [
    "airbnb_data.dtypes"
   ]
  },
  {
   "cell_type": "code",
   "execution_count": 22,
   "id": "480866b2",
   "metadata": {},
   "outputs": [
    {
     "data": {
      "text/plain": [
       "Index(['name', 'host_name', 'borough', 'neighbourhood', 'latitude',\n",
       "       'longitude', 'room_type', 'price', 'minimum_nights',\n",
       "       'number_of_reviews', 'last_review', 'reviews_per_month',\n",
       "       'calculated_host_listings_count', 'availability_365',\n",
       "       'number_of_reviews_ltm', 'license', 'ZIPCODE'],\n",
       "      dtype='object')"
      ]
     },
     "execution_count": 22,
     "metadata": {},
     "output_type": "execute_result"
    }
   ],
   "source": [
    "airbnb_data.columns"
   ]
  },
  {
   "cell_type": "code",
   "execution_count": 23,
   "id": "14cfd47a",
   "metadata": {},
   "outputs": [],
   "source": [
    "airbnb_data.last_review = pd.to_datetime(airbnb_data.last_review )"
   ]
  },
  {
   "cell_type": "code",
   "execution_count": 26,
   "id": "304f2b50",
   "metadata": {},
   "outputs": [],
   "source": [
    "airbnb_data['days_since_last_review'] = (pd.to_datetime('today') - airbnb_data['last_review']).dt.days"
   ]
  },
  {
   "cell_type": "code",
   "execution_count": 32,
   "id": "413f2097",
   "metadata": {
    "scrolled": false
   },
   "outputs": [
    {
     "name": "stdout",
     "output_type": "stream",
     "text": [
      "Dimension of categorical_features: 2\n",
      "Dimension of numerical_features: 2\n",
      "Shape of categorical features: (39719, 21437)\n",
      "Shape of numerical features: (39719, 10)\n",
      "Shape of combined features (X): (39719, 21447)\n"
     ]
    }
   ],
   "source": [
    "encoder = OneHotEncoder(sparse_output=True)\n",
    "categorical_features = encoder.fit_transform(airbnb_data[['room_type', 'host_name', 'name', \n",
    "                                                          'neighbourhood', 'borough', 'ZIPCODE']])\n",
    "\n",
    "categorical_features_dense = categorical_features.toarray()\n",
    "feature_names = encoder.get_feature_names_out()\n",
    "categorical_features_df = pd.DataFrame(categorical_features_dense, columns=feature_names)\n",
    "scaler = StandardScaler()\n",
    "numerical_features = scaler.fit_transform(airbnb_data[['latitude', 'longitude', 'price', \n",
    "                                                       'minimum_nights', 'number_of_reviews',\n",
    "                                                       'reviews_per_month', 'calculated_host_listings_count',\n",
    "                                                       'availability_365', 'number_of_reviews_ltm',\n",
    "                                                       'days_since_last_review']])\n",
    "\n",
    "\n",
    "print('Dimension of categorical_features:', categorical_features.ndim)\n",
    "print('Dimension of numerical_features:', numerical_features.ndim)\n",
    "print('Shape of categorical features:', categorical_features.shape)\n",
    "print('Shape of numerical features:', numerical_features.shape)\n",
    "\n",
    "\n",
    "categorical_features = np.array(categorical_features_dense)\n",
    "numerical_features = np.array(numerical_features)\n",
    "\n",
    "X = np.hstack((categorical_features, numerical_features))\n",
    "\n",
    "print('Shape of combined features (X):', X.shape)\n"
   ]
  },
  {
   "cell_type": "code",
   "execution_count": 31,
   "id": "3a8ebbf1",
   "metadata": {
    "scrolled": true
   },
   "outputs": [
    {
     "data": {
      "text/plain": [
       "(39719, 21447)"
      ]
     },
     "execution_count": 31,
     "metadata": {},
     "output_type": "execute_result"
    }
   ],
   "source": [
    "X.shape"
   ]
  },
  {
   "cell_type": "code",
   "execution_count": 35,
   "id": "45dcdfbe",
   "metadata": {},
   "outputs": [],
   "source": [
    "from sklearn.model_selection import train_test_split\n",
    "\n",
    "X_train, X_test, y_train, y_test = train_test_split(X, airbnb_data['price'], test_size=0.2, random_state=42)\n"
   ]
  },
  {
   "cell_type": "code",
   "execution_count": 37,
   "id": "0348ba7d",
   "metadata": {},
   "outputs": [],
   "source": [
    "# scaling\n",
    "scaler = StandardScaler()\n",
    "X_train_scaled = scaler.fit_transform(X_train)\n",
    "X_test_scaled = scaler.transform(X_test)\n",
    "\n",
    "\n",
    "X_train_tensor = torch.tensor(X_train_scaled, dtype=torch.float32)\n",
    "X_test_tensor = torch.tensor(X_test_scaled, dtype=torch.float32)\n",
    "y_train_tensor = torch.tensor(y_train.values, dtype=torch.float32).view(-1, 1)  \n",
    "y_test_tensor = torch.tensor(y_test.values, dtype=torch.float32).view(-1, 1)  \n"
   ]
  },
  {
   "cell_type": "code",
   "execution_count": 38,
   "id": "933f43cd",
   "metadata": {},
   "outputs": [],
   "source": [
    "train_dataset = TensorDataset(X_train_tensor, y_train_tensor)\n",
    "test_dataset = TensorDataset(X_test_tensor, y_test_tensor)"
   ]
  },
  {
   "cell_type": "code",
   "execution_count": 39,
   "id": "f0c50d9b",
   "metadata": {},
   "outputs": [],
   "source": [
    "train_loader = DataLoader(train_dataset, batch_size=32, shuffle=True)\n",
    "test_loader = DataLoader(test_dataset, batch_size=32, shuffle=False)"
   ]
  },
  {
   "cell_type": "code",
   "execution_count": 42,
   "id": "bf9ca78a",
   "metadata": {},
   "outputs": [],
   "source": [
    "# Nueral Nets 1\n",
    "class AirbnbPricePredictor(nn.Module):\n",
    "    def __init__(self, input_size):\n",
    "        super(AirbnbPricePredictor, self).__init__()\n",
    "        self.fc1 = nn.Linear(input_size, 64)\n",
    "        self.fc2 = nn.Linear(64, 32)\n",
    "        self.fc3 = nn.Linear(32, 1)\n",
    "\n",
    "    def forward(self, x):\n",
    "        x = torch.relu(self.fc1(x))\n",
    "        x = torch.relu(self.fc2(x))\n",
    "        x = self.fc3(x)\n",
    "        return x\n",
    "\n",
    "input_size = X_train_tensor.shape[1]\n",
    "model = AirbnbPricePredictor(input_size)\n",
    "\n",
    "criterion = nn.MSELoss()\n",
    "optimizer = optim.Adam(model.parameters(), lr=0.001)"
   ]
  },
  {
   "cell_type": "code",
   "execution_count": 43,
   "id": "6ae7879a",
   "metadata": {},
   "outputs": [
    {
     "name": "stdout",
     "output_type": "stream",
     "text": [
      "Epoch [10/100], Loss: nan\n"
     ]
    },
    {
     "ename": "KeyboardInterrupt",
     "evalue": "",
     "output_type": "error",
     "traceback": [
      "\u001b[0;31m---------------------------------------------------------------------------\u001b[0m",
      "\u001b[0;31mKeyboardInterrupt\u001b[0m                         Traceback (most recent call last)",
      "Cell \u001b[0;32mIn[43], line 8\u001b[0m\n\u001b[1;32m      6\u001b[0m outputs \u001b[38;5;241m=\u001b[39m model(X_train_tensor)\n\u001b[1;32m      7\u001b[0m loss \u001b[38;5;241m=\u001b[39m criterion(outputs, y_train_tensor)\n\u001b[0;32m----> 8\u001b[0m loss\u001b[38;5;241m.\u001b[39mbackward()\n\u001b[1;32m      9\u001b[0m optimizer\u001b[38;5;241m.\u001b[39mstep()\n\u001b[1;32m     11\u001b[0m \u001b[38;5;28;01mif\u001b[39;00m (epoch\u001b[38;5;241m+\u001b[39m\u001b[38;5;241m1\u001b[39m) \u001b[38;5;241m%\u001b[39m \u001b[38;5;241m10\u001b[39m \u001b[38;5;241m==\u001b[39m \u001b[38;5;241m0\u001b[39m:\n",
      "File \u001b[0;32m~/anaconda3/lib/python3.11/site-packages/torch/_tensor.py:492\u001b[0m, in \u001b[0;36mTensor.backward\u001b[0;34m(self, gradient, retain_graph, create_graph, inputs)\u001b[0m\n\u001b[1;32m    482\u001b[0m \u001b[38;5;28;01mif\u001b[39;00m has_torch_function_unary(\u001b[38;5;28mself\u001b[39m):\n\u001b[1;32m    483\u001b[0m     \u001b[38;5;28;01mreturn\u001b[39;00m handle_torch_function(\n\u001b[1;32m    484\u001b[0m         Tensor\u001b[38;5;241m.\u001b[39mbackward,\n\u001b[1;32m    485\u001b[0m         (\u001b[38;5;28mself\u001b[39m,),\n\u001b[0;32m   (...)\u001b[0m\n\u001b[1;32m    490\u001b[0m         inputs\u001b[38;5;241m=\u001b[39minputs,\n\u001b[1;32m    491\u001b[0m     )\n\u001b[0;32m--> 492\u001b[0m torch\u001b[38;5;241m.\u001b[39mautograd\u001b[38;5;241m.\u001b[39mbackward(\n\u001b[1;32m    493\u001b[0m     \u001b[38;5;28mself\u001b[39m, gradient, retain_graph, create_graph, inputs\u001b[38;5;241m=\u001b[39minputs\n\u001b[1;32m    494\u001b[0m )\n",
      "File \u001b[0;32m~/anaconda3/lib/python3.11/site-packages/torch/autograd/__init__.py:251\u001b[0m, in \u001b[0;36mbackward\u001b[0;34m(tensors, grad_tensors, retain_graph, create_graph, grad_variables, inputs)\u001b[0m\n\u001b[1;32m    246\u001b[0m     retain_graph \u001b[38;5;241m=\u001b[39m create_graph\n\u001b[1;32m    248\u001b[0m \u001b[38;5;66;03m# The reason we repeat the same comment below is that\u001b[39;00m\n\u001b[1;32m    249\u001b[0m \u001b[38;5;66;03m# some Python versions print out the first line of a multi-line function\u001b[39;00m\n\u001b[1;32m    250\u001b[0m \u001b[38;5;66;03m# calls in the traceback and some print out the last line\u001b[39;00m\n\u001b[0;32m--> 251\u001b[0m Variable\u001b[38;5;241m.\u001b[39m_execution_engine\u001b[38;5;241m.\u001b[39mrun_backward(  \u001b[38;5;66;03m# Calls into the C++ engine to run the backward pass\u001b[39;00m\n\u001b[1;32m    252\u001b[0m     tensors,\n\u001b[1;32m    253\u001b[0m     grad_tensors_,\n\u001b[1;32m    254\u001b[0m     retain_graph,\n\u001b[1;32m    255\u001b[0m     create_graph,\n\u001b[1;32m    256\u001b[0m     inputs,\n\u001b[1;32m    257\u001b[0m     allow_unreachable\u001b[38;5;241m=\u001b[39m\u001b[38;5;28;01mTrue\u001b[39;00m,\n\u001b[1;32m    258\u001b[0m     accumulate_grad\u001b[38;5;241m=\u001b[39m\u001b[38;5;28;01mTrue\u001b[39;00m,\n\u001b[1;32m    259\u001b[0m )\n",
      "\u001b[0;31mKeyboardInterrupt\u001b[0m: "
     ]
    }
   ],
   "source": [
    "num_epochs = 100\n",
    "for epoch in range(num_epochs):\n",
    "    model.train()\n",
    "    optimizer.zero_grad()\n",
    "    outputs = model(X_train_tensor)\n",
    "    loss = criterion(outputs, y_train_tensor)\n",
    "    loss.backward()\n",
    "    optimizer.step()\n",
    "\n",
    "    if (epoch+1) % 10 == 0:\n",
    "        print(f'Epoch [{epoch+1}/{num_epochs}], Loss: {loss.item():.4f}')\n",
    "\n",
    "# evaluate\n",
    "model.eval()\n",
    "with torch.no_grad():\n",
    "    y_pred_tensor = model(X_test_tensor)\n",
    "    test_loss = criterion(y_pred_tensor, y_test_tensor)\n",
    "    print(f'Test Loss: {test_loss.item():.4f}')\n",
    "\n",
    "y_pred = y_pred_tensor.detach().numpy().flatten()\n",
    "\n",
    "rmse = np.sqrt(mean_squared_error(y_test, y_pred))\n",
    "print(f'Root Mean Squared Error (RMSE): {rmse:.2f}')\n"
   ]
  },
  {
   "cell_type": "code",
   "execution_count": 40,
   "id": "53d2f346",
   "metadata": {},
   "outputs": [],
   "source": [
    "# Neural Nets 2\n",
    "class NeuralNetwork(nn.Module):\n",
    "    def __init__(self, input_size):\n",
    "        super(NeuralNetwork, self).__init__()\n",
    "        self.fc1 = nn.Linear(input_size, 128)\n",
    "        self.dropout = nn.Dropout(0.5)  # Add dropout for regularization\n",
    "        self.fc2 = nn.Linear(128, 64)\n",
    "        self.fc3 = nn.Linear(64, 1)\n",
    "\n",
    "    def forward(self, x):\n",
    "        x = torch.relu(self.fc1(x))\n",
    "        x = self.dropout(x)\n",
    "        x = torch.relu(self.fc2(x))\n",
    "        x = self.fc3(x)\n",
    "        return x"
   ]
  },
  {
   "cell_type": "code",
   "execution_count": 41,
   "id": "92a3e1ed",
   "metadata": {},
   "outputs": [
    {
     "name": "stdout",
     "output_type": "stream",
     "text": [
      "Epoch [1/50], Training Loss: nan\n",
      "Epoch [2/50], Training Loss: nan\n",
      "Epoch [3/50], Training Loss: nan\n"
     ]
    },
    {
     "ename": "KeyboardInterrupt",
     "evalue": "",
     "output_type": "error",
     "traceback": [
      "\u001b[0;31m---------------------------------------------------------------------------\u001b[0m",
      "\u001b[0;31mKeyboardInterrupt\u001b[0m                         Traceback (most recent call last)",
      "Cell \u001b[0;32mIn[41], line 13\u001b[0m\n\u001b[1;32m     11\u001b[0m \u001b[38;5;28;01mfor\u001b[39;00m inputs, targets \u001b[38;5;129;01min\u001b[39;00m train_loader:\n\u001b[1;32m     12\u001b[0m     optimizer\u001b[38;5;241m.\u001b[39mzero_grad()\n\u001b[0;32m---> 13\u001b[0m     outputs \u001b[38;5;241m=\u001b[39m model(inputs)\n\u001b[1;32m     14\u001b[0m     loss \u001b[38;5;241m=\u001b[39m criterion(outputs, targets)\n\u001b[1;32m     15\u001b[0m     loss\u001b[38;5;241m.\u001b[39mbackward()\n",
      "File \u001b[0;32m~/anaconda3/lib/python3.11/site-packages/torch/nn/modules/module.py:1518\u001b[0m, in \u001b[0;36mModule._wrapped_call_impl\u001b[0;34m(self, *args, **kwargs)\u001b[0m\n\u001b[1;32m   1516\u001b[0m     \u001b[38;5;28;01mreturn\u001b[39;00m \u001b[38;5;28mself\u001b[39m\u001b[38;5;241m.\u001b[39m_compiled_call_impl(\u001b[38;5;241m*\u001b[39margs, \u001b[38;5;241m*\u001b[39m\u001b[38;5;241m*\u001b[39mkwargs)  \u001b[38;5;66;03m# type: ignore[misc]\u001b[39;00m\n\u001b[1;32m   1517\u001b[0m \u001b[38;5;28;01melse\u001b[39;00m:\n\u001b[0;32m-> 1518\u001b[0m     \u001b[38;5;28;01mreturn\u001b[39;00m \u001b[38;5;28mself\u001b[39m\u001b[38;5;241m.\u001b[39m_call_impl(\u001b[38;5;241m*\u001b[39margs, \u001b[38;5;241m*\u001b[39m\u001b[38;5;241m*\u001b[39mkwargs)\n",
      "File \u001b[0;32m~/anaconda3/lib/python3.11/site-packages/torch/nn/modules/module.py:1527\u001b[0m, in \u001b[0;36mModule._call_impl\u001b[0;34m(self, *args, **kwargs)\u001b[0m\n\u001b[1;32m   1522\u001b[0m \u001b[38;5;66;03m# If we don't have any hooks, we want to skip the rest of the logic in\u001b[39;00m\n\u001b[1;32m   1523\u001b[0m \u001b[38;5;66;03m# this function, and just call forward.\u001b[39;00m\n\u001b[1;32m   1524\u001b[0m \u001b[38;5;28;01mif\u001b[39;00m \u001b[38;5;129;01mnot\u001b[39;00m (\u001b[38;5;28mself\u001b[39m\u001b[38;5;241m.\u001b[39m_backward_hooks \u001b[38;5;129;01mor\u001b[39;00m \u001b[38;5;28mself\u001b[39m\u001b[38;5;241m.\u001b[39m_backward_pre_hooks \u001b[38;5;129;01mor\u001b[39;00m \u001b[38;5;28mself\u001b[39m\u001b[38;5;241m.\u001b[39m_forward_hooks \u001b[38;5;129;01mor\u001b[39;00m \u001b[38;5;28mself\u001b[39m\u001b[38;5;241m.\u001b[39m_forward_pre_hooks\n\u001b[1;32m   1525\u001b[0m         \u001b[38;5;129;01mor\u001b[39;00m _global_backward_pre_hooks \u001b[38;5;129;01mor\u001b[39;00m _global_backward_hooks\n\u001b[1;32m   1526\u001b[0m         \u001b[38;5;129;01mor\u001b[39;00m _global_forward_hooks \u001b[38;5;129;01mor\u001b[39;00m _global_forward_pre_hooks):\n\u001b[0;32m-> 1527\u001b[0m     \u001b[38;5;28;01mreturn\u001b[39;00m forward_call(\u001b[38;5;241m*\u001b[39margs, \u001b[38;5;241m*\u001b[39m\u001b[38;5;241m*\u001b[39mkwargs)\n\u001b[1;32m   1529\u001b[0m \u001b[38;5;28;01mtry\u001b[39;00m:\n\u001b[1;32m   1530\u001b[0m     result \u001b[38;5;241m=\u001b[39m \u001b[38;5;28;01mNone\u001b[39;00m\n",
      "Cell \u001b[0;32mIn[40], line 11\u001b[0m, in \u001b[0;36mNeuralNetwork.forward\u001b[0;34m(self, x)\u001b[0m\n\u001b[1;32m     10\u001b[0m \u001b[38;5;28;01mdef\u001b[39;00m \u001b[38;5;21mforward\u001b[39m(\u001b[38;5;28mself\u001b[39m, x):\n\u001b[0;32m---> 11\u001b[0m     x \u001b[38;5;241m=\u001b[39m torch\u001b[38;5;241m.\u001b[39mrelu(\u001b[38;5;28mself\u001b[39m\u001b[38;5;241m.\u001b[39mfc1(x))\n\u001b[1;32m     12\u001b[0m     x \u001b[38;5;241m=\u001b[39m \u001b[38;5;28mself\u001b[39m\u001b[38;5;241m.\u001b[39mdropout(x)\n\u001b[1;32m     13\u001b[0m     x \u001b[38;5;241m=\u001b[39m torch\u001b[38;5;241m.\u001b[39mrelu(\u001b[38;5;28mself\u001b[39m\u001b[38;5;241m.\u001b[39mfc2(x))\n",
      "File \u001b[0;32m~/anaconda3/lib/python3.11/site-packages/torch/nn/modules/module.py:1518\u001b[0m, in \u001b[0;36mModule._wrapped_call_impl\u001b[0;34m(self, *args, **kwargs)\u001b[0m\n\u001b[1;32m   1516\u001b[0m     \u001b[38;5;28;01mreturn\u001b[39;00m \u001b[38;5;28mself\u001b[39m\u001b[38;5;241m.\u001b[39m_compiled_call_impl(\u001b[38;5;241m*\u001b[39margs, \u001b[38;5;241m*\u001b[39m\u001b[38;5;241m*\u001b[39mkwargs)  \u001b[38;5;66;03m# type: ignore[misc]\u001b[39;00m\n\u001b[1;32m   1517\u001b[0m \u001b[38;5;28;01melse\u001b[39;00m:\n\u001b[0;32m-> 1518\u001b[0m     \u001b[38;5;28;01mreturn\u001b[39;00m \u001b[38;5;28mself\u001b[39m\u001b[38;5;241m.\u001b[39m_call_impl(\u001b[38;5;241m*\u001b[39margs, \u001b[38;5;241m*\u001b[39m\u001b[38;5;241m*\u001b[39mkwargs)\n",
      "File \u001b[0;32m~/anaconda3/lib/python3.11/site-packages/torch/nn/modules/module.py:1527\u001b[0m, in \u001b[0;36mModule._call_impl\u001b[0;34m(self, *args, **kwargs)\u001b[0m\n\u001b[1;32m   1522\u001b[0m \u001b[38;5;66;03m# If we don't have any hooks, we want to skip the rest of the logic in\u001b[39;00m\n\u001b[1;32m   1523\u001b[0m \u001b[38;5;66;03m# this function, and just call forward.\u001b[39;00m\n\u001b[1;32m   1524\u001b[0m \u001b[38;5;28;01mif\u001b[39;00m \u001b[38;5;129;01mnot\u001b[39;00m (\u001b[38;5;28mself\u001b[39m\u001b[38;5;241m.\u001b[39m_backward_hooks \u001b[38;5;129;01mor\u001b[39;00m \u001b[38;5;28mself\u001b[39m\u001b[38;5;241m.\u001b[39m_backward_pre_hooks \u001b[38;5;129;01mor\u001b[39;00m \u001b[38;5;28mself\u001b[39m\u001b[38;5;241m.\u001b[39m_forward_hooks \u001b[38;5;129;01mor\u001b[39;00m \u001b[38;5;28mself\u001b[39m\u001b[38;5;241m.\u001b[39m_forward_pre_hooks\n\u001b[1;32m   1525\u001b[0m         \u001b[38;5;129;01mor\u001b[39;00m _global_backward_pre_hooks \u001b[38;5;129;01mor\u001b[39;00m _global_backward_hooks\n\u001b[1;32m   1526\u001b[0m         \u001b[38;5;129;01mor\u001b[39;00m _global_forward_hooks \u001b[38;5;129;01mor\u001b[39;00m _global_forward_pre_hooks):\n\u001b[0;32m-> 1527\u001b[0m     \u001b[38;5;28;01mreturn\u001b[39;00m forward_call(\u001b[38;5;241m*\u001b[39margs, \u001b[38;5;241m*\u001b[39m\u001b[38;5;241m*\u001b[39mkwargs)\n\u001b[1;32m   1529\u001b[0m \u001b[38;5;28;01mtry\u001b[39;00m:\n\u001b[1;32m   1530\u001b[0m     result \u001b[38;5;241m=\u001b[39m \u001b[38;5;28;01mNone\u001b[39;00m\n",
      "File \u001b[0;32m~/anaconda3/lib/python3.11/site-packages/torch/nn/modules/linear.py:114\u001b[0m, in \u001b[0;36mLinear.forward\u001b[0;34m(self, input)\u001b[0m\n\u001b[1;32m    113\u001b[0m \u001b[38;5;28;01mdef\u001b[39;00m \u001b[38;5;21mforward\u001b[39m(\u001b[38;5;28mself\u001b[39m, \u001b[38;5;28minput\u001b[39m: Tensor) \u001b[38;5;241m-\u001b[39m\u001b[38;5;241m>\u001b[39m Tensor:\n\u001b[0;32m--> 114\u001b[0m     \u001b[38;5;28;01mreturn\u001b[39;00m F\u001b[38;5;241m.\u001b[39mlinear(\u001b[38;5;28minput\u001b[39m, \u001b[38;5;28mself\u001b[39m\u001b[38;5;241m.\u001b[39mweight, \u001b[38;5;28mself\u001b[39m\u001b[38;5;241m.\u001b[39mbias)\n",
      "\u001b[0;31mKeyboardInterrupt\u001b[0m: "
     ]
    }
   ],
   "source": [
    "model = NeuralNetwork(input_size=X_train.shape[1])\n",
    "criterion = nn.MSELoss()\n",
    "optimizer = optim.Adam(model.parameters(), lr=0.001)\n",
    "\n",
    "# Train the model\n",
    "writer = SummaryWriter()  \n",
    "for epoch in range(50):\n",
    "    model.train()\n",
    "    running_loss = 0.0\n",
    "    for inputs, targets in train_loader:\n",
    "        optimizer.zero_grad()\n",
    "        outputs = model(inputs)\n",
    "        loss = criterion(outputs, targets)\n",
    "        loss.backward()\n",
    "        optimizer.step()\n",
    "        running_loss += loss.item() * inputs.size(0)\n",
    "    epoch_loss = running_loss / len(train_loader.dataset)\n",
    "    writer.add_scalar('Training Loss', epoch_loss, epoch)\n",
    "    print(f'Epoch [{epoch + 1}/50], Training Loss: {epoch_loss:.4f}')\n"
   ]
  }
 ],
 "metadata": {
  "kernelspec": {
   "display_name": "Python 3 (ipykernel)",
   "language": "python",
   "name": "python3"
  },
  "language_info": {
   "codemirror_mode": {
    "name": "ipython",
    "version": 3
   },
   "file_extension": ".py",
   "mimetype": "text/x-python",
   "name": "python",
   "nbconvert_exporter": "python",
   "pygments_lexer": "ipython3",
   "version": "3.11.0"
  }
 },
 "nbformat": 4,
 "nbformat_minor": 5
}
