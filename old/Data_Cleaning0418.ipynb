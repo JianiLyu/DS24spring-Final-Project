{
 "cells": [
  {
   "cell_type": "code",
   "execution_count": 43,
   "id": "385c49a5-ac6e-4545-9780-96deb25c64ce",
   "metadata": {},
   "outputs": [],
   "source": [
    "import pandas as pd\n",
    "import numpy as np\n",
    "import datetime as dt\n",
    "import matplotlib\n",
    "import matplotlib.pyplot as plt\n",
    "import os\n",
    "import geopandas as gpd\n",
    "import seaborn as sns\n",
    "\n",
    "# suppress warning\n",
    "import warnings\n",
    "warnings.filterwarnings('ignore')\n",
    "\n",
    "import statsmodels.formula.api as smf\n",
    "import statsmodels.api as sm\n",
    "from statsmodels.tsa.seasonal import seasonal_decompose\n",
    "import scipy\n",
    "from sklearn.metrics import r2_score\n",
    "from statsmodels.graphics.tsaplots import plot_acf\n",
    "\n",
    "#import seaborn as sns\n",
    "#sns.set()\n",
    "\n",
    "%matplotlib inline"
   ]
  },
  {
   "cell_type": "markdown",
   "id": "109c282c",
   "metadata": {},
   "source": [
    "## Data Cleaning"
   ]
  },
  {
   "cell_type": "code",
   "execution_count": 44,
   "id": "5d6e1b23-ee8d-4dcb-8ff3-6974be44c861",
   "metadata": {},
   "outputs": [
    {
     "name": "stdout",
     "output_type": "stream",
     "text": [
      "df2023_08\n",
      "df2024_01\n",
      "df2023_09\n",
      "df2024_02\n",
      "df2024_03\n",
      "df2023_07\n",
      "df2023_12\n",
      "df2023_06\n",
      "df2023_10\n",
      "df2023_04\n",
      "df2023_05\n",
      "df2023_11\n"
     ]
    }
   ],
   "source": [
    "# Get the current directory\n",
    "current_directory = os.getcwd()\n",
    "\n",
    "# Define the path to the data folder\n",
    "data_folder = os.path.join(current_directory, 'data')\n",
    "\n",
    "# List all files in the data folder\n",
    "files = os.listdir(data_folder)\n",
    "\n",
    "\n",
    "# Read each CSV file in the data folder\n",
    "for file in files:\n",
    "    if file.endswith('listings2024_03.csv'):\n",
    "        print(\"df2024_03\")\n",
    "        file_path1 = os.path.join(data_folder, file)\n",
    "        df2024_03 = pd.read_csv(file_path1)\n",
    "    elif file.endswith('listings2024_02.csv'):\n",
    "        print(\"df2024_02\")\n",
    "        file_path2 = os.path.join(data_folder, file)\n",
    "        df2024_02 = pd.read_csv(file_path2)\n",
    "    elif file.endswith(\"listings2024_01.csv\"):\n",
    "        print(\"df2024_01\")\n",
    "        file_path3 = os.path.join(data_folder, file)\n",
    "        df2024_01 = pd.read_csv(file_path3)\n",
    "    elif file.endswith(\"listings2023_12.csv\"):\n",
    "        print(\"df2023_12\")\n",
    "        file_path4 = os.path.join(data_folder, file)\n",
    "        df2023_12 = pd.read_csv(file_path4)\n",
    "    elif file.endswith(\"listings2023_11.csv\"):\n",
    "        print(\"df2023_11\")\n",
    "        file_path5 = os.path.join(data_folder, file)\n",
    "        df2023_11 = pd.read_csv(file_path5)\n",
    "    elif file.endswith(\"listings2023_10.csv\"):\n",
    "        print(\"df2023_10\")\n",
    "        file_path6 = os.path.join(data_folder, file)\n",
    "        df2023_10 = pd.read_csv(file_path6)\n",
    "    elif file.endswith(\"listings2023_09.csv\"):\n",
    "        print(\"df2023_09\")\n",
    "        file_path7 = os.path.join(data_folder, file)\n",
    "        df2023_09 = pd.read_csv(file_path7)\n",
    "    elif file.endswith(\"listings2023_08.csv\"):\n",
    "        print(\"df2023_08\")\n",
    "        file_path8 = os.path.join(data_folder, file)\n",
    "        df2023_08 = pd.read_csv(file_path8)\n",
    "    elif file.endswith(\"listings2023_07.csv\"):\n",
    "        print(\"df2023_07\")\n",
    "        file_path9 = os.path.join(data_folder, file)\n",
    "        df2023_07 = pd.read_csv(file_path9)        \n",
    "    elif file.endswith(\"listings2023_06.csv\"):\n",
    "        print(\"df2023_06\")\n",
    "        file_path10 = os.path.join(data_folder, file)\n",
    "        df2023_06 = pd.read_csv(file_path10)        \n",
    "    elif file.endswith(\"listings2023_05.csv\"):\n",
    "        print(\"df2023_05\")\n",
    "        file_path11 = os.path.join(data_folder, file)\n",
    "        df2023_05 = pd.read_csv(file_path11)\n",
    "    elif file.endswith(\"listings2023_04.csv\"):\n",
    "        print(\"df2023_04\")\n",
    "        file_path12 = os.path.join(data_folder, file)\n",
    "        df2023_04 = pd.read_csv(file_path12)\n",
    "  \n",
    "    \n"
   ]
  },
  {
   "cell_type": "code",
   "execution_count": 45,
   "id": "0b8ee4d1-e043-4c13-95f3-c19f08f935de",
   "metadata": {},
   "outputs": [
    {
     "name": "stdout",
     "output_type": "stream",
     "text": [
      "Length of df2023_04: 43582\n",
      "Length of df2023_05: 39719\n",
      "Length of df2023_06: 39453\n",
      "Length of df2023_07: 39202\n",
      "Length of df2023_08: 39319\n",
      "Length of df2023_09: 43729\n",
      "Length of df2023_10: 39627\n",
      "Length of df2023_11: 43566\n",
      "Length of df2023_12: 38792\n",
      "Length of df2024_01: 43241\n",
      "Length of df2024_02: 43303\n",
      "Length of df2024_03: 39160\n"
     ]
    }
   ],
   "source": [
    "# List of DataFrames\n",
    "dataframes = [\n",
    "    df2023_08, df2024_01, df2023_09, df2024_02, df2024_03,\n",
    "    df2023_07, df2023_12, df2023_06, df2023_10, df2023_04,\n",
    "    df2023_05, df2023_11\n",
    "]\n",
    "\n",
    "# Dictionary to hold the names and lengths\n",
    "df_lengths = {}\n",
    "\n",
    "# Iterate through the DataFrames and print their lengths\n",
    "for i, df in enumerate(dataframes, start=4):\n",
    "    month_year = f\"df2023_{i:02}\" if i < 13 else f\"df2024_{i - 12:02}\"\n",
    "    df_lengths[month_year] = len(df)\n",
    "\n",
    "# Print the lengths\n",
    "for name, length in df_lengths.items():\n",
    "    print(f\"Length of {name}: {length}\")"
   ]
  },
  {
   "cell_type": "code",
   "execution_count": 46,
   "id": "3315be25",
   "metadata": {},
   "outputs": [
    {
     "name": "stdout",
     "output_type": "stream",
     "text": [
      "Missing values in df2023_04:\n",
      "id                                    0\n",
      "name                                  0\n",
      "host_id                               0\n",
      "host_name                             5\n",
      "neighbourhood_group                   0\n",
      "neighbourhood                         0\n",
      "latitude                              0\n",
      "longitude                             0\n",
      "room_type                             0\n",
      "price                                 0\n",
      "minimum_nights                        0\n",
      "number_of_reviews                     0\n",
      "last_review                       10603\n",
      "reviews_per_month                 10603\n",
      "calculated_host_listings_count        0\n",
      "availability_365                      0\n",
      "number_of_reviews_ltm                 0\n",
      "license                           43582\n",
      "dtype: int64\n",
      "\n",
      "Missing values in df2023_05:\n",
      "id                                    0\n",
      "name                                  0\n",
      "host_id                               0\n",
      "host_name                             5\n",
      "neighbourhood_group                   0\n",
      "neighbourhood                         0\n",
      "latitude                              0\n",
      "longitude                             0\n",
      "room_type                             0\n",
      "price                             10628\n",
      "minimum_nights                        0\n",
      "number_of_reviews                     0\n",
      "last_review                       11543\n",
      "reviews_per_month                 11543\n",
      "calculated_host_listings_count        0\n",
      "availability_365                      0\n",
      "number_of_reviews_ltm                 0\n",
      "license                           35027\n",
      "dtype: int64\n",
      "\n",
      "Missing values in df2023_06:\n",
      "id                                    0\n",
      "name                                  0\n",
      "host_id                               0\n",
      "host_name                             5\n",
      "neighbourhood_group                   0\n",
      "neighbourhood                         0\n",
      "latitude                              0\n",
      "longitude                             0\n",
      "room_type                             0\n",
      "price                                 0\n",
      "minimum_nights                        0\n",
      "number_of_reviews                     0\n",
      "last_review                       10241\n",
      "reviews_per_month                 10241\n",
      "calculated_host_listings_count        0\n",
      "availability_365                      0\n",
      "number_of_reviews_ltm                 0\n",
      "license                           39453\n",
      "dtype: int64\n",
      "\n",
      "Missing values in df2023_07:\n",
      "id                                    0\n",
      "name                                  0\n",
      "host_id                               0\n",
      "host_name                             5\n",
      "neighbourhood_group                   0\n",
      "neighbourhood                         0\n",
      "latitude                              0\n",
      "longitude                             0\n",
      "room_type                             0\n",
      "price                             14935\n",
      "minimum_nights                        0\n",
      "number_of_reviews                     0\n",
      "last_review                       11500\n",
      "reviews_per_month                 11500\n",
      "calculated_host_listings_count        0\n",
      "availability_365                      0\n",
      "number_of_reviews_ltm                 0\n",
      "license                           34397\n",
      "dtype: int64\n",
      "\n",
      "Missing values in df2023_08:\n",
      "id                                    0\n",
      "name                                  2\n",
      "host_id                               0\n",
      "host_name                             6\n",
      "neighbourhood_group                   0\n",
      "neighbourhood                         0\n",
      "latitude                              0\n",
      "longitude                             0\n",
      "room_type                             0\n",
      "price                             15042\n",
      "minimum_nights                        0\n",
      "number_of_reviews                     0\n",
      "last_review                       11805\n",
      "reviews_per_month                 11805\n",
      "calculated_host_listings_count        0\n",
      "availability_365                      0\n",
      "number_of_reviews_ltm                 0\n",
      "license                           34212\n",
      "dtype: int64\n",
      "\n",
      "Missing values in df2023_09:\n",
      "id                                    0\n",
      "name                                  0\n",
      "host_id                               0\n",
      "host_name                             5\n",
      "neighbourhood_group                   0\n",
      "neighbourhood                         0\n",
      "latitude                              0\n",
      "longitude                             0\n",
      "room_type                             0\n",
      "price                                 0\n",
      "minimum_nights                        0\n",
      "number_of_reviews                     0\n",
      "last_review                       10497\n",
      "reviews_per_month                 10497\n",
      "calculated_host_listings_count        0\n",
      "availability_365                      0\n",
      "number_of_reviews_ltm                 0\n",
      "license                           43729\n",
      "dtype: int64\n",
      "\n",
      "Missing values in df2023_10:\n",
      "id                                    0\n",
      "name                                  0\n",
      "host_id                               0\n",
      "host_name                            15\n",
      "neighbourhood_group                   0\n",
      "neighbourhood                         0\n",
      "latitude                              0\n",
      "longitude                             0\n",
      "room_type                             0\n",
      "price                                 0\n",
      "minimum_nights                        0\n",
      "number_of_reviews                     0\n",
      "last_review                       11480\n",
      "reviews_per_month                 11480\n",
      "calculated_host_listings_count        0\n",
      "availability_365                      0\n",
      "number_of_reviews_ltm                 0\n",
      "license                           35268\n",
      "dtype: int64\n",
      "\n",
      "Missing values in df2023_11:\n",
      "id                                    0\n",
      "name                                  0\n",
      "host_id                               0\n",
      "host_name                             5\n",
      "neighbourhood_group                   0\n",
      "neighbourhood                         0\n",
      "latitude                              0\n",
      "longitude                             0\n",
      "room_type                             0\n",
      "price                                 0\n",
      "minimum_nights                        0\n",
      "number_of_reviews                     0\n",
      "last_review                       10496\n",
      "reviews_per_month                 10496\n",
      "calculated_host_listings_count        0\n",
      "availability_365                      0\n",
      "number_of_reviews_ltm                 0\n",
      "license                           43566\n",
      "dtype: int64\n",
      "\n",
      "Missing values in df2023_12:\n",
      "id                                    0\n",
      "name                                  0\n",
      "host_id                               0\n",
      "host_name                             5\n",
      "neighbourhood_group                   0\n",
      "neighbourhood                         0\n",
      "latitude                              0\n",
      "longitude                             0\n",
      "room_type                             0\n",
      "price                                 0\n",
      "minimum_nights                        0\n",
      "number_of_reviews                     0\n",
      "last_review                       10352\n",
      "reviews_per_month                 10352\n",
      "calculated_host_listings_count        0\n",
      "availability_365                      0\n",
      "number_of_reviews_ltm                 0\n",
      "license                           35853\n",
      "dtype: int64\n",
      "\n",
      "Missing values in df2024_01:\n",
      "id                                    0\n",
      "name                                 12\n",
      "host_id                               0\n",
      "host_name                             5\n",
      "neighbourhood_group                   0\n",
      "neighbourhood                         0\n",
      "latitude                              0\n",
      "longitude                             0\n",
      "room_type                             0\n",
      "price                                 0\n",
      "minimum_nights                        0\n",
      "number_of_reviews                     0\n",
      "last_review                       10606\n",
      "reviews_per_month                 10606\n",
      "calculated_host_listings_count        0\n",
      "availability_365                      0\n",
      "number_of_reviews_ltm                 0\n",
      "license                           43240\n",
      "dtype: int64\n",
      "\n",
      "Missing values in df2024_02:\n",
      "id                                    0\n",
      "name                                  9\n",
      "host_id                               0\n",
      "host_name                             5\n",
      "neighbourhood_group                   0\n",
      "neighbourhood                         0\n",
      "latitude                              0\n",
      "longitude                             0\n",
      "room_type                             0\n",
      "price                                 0\n",
      "minimum_nights                        0\n",
      "number_of_reviews                     0\n",
      "last_review                       10436\n",
      "reviews_per_month                 10436\n",
      "calculated_host_listings_count        0\n",
      "availability_365                      0\n",
      "number_of_reviews_ltm                 0\n",
      "license                           43302\n",
      "dtype: int64\n",
      "\n",
      "Missing values in df2024_03:\n",
      "id                                    0\n",
      "name                                  0\n",
      "host_id                               0\n",
      "host_name                             5\n",
      "neighbourhood_group                   0\n",
      "neighbourhood                         0\n",
      "latitude                              0\n",
      "longitude                             0\n",
      "room_type                             0\n",
      "price                                 0\n",
      "minimum_nights                        0\n",
      "number_of_reviews                     0\n",
      "last_review                       10949\n",
      "reviews_per_month                 10949\n",
      "calculated_host_listings_count        0\n",
      "availability_365                      0\n",
      "number_of_reviews_ltm                 0\n",
      "license                           35281\n",
      "dtype: int64\n",
      "\n"
     ]
    }
   ],
   "source": [
    "df_missing_values = {}\n",
    "\n",
    "for i, df in enumerate(dataframes, start=4):\n",
    "    month_year = f\"df2023_{i:02}\" if i < 13 else f\"df2024_{i - 12:02}\"\n",
    "    df_missing_values[month_year] = df.isnull().sum()\n",
    "\n",
    "for name, missing_counts in df_missing_values.items():\n",
    "    print(f\"Missing values in {name}:\")\n",
    "    print(missing_counts)\n",
    "    print() "
   ]
  },
  {
   "cell_type": "markdown",
   "id": "a645709c",
   "metadata": {},
   "source": [
    "### Add Zipcode"
   ]
  },
  {
   "cell_type": "code",
   "execution_count": 47,
   "id": "ddbb443e",
   "metadata": {},
   "outputs": [],
   "source": [
    "NYCzipcode = gpd.read_file('./Data/ZIPCODE/ZIP_CODE_040114.shp')"
   ]
  },
  {
   "cell_type": "code",
   "execution_count": 48,
   "id": "1e4a1326",
   "metadata": {},
   "outputs": [],
   "source": [
    "df2024_01_gdf = gpd.GeoDataFrame(\n",
    "    df2024_01,\n",
    "    geometry=gpd.points_from_xy(df2024_01.longitude, df2024_01.latitude),\n",
    "    crs=\"EPSG:4326\"\n",
    ")"
   ]
  },
  {
   "cell_type": "code",
   "execution_count": 49,
   "id": "e37914d0",
   "metadata": {},
   "outputs": [],
   "source": [
    "# 2024_1 with ziocode not all data.\n",
    "df2024_01_gdf = df2024_01_gdf.to_crs(NYCzipcode.crs)\n",
    "joined_gdf = gpd.sjoin(df2024_01_gdf, NYCzipcode, how=\"left\", op=\"within\")\n",
    "unique_zipcodes = joined_gdf.reset_index().groupby('index').first()\n",
    "airbnb202401_with_zip = df2024_01.merge(unique_zipcodes[['ZIPCODE']], left_index=True, right_index=True, how='left')\n"
   ]
  },
  {
   "cell_type": "code",
   "execution_count": 50,
   "id": "2a7753bd",
   "metadata": {},
   "outputs": [
    {
     "data": {
      "text/plain": [
       "39719"
      ]
     },
     "execution_count": 50,
     "metadata": {},
     "output_type": "execute_result"
    }
   ],
   "source": [
    "#Removing the Duplicates if any\n",
    "airbnb202401_with_zip.duplicated().sum()\n",
    "airbnb202401_with_zip.drop_duplicates(inplace=True)\n",
    "len(airbnb202401_with_zip)"
   ]
  },
  {
   "cell_type": "markdown",
   "id": "4d89cf9d",
   "metadata": {},
   "source": [
    "### Crime Data"
   ]
  },
  {
   "cell_type": "code",
   "execution_count": 51,
   "id": "118c21a1",
   "metadata": {},
   "outputs": [
    {
     "data": {
      "text/html": [
       "<div>\n",
       "<style scoped>\n",
       "    .dataframe tbody tr th:only-of-type {\n",
       "        vertical-align: middle;\n",
       "    }\n",
       "\n",
       "    .dataframe tbody tr th {\n",
       "        vertical-align: top;\n",
       "    }\n",
       "\n",
       "    .dataframe thead th {\n",
       "        text-align: right;\n",
       "    }\n",
       "</style>\n",
       "<table border=\"1\" class=\"dataframe\">\n",
       "  <thead>\n",
       "    <tr style=\"text-align: right;\">\n",
       "      <th></th>\n",
       "      <th>Full Complaint ID</th>\n",
       "      <th>Complaint Year Number</th>\n",
       "      <th>Month Number</th>\n",
       "      <th>Record Create Date</th>\n",
       "      <th>Complaint Precinct Code</th>\n",
       "      <th>Patrol Borough Name</th>\n",
       "      <th>County</th>\n",
       "      <th>Law Code Category Description</th>\n",
       "      <th>Offense Description</th>\n",
       "      <th>PD Code Description</th>\n",
       "      <th>Bias Motive Description</th>\n",
       "      <th>Offense Category</th>\n",
       "      <th>Arrest Date</th>\n",
       "      <th>Arrest Id</th>\n",
       "    </tr>\n",
       "  </thead>\n",
       "  <tbody>\n",
       "    <tr>\n",
       "      <th>0</th>\n",
       "      <td>202206012204617</td>\n",
       "      <td>2022</td>\n",
       "      <td>3</td>\n",
       "      <td>03/07/2022</td>\n",
       "      <td>60</td>\n",
       "      <td>PATROL BORO BKLYN SOUTH</td>\n",
       "      <td>KINGS</td>\n",
       "      <td>FELONY</td>\n",
       "      <td>MISCELLANEOUS PENAL LAW</td>\n",
       "      <td>AGGRAVATED HARASSMENT 1</td>\n",
       "      <td>ANTI-JEWISH</td>\n",
       "      <td>Religion/Religious Practice</td>\n",
       "      <td>NaN</td>\n",
       "      <td>NaN</td>\n",
       "    </tr>\n",
       "    <tr>\n",
       "      <th>1</th>\n",
       "      <td>202006012153917</td>\n",
       "      <td>2020</td>\n",
       "      <td>2</td>\n",
       "      <td>02/08/2020</td>\n",
       "      <td>60</td>\n",
       "      <td>PATROL BORO BKLYN SOUTH</td>\n",
       "      <td>KINGS</td>\n",
       "      <td>FELONY</td>\n",
       "      <td>MISCELLANEOUS PENAL LAW</td>\n",
       "      <td>AGGRAVATED HARASSMENT 1</td>\n",
       "      <td>ANTI-JEWISH</td>\n",
       "      <td>Religion/Religious Practice</td>\n",
       "      <td>NaN</td>\n",
       "      <td>NaN</td>\n",
       "    </tr>\n",
       "    <tr>\n",
       "      <th>2</th>\n",
       "      <td>202306012418117</td>\n",
       "      <td>2023</td>\n",
       "      <td>5</td>\n",
       "      <td>05/23/2023</td>\n",
       "      <td>60</td>\n",
       "      <td>PATROL BORO BKLYN SOUTH</td>\n",
       "      <td>KINGS</td>\n",
       "      <td>FELONY</td>\n",
       "      <td>MISCELLANEOUS PENAL LAW</td>\n",
       "      <td>AGGRAVATED HARASSMENT 1</td>\n",
       "      <td>ANTI-JEWISH</td>\n",
       "      <td>Religion/Religious Practice</td>\n",
       "      <td>NaN</td>\n",
       "      <td>NaN</td>\n",
       "    </tr>\n",
       "    <tr>\n",
       "      <th>3</th>\n",
       "      <td>202306012285217</td>\n",
       "      <td>2023</td>\n",
       "      <td>4</td>\n",
       "      <td>04/02/2023</td>\n",
       "      <td>60</td>\n",
       "      <td>PATROL BORO BKLYN SOUTH</td>\n",
       "      <td>KINGS</td>\n",
       "      <td>FELONY</td>\n",
       "      <td>MISCELLANEOUS PENAL LAW</td>\n",
       "      <td>AGGRAVATED HARASSMENT 1</td>\n",
       "      <td>ANTI-JEWISH</td>\n",
       "      <td>Religion/Religious Practice</td>\n",
       "      <td>NaN</td>\n",
       "      <td>NaN</td>\n",
       "    </tr>\n",
       "    <tr>\n",
       "      <th>4</th>\n",
       "      <td>202306012358417</td>\n",
       "      <td>2023</td>\n",
       "      <td>4</td>\n",
       "      <td>05/01/2023</td>\n",
       "      <td>60</td>\n",
       "      <td>PATROL BORO BKLYN SOUTH</td>\n",
       "      <td>KINGS</td>\n",
       "      <td>FELONY</td>\n",
       "      <td>MISCELLANEOUS PENAL LAW</td>\n",
       "      <td>AGGRAVATED HARASSMENT 1</td>\n",
       "      <td>ANTI-JEWISH</td>\n",
       "      <td>Religion/Religious Practice</td>\n",
       "      <td>NaN</td>\n",
       "      <td>NaN</td>\n",
       "    </tr>\n",
       "  </tbody>\n",
       "</table>\n",
       "</div>"
      ],
      "text/plain": [
       "   Full Complaint ID  Complaint Year Number  Month Number Record Create Date  \\\n",
       "0    202206012204617                   2022             3         03/07/2022   \n",
       "1    202006012153917                   2020             2         02/08/2020   \n",
       "2    202306012418117                   2023             5         05/23/2023   \n",
       "3    202306012285217                   2023             4         04/02/2023   \n",
       "4    202306012358417                   2023             4         05/01/2023   \n",
       "\n",
       "   Complaint Precinct Code      Patrol Borough Name County  \\\n",
       "0                       60  PATROL BORO BKLYN SOUTH  KINGS   \n",
       "1                       60  PATROL BORO BKLYN SOUTH  KINGS   \n",
       "2                       60  PATROL BORO BKLYN SOUTH  KINGS   \n",
       "3                       60  PATROL BORO BKLYN SOUTH  KINGS   \n",
       "4                       60  PATROL BORO BKLYN SOUTH  KINGS   \n",
       "\n",
       "  Law Code Category Description      Offense Description  \\\n",
       "0                        FELONY  MISCELLANEOUS PENAL LAW   \n",
       "1                        FELONY  MISCELLANEOUS PENAL LAW   \n",
       "2                        FELONY  MISCELLANEOUS PENAL LAW   \n",
       "3                        FELONY  MISCELLANEOUS PENAL LAW   \n",
       "4                        FELONY  MISCELLANEOUS PENAL LAW   \n",
       "\n",
       "       PD Code Description Bias Motive Description  \\\n",
       "0  AGGRAVATED HARASSMENT 1             ANTI-JEWISH   \n",
       "1  AGGRAVATED HARASSMENT 1             ANTI-JEWISH   \n",
       "2  AGGRAVATED HARASSMENT 1             ANTI-JEWISH   \n",
       "3  AGGRAVATED HARASSMENT 1             ANTI-JEWISH   \n",
       "4  AGGRAVATED HARASSMENT 1             ANTI-JEWISH   \n",
       "\n",
       "              Offense Category  Arrest Date Arrest Id  \n",
       "0  Religion/Religious Practice          NaN       NaN  \n",
       "1  Religion/Religious Practice          NaN       NaN  \n",
       "2  Religion/Religious Practice          NaN       NaN  \n",
       "3  Religion/Religious Practice          NaN       NaN  \n",
       "4  Religion/Religious Practice          NaN       NaN  "
      ]
     },
     "execution_count": 51,
     "metadata": {},
     "output_type": "execute_result"
    }
   ],
   "source": [
    "file_path_crimes = os.path.join(data_folder, 'NYPD_Hate_Crimes_20240305.csv')\n",
    "crimes = pd.read_csv(file_path_crimes)\n",
    "crimes.head()"
   ]
  },
  {
   "cell_type": "markdown",
   "id": "356d6eb1",
   "metadata": {},
   "source": [
    "## Descriptive Analysis"
   ]
  },
  {
   "cell_type": "code",
   "execution_count": 52,
   "id": "fb67f55a",
   "metadata": {},
   "outputs": [
    {
     "data": {
      "text/plain": [
       "Full Complaint ID                  int64\n",
       "Complaint Year Number              int64\n",
       "Month Number                       int64\n",
       "Record Create Date                object\n",
       "Complaint Precinct Code            int64\n",
       "Patrol Borough Name               object\n",
       "County                            object\n",
       "Law Code Category Description     object\n",
       "Offense Description               object\n",
       "PD Code Description               object\n",
       "Bias Motive Description           object\n",
       "Offense Category                  object\n",
       "Arrest Date                      float64\n",
       "Arrest Id                         object\n",
       "dtype: object"
      ]
     },
     "execution_count": 52,
     "metadata": {},
     "output_type": "execute_result"
    }
   ],
   "source": [
    "crimes.dtypes"
   ]
  },
  {
   "cell_type": "code",
   "execution_count": 53,
   "id": "29617010",
   "metadata": {},
   "outputs": [
    {
     "data": {
      "text/plain": [
       "array(['KINGS', 'NEW YORK', 'QUEENS', 'BRONX', 'RICHMOND'], dtype=object)"
      ]
     },
     "execution_count": 53,
     "metadata": {},
     "output_type": "execute_result"
    }
   ],
   "source": [
    "crimes.County.unique()"
   ]
  },
  {
   "cell_type": "code",
   "execution_count": 54,
   "id": "54828439",
   "metadata": {},
   "outputs": [
    {
     "data": {
      "text/plain": [
       "array(['Manhattan', 'Brooklyn', 'Queens', 'Staten Island', 'Bronx'],\n",
       "      dtype=object)"
      ]
     },
     "execution_count": 54,
     "metadata": {},
     "output_type": "execute_result"
    }
   ],
   "source": [
    "airbnb202401_with_zip.neighbourhood_group.unique()"
   ]
  },
  {
   "cell_type": "code",
   "execution_count": 55,
   "id": "a7b20047",
   "metadata": {},
   "outputs": [],
   "source": [
    "# Kings= Brooklyn, RichMond= Staten Island\n",
    "county_to_borough = {\n",
    "    'KINGS': 'Brooklyn',\n",
    "    'NEW YORK': 'Manhattan',\n",
    "    'QUEENS': 'Queens',\n",
    "    'BRONX': 'Bronx',\n",
    "    'RICHMOND': 'Staten Island'\n",
    "}\n",
    "\n",
    "# Replace the county names with borough names in the 'County' column\n",
    "crimes['County'] = crimes['County'].replace(county_to_borough)"
   ]
  },
  {
   "cell_type": "code",
   "execution_count": 56,
   "id": "7c280dea",
   "metadata": {},
   "outputs": [
    {
     "data": {
      "text/plain": [
       "array(['Brooklyn', 'Manhattan', 'Queens', 'Bronx', 'Staten Island'],\n",
       "      dtype=object)"
      ]
     },
     "execution_count": 56,
     "metadata": {},
     "output_type": "execute_result"
    }
   ],
   "source": [
    "crimes.County.unique()"
   ]
  },
  {
   "cell_type": "code",
   "execution_count": 57,
   "id": "fa1965e2",
   "metadata": {},
   "outputs": [
    {
     "data": {
      "text/plain": [
       "(2406, 14)"
      ]
     },
     "execution_count": 57,
     "metadata": {},
     "output_type": "execute_result"
    }
   ],
   "source": [
    "crimes.shape"
   ]
  },
  {
   "cell_type": "markdown",
   "id": "ca79081c",
   "metadata": {},
   "source": [
    "### Rental Income"
   ]
  },
  {
   "cell_type": "code",
   "execution_count": 58,
   "id": "f38d1f75",
   "metadata": {},
   "outputs": [
    {
     "ename": "FileNotFoundError",
     "evalue": "[Errno 2] No such file or directory: 'DOF_Condominium_Comparable_Rental_Income_in_NYC_20231211.csv'",
     "output_type": "error",
     "traceback": [
      "\u001b[0;31m---------------------------------------------------------------------------\u001b[0m",
      "\u001b[0;31mFileNotFoundError\u001b[0m                         Traceback (most recent call last)",
      "Cell \u001b[0;32mIn[58], line 1\u001b[0m\n\u001b[0;32m----> 1\u001b[0m rental \u001b[38;5;241m=\u001b[39m pd\u001b[38;5;241m.\u001b[39mread_csv(\u001b[38;5;124m\"\u001b[39m\u001b[38;5;124mDOF_Condominium_Comparable_Rental_Income_in_NYC_20231211.csv\u001b[39m\u001b[38;5;124m\"\u001b[39m)\n",
      "File \u001b[0;32m~/anaconda3/lib/python3.11/site-packages/pandas/io/parsers/readers.py:1026\u001b[0m, in \u001b[0;36mread_csv\u001b[0;34m(filepath_or_buffer, sep, delimiter, header, names, index_col, usecols, dtype, engine, converters, true_values, false_values, skipinitialspace, skiprows, skipfooter, nrows, na_values, keep_default_na, na_filter, verbose, skip_blank_lines, parse_dates, infer_datetime_format, keep_date_col, date_parser, date_format, dayfirst, cache_dates, iterator, chunksize, compression, thousands, decimal, lineterminator, quotechar, quoting, doublequote, escapechar, comment, encoding, encoding_errors, dialect, on_bad_lines, delim_whitespace, low_memory, memory_map, float_precision, storage_options, dtype_backend)\u001b[0m\n\u001b[1;32m   1013\u001b[0m kwds_defaults \u001b[38;5;241m=\u001b[39m _refine_defaults_read(\n\u001b[1;32m   1014\u001b[0m     dialect,\n\u001b[1;32m   1015\u001b[0m     delimiter,\n\u001b[0;32m   (...)\u001b[0m\n\u001b[1;32m   1022\u001b[0m     dtype_backend\u001b[38;5;241m=\u001b[39mdtype_backend,\n\u001b[1;32m   1023\u001b[0m )\n\u001b[1;32m   1024\u001b[0m kwds\u001b[38;5;241m.\u001b[39mupdate(kwds_defaults)\n\u001b[0;32m-> 1026\u001b[0m \u001b[38;5;28;01mreturn\u001b[39;00m _read(filepath_or_buffer, kwds)\n",
      "File \u001b[0;32m~/anaconda3/lib/python3.11/site-packages/pandas/io/parsers/readers.py:620\u001b[0m, in \u001b[0;36m_read\u001b[0;34m(filepath_or_buffer, kwds)\u001b[0m\n\u001b[1;32m    617\u001b[0m _validate_names(kwds\u001b[38;5;241m.\u001b[39mget(\u001b[38;5;124m\"\u001b[39m\u001b[38;5;124mnames\u001b[39m\u001b[38;5;124m\"\u001b[39m, \u001b[38;5;28;01mNone\u001b[39;00m))\n\u001b[1;32m    619\u001b[0m \u001b[38;5;66;03m# Create the parser.\u001b[39;00m\n\u001b[0;32m--> 620\u001b[0m parser \u001b[38;5;241m=\u001b[39m TextFileReader(filepath_or_buffer, \u001b[38;5;241m*\u001b[39m\u001b[38;5;241m*\u001b[39mkwds)\n\u001b[1;32m    622\u001b[0m \u001b[38;5;28;01mif\u001b[39;00m chunksize \u001b[38;5;129;01mor\u001b[39;00m iterator:\n\u001b[1;32m    623\u001b[0m     \u001b[38;5;28;01mreturn\u001b[39;00m parser\n",
      "File \u001b[0;32m~/anaconda3/lib/python3.11/site-packages/pandas/io/parsers/readers.py:1620\u001b[0m, in \u001b[0;36mTextFileReader.__init__\u001b[0;34m(self, f, engine, **kwds)\u001b[0m\n\u001b[1;32m   1617\u001b[0m     \u001b[38;5;28mself\u001b[39m\u001b[38;5;241m.\u001b[39moptions[\u001b[38;5;124m\"\u001b[39m\u001b[38;5;124mhas_index_names\u001b[39m\u001b[38;5;124m\"\u001b[39m] \u001b[38;5;241m=\u001b[39m kwds[\u001b[38;5;124m\"\u001b[39m\u001b[38;5;124mhas_index_names\u001b[39m\u001b[38;5;124m\"\u001b[39m]\n\u001b[1;32m   1619\u001b[0m \u001b[38;5;28mself\u001b[39m\u001b[38;5;241m.\u001b[39mhandles: IOHandles \u001b[38;5;241m|\u001b[39m \u001b[38;5;28;01mNone\u001b[39;00m \u001b[38;5;241m=\u001b[39m \u001b[38;5;28;01mNone\u001b[39;00m\n\u001b[0;32m-> 1620\u001b[0m \u001b[38;5;28mself\u001b[39m\u001b[38;5;241m.\u001b[39m_engine \u001b[38;5;241m=\u001b[39m \u001b[38;5;28mself\u001b[39m\u001b[38;5;241m.\u001b[39m_make_engine(f, \u001b[38;5;28mself\u001b[39m\u001b[38;5;241m.\u001b[39mengine)\n",
      "File \u001b[0;32m~/anaconda3/lib/python3.11/site-packages/pandas/io/parsers/readers.py:1880\u001b[0m, in \u001b[0;36mTextFileReader._make_engine\u001b[0;34m(self, f, engine)\u001b[0m\n\u001b[1;32m   1878\u001b[0m     \u001b[38;5;28;01mif\u001b[39;00m \u001b[38;5;124m\"\u001b[39m\u001b[38;5;124mb\u001b[39m\u001b[38;5;124m\"\u001b[39m \u001b[38;5;129;01mnot\u001b[39;00m \u001b[38;5;129;01min\u001b[39;00m mode:\n\u001b[1;32m   1879\u001b[0m         mode \u001b[38;5;241m+\u001b[39m\u001b[38;5;241m=\u001b[39m \u001b[38;5;124m\"\u001b[39m\u001b[38;5;124mb\u001b[39m\u001b[38;5;124m\"\u001b[39m\n\u001b[0;32m-> 1880\u001b[0m \u001b[38;5;28mself\u001b[39m\u001b[38;5;241m.\u001b[39mhandles \u001b[38;5;241m=\u001b[39m get_handle(\n\u001b[1;32m   1881\u001b[0m     f,\n\u001b[1;32m   1882\u001b[0m     mode,\n\u001b[1;32m   1883\u001b[0m     encoding\u001b[38;5;241m=\u001b[39m\u001b[38;5;28mself\u001b[39m\u001b[38;5;241m.\u001b[39moptions\u001b[38;5;241m.\u001b[39mget(\u001b[38;5;124m\"\u001b[39m\u001b[38;5;124mencoding\u001b[39m\u001b[38;5;124m\"\u001b[39m, \u001b[38;5;28;01mNone\u001b[39;00m),\n\u001b[1;32m   1884\u001b[0m     compression\u001b[38;5;241m=\u001b[39m\u001b[38;5;28mself\u001b[39m\u001b[38;5;241m.\u001b[39moptions\u001b[38;5;241m.\u001b[39mget(\u001b[38;5;124m\"\u001b[39m\u001b[38;5;124mcompression\u001b[39m\u001b[38;5;124m\"\u001b[39m, \u001b[38;5;28;01mNone\u001b[39;00m),\n\u001b[1;32m   1885\u001b[0m     memory_map\u001b[38;5;241m=\u001b[39m\u001b[38;5;28mself\u001b[39m\u001b[38;5;241m.\u001b[39moptions\u001b[38;5;241m.\u001b[39mget(\u001b[38;5;124m\"\u001b[39m\u001b[38;5;124mmemory_map\u001b[39m\u001b[38;5;124m\"\u001b[39m, \u001b[38;5;28;01mFalse\u001b[39;00m),\n\u001b[1;32m   1886\u001b[0m     is_text\u001b[38;5;241m=\u001b[39mis_text,\n\u001b[1;32m   1887\u001b[0m     errors\u001b[38;5;241m=\u001b[39m\u001b[38;5;28mself\u001b[39m\u001b[38;5;241m.\u001b[39moptions\u001b[38;5;241m.\u001b[39mget(\u001b[38;5;124m\"\u001b[39m\u001b[38;5;124mencoding_errors\u001b[39m\u001b[38;5;124m\"\u001b[39m, \u001b[38;5;124m\"\u001b[39m\u001b[38;5;124mstrict\u001b[39m\u001b[38;5;124m\"\u001b[39m),\n\u001b[1;32m   1888\u001b[0m     storage_options\u001b[38;5;241m=\u001b[39m\u001b[38;5;28mself\u001b[39m\u001b[38;5;241m.\u001b[39moptions\u001b[38;5;241m.\u001b[39mget(\u001b[38;5;124m\"\u001b[39m\u001b[38;5;124mstorage_options\u001b[39m\u001b[38;5;124m\"\u001b[39m, \u001b[38;5;28;01mNone\u001b[39;00m),\n\u001b[1;32m   1889\u001b[0m )\n\u001b[1;32m   1890\u001b[0m \u001b[38;5;28;01massert\u001b[39;00m \u001b[38;5;28mself\u001b[39m\u001b[38;5;241m.\u001b[39mhandles \u001b[38;5;129;01mis\u001b[39;00m \u001b[38;5;129;01mnot\u001b[39;00m \u001b[38;5;28;01mNone\u001b[39;00m\n\u001b[1;32m   1891\u001b[0m f \u001b[38;5;241m=\u001b[39m \u001b[38;5;28mself\u001b[39m\u001b[38;5;241m.\u001b[39mhandles\u001b[38;5;241m.\u001b[39mhandle\n",
      "File \u001b[0;32m~/anaconda3/lib/python3.11/site-packages/pandas/io/common.py:873\u001b[0m, in \u001b[0;36mget_handle\u001b[0;34m(path_or_buf, mode, encoding, compression, memory_map, is_text, errors, storage_options)\u001b[0m\n\u001b[1;32m    868\u001b[0m \u001b[38;5;28;01melif\u001b[39;00m \u001b[38;5;28misinstance\u001b[39m(handle, \u001b[38;5;28mstr\u001b[39m):\n\u001b[1;32m    869\u001b[0m     \u001b[38;5;66;03m# Check whether the filename is to be opened in binary mode.\u001b[39;00m\n\u001b[1;32m    870\u001b[0m     \u001b[38;5;66;03m# Binary mode does not support 'encoding' and 'newline'.\u001b[39;00m\n\u001b[1;32m    871\u001b[0m     \u001b[38;5;28;01mif\u001b[39;00m ioargs\u001b[38;5;241m.\u001b[39mencoding \u001b[38;5;129;01mand\u001b[39;00m \u001b[38;5;124m\"\u001b[39m\u001b[38;5;124mb\u001b[39m\u001b[38;5;124m\"\u001b[39m \u001b[38;5;129;01mnot\u001b[39;00m \u001b[38;5;129;01min\u001b[39;00m ioargs\u001b[38;5;241m.\u001b[39mmode:\n\u001b[1;32m    872\u001b[0m         \u001b[38;5;66;03m# Encoding\u001b[39;00m\n\u001b[0;32m--> 873\u001b[0m         handle \u001b[38;5;241m=\u001b[39m \u001b[38;5;28mopen\u001b[39m(\n\u001b[1;32m    874\u001b[0m             handle,\n\u001b[1;32m    875\u001b[0m             ioargs\u001b[38;5;241m.\u001b[39mmode,\n\u001b[1;32m    876\u001b[0m             encoding\u001b[38;5;241m=\u001b[39mioargs\u001b[38;5;241m.\u001b[39mencoding,\n\u001b[1;32m    877\u001b[0m             errors\u001b[38;5;241m=\u001b[39merrors,\n\u001b[1;32m    878\u001b[0m             newline\u001b[38;5;241m=\u001b[39m\u001b[38;5;124m\"\u001b[39m\u001b[38;5;124m\"\u001b[39m,\n\u001b[1;32m    879\u001b[0m         )\n\u001b[1;32m    880\u001b[0m     \u001b[38;5;28;01melse\u001b[39;00m:\n\u001b[1;32m    881\u001b[0m         \u001b[38;5;66;03m# Binary mode\u001b[39;00m\n\u001b[1;32m    882\u001b[0m         handle \u001b[38;5;241m=\u001b[39m \u001b[38;5;28mopen\u001b[39m(handle, ioargs\u001b[38;5;241m.\u001b[39mmode)\n",
      "\u001b[0;31mFileNotFoundError\u001b[0m: [Errno 2] No such file or directory: 'DOF_Condominium_Comparable_Rental_Income_in_NYC_20231211.csv'"
     ]
    }
   ],
   "source": [
    "rental = pd.read_csv(\"DOF_Condominium_Comparable_Rental_Income_in_NYC_20231211.csv\")"
   ]
  },
  {
   "cell_type": "code",
   "execution_count": null,
   "id": "20477867",
   "metadata": {},
   "outputs": [],
   "source": [
    "rental_gross_income = rental.groupby(['Neighborhood']).agg({'Gross Income per SqFt': 'mean'})\n",
    "rental_gross_income.sort_index(inplace=True)\n",
    "rental_gross_income.head()"
   ]
  },
  {
   "cell_type": "code",
   "execution_count": null,
   "id": "73a78b9c",
   "metadata": {},
   "outputs": [],
   "source": [
    "airbnb_neighbor_price = df2024_01.groupby(['neighbourhood']).agg({'price': 'mean'})\n",
    "airbnb_neighbor_price.head()"
   ]
  },
  {
   "cell_type": "code",
   "execution_count": null,
   "id": "387b39ff",
   "metadata": {},
   "outputs": [],
   "source": [
    "airbnb_neighbor_price.index = airbnb_neighbor_price.index.str.upper()\n",
    "filtered_rental_gross_income = rental_gross_income[rental_gross_income.index.isin(airbnb_neighbor_price.index)]\n",
    "filtered_rental_gross_income.head()"
   ]
  },
  {
   "cell_type": "code",
   "execution_count": null,
   "id": "975114f2",
   "metadata": {},
   "outputs": [],
   "source": [
    "Rental_marketvalue = rental.groupby(['Neighborhood']).agg({'Market Value per SqFt': 'mean'})\n",
    "filtered_Rental_marketvalue = Rental_marketvalue[Rental_marketvalue.index.isin(airbnb_neighbor_price.index)]\n",
    "filtered_Rental_marketvalue.head()"
   ]
  },
  {
   "cell_type": "markdown",
   "id": "8388d07f",
   "metadata": {},
   "source": [
    "## Exploratory Analysis"
   ]
  },
  {
   "cell_type": "markdown",
   "id": "a1c4371a",
   "metadata": {},
   "source": [
    "(目前只做了202401 后面需要可以直接copy代码改数)"
   ]
  },
  {
   "cell_type": "code",
   "execution_count": null,
   "id": "2f4e3a7d",
   "metadata": {},
   "outputs": [],
   "source": [
    "#drop unnecessary columns\n",
    "df2024_01.drop(['name','id','host_name','last_review','number_of_reviews_ltm', 'license'], axis=1, inplace=True)\n",
    "df2024_01.columns"
   ]
  },
  {
   "cell_type": "code",
   "execution_count": null,
   "id": "58c97fe1",
   "metadata": {},
   "outputs": [],
   "source": [
    "#select the number columns\n",
    "numeric_df = df2024_01.select_dtypes(include=[np.number])\n"
   ]
  },
  {
   "cell_type": "markdown",
   "id": "89ea632b",
   "metadata": {},
   "source": [
    "Get Correlation between different variables"
   ]
  },
  {
   "cell_type": "code",
   "execution_count": null,
   "id": "7e5431bd",
   "metadata": {},
   "outputs": [],
   "source": [
    "corr = numeric_df.corr(method='kendall')\n",
    "plt.figure(figsize=(15,8))\n",
    "sns.heatmap(corr, annot=True)"
   ]
  },
  {
   "cell_type": "markdown",
   "id": "f0d2e1a7",
   "metadata": {},
   "source": [
    "Plot all Neighbourhood Group"
   ]
  },
  {
   "cell_type": "code",
   "execution_count": null,
   "id": "a7148fdc",
   "metadata": {},
   "outputs": [],
   "source": [
    "sns.countplot(x='neighbourhood_group', data=df2024_01, palette=\"plasma\")\n",
    "fig = plt.gcf()\n",
    "fig.set_size_inches(10,10)\n",
    "plt.title('Neighbourhood Group')"
   ]
  },
  {
   "cell_type": "markdown",
   "id": "3755754c",
   "metadata": {},
   "source": [
    "Neighbourhood"
   ]
  },
  {
   "cell_type": "code",
   "execution_count": null,
   "id": "15f91230",
   "metadata": {},
   "outputs": [],
   "source": [
    "sns.countplot(x='neighbourhood', data=df2024_01, palette=\"plasma\")\n",
    "fig = plt.gcf()\n",
    "fig.set_size_inches(25,6)\n",
    "plt.title('Neighbourhood')\n"
   ]
  },
  {
   "cell_type": "code",
   "execution_count": null,
   "id": "7964a56f",
   "metadata": {},
   "outputs": [],
   "source": [
    "df2024_01['neighbourhood'] = df2024_01['neighbourhood'].astype(str)"
   ]
  },
  {
   "cell_type": "markdown",
   "id": "9a5c431d",
   "metadata": {},
   "source": [
    "Room Type"
   ]
  },
  {
   "cell_type": "code",
   "execution_count": null,
   "id": "ad19c85e",
   "metadata": {},
   "outputs": [],
   "source": [
    "#Restaurants delivering Online or not\n",
    "sns.countplot(x='room_type', data=df2024_01, palette=\"plasma\")\n",
    "fig = plt.gcf()\n",
    "fig.set_size_inches(10,10)\n",
    "plt.title('Restaurants delivering online or Not')"
   ]
  },
  {
   "cell_type": "markdown",
   "id": "008d6fbf",
   "metadata": {},
   "source": [
    "Relation between neighbourgroup and Availability of Room¶\n"
   ]
  },
  {
   "cell_type": "code",
   "execution_count": null,
   "id": "9c1a560b",
   "metadata": {},
   "outputs": [],
   "source": [
    "plt.figure(figsize=(10,10))\n",
    "ax = sns.boxplot(data=df2024_01, x='neighbourhood_group',y='availability_365',palette='plasma')"
   ]
  },
  {
   "cell_type": "code",
   "execution_count": null,
   "id": "70804568",
   "metadata": {},
   "outputs": [],
   "source": [
    "plt.figure(figsize=(10,6))\n",
    "sns.scatterplot(x=df2024_01['longitude'], y=df2024_01['latitude'], hue=df2024_01['neighbourhood_group'])\n",
    "plt.ioff()"
   ]
  },
  {
   "cell_type": "code",
   "execution_count": null,
   "id": "29af5326",
   "metadata": {},
   "outputs": [],
   "source": [
    "plt.figure(figsize=(10,6))\n",
    "sns.scatterplot(x=df2024_01['longitude'], y=df2024_01['latitude'], hue=df2024_01['availability_365'])\n",
    "plt.ioff()"
   ]
  },
  {
   "cell_type": "code",
   "execution_count": null,
   "id": "76dc93bf",
   "metadata": {},
   "outputs": [],
   "source": [
    "df2024_01\n",
    "#发现availability_365数据有问题"
   ]
  },
  {
   "cell_type": "markdown",
   "id": "81176605",
   "metadata": {},
   "source": [
    "### Time Series"
   ]
  },
  {
   "cell_type": "markdown",
   "id": "06e91e6b",
   "metadata": {},
   "source": [
    "### PCA..."
   ]
  }
 ],
 "metadata": {
  "kernelspec": {
   "display_name": "Python 3 (ipykernel)",
   "language": "python",
   "name": "python3"
  },
  "language_info": {
   "codemirror_mode": {
    "name": "ipython",
    "version": 3
   },
   "file_extension": ".py",
   "mimetype": "text/x-python",
   "name": "python",
   "nbconvert_exporter": "python",
   "pygments_lexer": "ipython3",
   "version": "3.11.0"
  }
 },
 "nbformat": 4,
 "nbformat_minor": 5
}
