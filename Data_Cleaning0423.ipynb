{
 "cells": [
  {
   "cell_type": "code",
   "execution_count": 1,
   "id": "385c49a5-ac6e-4545-9780-96deb25c64ce",
   "metadata": {},
   "outputs": [
    {
     "name": "stderr",
     "output_type": "stream",
     "text": [
      "/Users/simaochen/anaconda3/lib/python3.11/site-packages/pandas/core/arrays/masked.py:60: UserWarning: Pandas requires version '1.3.6' or newer of 'bottleneck' (version '1.3.5' currently installed).\n",
      "  from pandas.core import (\n"
     ]
    }
   ],
   "source": [
    "import pandas as pd\n",
    "import numpy as np\n",
    "import datetime as dt\n",
    "import matplotlib\n",
    "import matplotlib.pyplot as plt\n",
    "import os\n",
    "import geopandas as gpd\n",
    "import seaborn as sns\n",
    "\n",
    "import torch\n",
    "import torch.nn as nn\n",
    "import torch.optim as optim\n",
    "from sklearn.model_selection import train_test_split\n",
    "from sklearn.preprocessing import StandardScaler\n",
    "from sklearn.metrics import mean_squared_error\n",
    "from torch.utils.data import Dataset, TensorDataset, DataLoader\n",
    "from torch.optim.lr_scheduler import StepLR\n",
    "from torch.optim.lr_scheduler import CyclicLR\n",
    "import torch.nn.functional as F\n",
    "from sklearn.impute import SimpleImputer\n",
    "from sklearn.decomposition import PCA\n",
    "\n",
    "# suppress warning\n",
    "import warnings\n",
    "warnings.filterwarnings('ignore')\n",
    "\n",
    "import statsmodels.formula.api as smf\n",
    "import statsmodels.api as sm\n",
    "from statsmodels.tsa.seasonal import seasonal_decompose\n",
    "import scipy\n",
    "from sklearn.metrics import r2_score\n",
    "from sklearn.preprocessing import OneHotEncoder\n",
    "from statsmodels.graphics.tsaplots import plot_acf\n",
    "\n",
    "#import seaborn as sns\n",
    "#sns.set()\n",
    "\n",
    "%matplotlib inline"
   ]
  },
  {
   "cell_type": "markdown",
   "id": "109c282c",
   "metadata": {},
   "source": [
    "## Data Cleaning"
   ]
  },
  {
   "cell_type": "code",
   "execution_count": 2,
   "id": "5d6e1b23-ee8d-4dcb-8ff3-6974be44c861",
   "metadata": {},
   "outputs": [
    {
     "name": "stdout",
     "output_type": "stream",
     "text": [
      "df2023_08\n",
      "df2024_01\n",
      "df2023_09\n",
      "df2024_02\n",
      "df2024_03\n",
      "df2023_07\n",
      "df2023_12\n",
      "df2023_06\n",
      "df2023_10\n",
      "df2023_04\n",
      "df2023_05\n",
      "df2023_11\n"
     ]
    }
   ],
   "source": [
    "# Get the current directory\n",
    "current_directory = os.getcwd()\n",
    "\n",
    "# Define the path to the data folder\n",
    "data_folder = os.path.join(current_directory, 'data')\n",
    "\n",
    "# List all files in the data folder\n",
    "files = os.listdir(data_folder)\n",
    "\n",
    "\n",
    "# Read each CSV file in the data folder\n",
    "for file in files:\n",
    "    if file.endswith('listings2024_03.csv'):\n",
    "        print(\"df2024_03\")\n",
    "        file_path1 = os.path.join(data_folder, file)\n",
    "        df2024_03 = pd.read_csv(file_path1)\n",
    "    elif file.endswith('listings2024_02.csv'):\n",
    "        print(\"df2024_02\")\n",
    "        file_path2 = os.path.join(data_folder, file)\n",
    "        df2024_02 = pd.read_csv(file_path2)\n",
    "    elif file.endswith(\"listings2024_01.csv\"):\n",
    "        print(\"df2024_01\")\n",
    "        file_path3 = os.path.join(data_folder, file)\n",
    "        df2024_01 = pd.read_csv(file_path3)\n",
    "    elif file.endswith(\"listings2023_12.csv\"):\n",
    "        print(\"df2023_12\")\n",
    "        file_path4 = os.path.join(data_folder, file)\n",
    "        df2023_12 = pd.read_csv(file_path4)\n",
    "    elif file.endswith(\"listings2023_11.csv\"):\n",
    "        print(\"df2023_11\")\n",
    "        file_path5 = os.path.join(data_folder, file)\n",
    "        df2023_11 = pd.read_csv(file_path5)\n",
    "    elif file.endswith(\"listings2023_10.csv\"):\n",
    "        print(\"df2023_10\")\n",
    "        file_path6 = os.path.join(data_folder, file)\n",
    "        df2023_10 = pd.read_csv(file_path6)\n",
    "    elif file.endswith(\"listings2023_09.csv\"):\n",
    "        print(\"df2023_09\")\n",
    "        file_path7 = os.path.join(data_folder, file)\n",
    "        df2023_09 = pd.read_csv(file_path7)\n",
    "    elif file.endswith(\"listings2023_08.csv\"):\n",
    "        print(\"df2023_08\")\n",
    "        file_path8 = os.path.join(data_folder, file)\n",
    "        df2023_08 = pd.read_csv(file_path8)\n",
    "    elif file.endswith(\"listings2023_07.csv\"):\n",
    "        print(\"df2023_07\")\n",
    "        file_path9 = os.path.join(data_folder, file)\n",
    "        df2023_07 = pd.read_csv(file_path9)        \n",
    "    elif file.endswith(\"listings2023_06.csv\"):\n",
    "        print(\"df2023_06\")\n",
    "        file_path10 = os.path.join(data_folder, file)\n",
    "        df2023_06 = pd.read_csv(file_path10)        \n",
    "    elif file.endswith(\"listings2023_05.csv\"):\n",
    "        print(\"df2023_05\")\n",
    "        file_path11 = os.path.join(data_folder, file)\n",
    "        df2023_05 = pd.read_csv(file_path11)\n",
    "    elif file.endswith(\"listings2023_04.csv\"):\n",
    "        print(\"df2023_04\")\n",
    "        file_path12 = os.path.join(data_folder, file)\n",
    "        df2023_04 = pd.read_csv(file_path12)\n",
    "  \n",
    "    \n"
   ]
  },
  {
   "cell_type": "code",
   "execution_count": 3,
   "id": "0b8ee4d1-e043-4c13-95f3-c19f08f935de",
   "metadata": {},
   "outputs": [
    {
     "name": "stdout",
     "output_type": "stream",
     "text": [
      "Length of df2023_04: 43582\n",
      "Length of df2023_05: 39719\n",
      "Length of df2023_06: 39453\n",
      "Length of df2023_07: 39202\n",
      "Length of df2023_08: 39319\n",
      "Length of df2023_09: 43729\n",
      "Length of df2023_10: 39627\n",
      "Length of df2023_11: 43566\n",
      "Length of df2023_12: 38792\n",
      "Length of df2024_01: 43241\n",
      "Length of df2024_02: 43303\n",
      "Length of df2024_03: 39160\n"
     ]
    }
   ],
   "source": [
    "# List of DataFrames\n",
    "dataframes = [\n",
    "    df2023_08, df2024_01, df2023_09, df2024_02, df2024_03,\n",
    "    df2023_07, df2023_12, df2023_06, df2023_10, df2023_04,\n",
    "    df2023_05, df2023_11\n",
    "]\n",
    "\n",
    "# Dictionary to hold the names and lengths\n",
    "df_lengths = {}\n",
    "\n",
    "# Iterate through the DataFrames and print their lengths\n",
    "for i, df in enumerate(dataframes, start=4):\n",
    "    month_year = f\"df2023_{i:02}\" if i < 13 else f\"df2024_{i - 12:02}\"\n",
    "    df_lengths[month_year] = len(df)\n",
    "\n",
    "# Print the lengths\n",
    "for name, length in df_lengths.items():\n",
    "    print(f\"Length of {name}: {length}\")"
   ]
  },
  {
   "cell_type": "code",
   "execution_count": 4,
   "id": "3315be25",
   "metadata": {},
   "outputs": [
    {
     "name": "stdout",
     "output_type": "stream",
     "text": [
      "Missing values in df2023_04:\n",
      "id                                    0\n",
      "name                                  0\n",
      "host_id                               0\n",
      "host_name                             5\n",
      "neighbourhood_group                   0\n",
      "neighbourhood                         0\n",
      "latitude                              0\n",
      "longitude                             0\n",
      "room_type                             0\n",
      "price                                 0\n",
      "minimum_nights                        0\n",
      "number_of_reviews                     0\n",
      "last_review                       10603\n",
      "reviews_per_month                 10603\n",
      "calculated_host_listings_count        0\n",
      "availability_365                      0\n",
      "number_of_reviews_ltm                 0\n",
      "license                           43582\n",
      "dtype: int64\n",
      "\n",
      "Missing values in df2023_05:\n",
      "id                                    0\n",
      "name                                  0\n",
      "host_id                               0\n",
      "host_name                             5\n",
      "neighbourhood_group                   0\n",
      "neighbourhood                         0\n",
      "latitude                              0\n",
      "longitude                             0\n",
      "room_type                             0\n",
      "price                             10628\n",
      "minimum_nights                        0\n",
      "number_of_reviews                     0\n",
      "last_review                       11543\n",
      "reviews_per_month                 11543\n",
      "calculated_host_listings_count        0\n",
      "availability_365                      0\n",
      "number_of_reviews_ltm                 0\n",
      "license                           35027\n",
      "dtype: int64\n",
      "\n",
      "Missing values in df2023_06:\n",
      "id                                    0\n",
      "name                                  0\n",
      "host_id                               0\n",
      "host_name                             5\n",
      "neighbourhood_group                   0\n",
      "neighbourhood                         0\n",
      "latitude                              0\n",
      "longitude                             0\n",
      "room_type                             0\n",
      "price                                 0\n",
      "minimum_nights                        0\n",
      "number_of_reviews                     0\n",
      "last_review                       10241\n",
      "reviews_per_month                 10241\n",
      "calculated_host_listings_count        0\n",
      "availability_365                      0\n",
      "number_of_reviews_ltm                 0\n",
      "license                           39453\n",
      "dtype: int64\n",
      "\n",
      "Missing values in df2023_07:\n",
      "id                                    0\n",
      "name                                  0\n",
      "host_id                               0\n",
      "host_name                             5\n",
      "neighbourhood_group                   0\n",
      "neighbourhood                         0\n",
      "latitude                              0\n",
      "longitude                             0\n",
      "room_type                             0\n",
      "price                             14935\n",
      "minimum_nights                        0\n",
      "number_of_reviews                     0\n",
      "last_review                       11500\n",
      "reviews_per_month                 11500\n",
      "calculated_host_listings_count        0\n",
      "availability_365                      0\n",
      "number_of_reviews_ltm                 0\n",
      "license                           34397\n",
      "dtype: int64\n",
      "\n",
      "Missing values in df2023_08:\n",
      "id                                    0\n",
      "name                                  2\n",
      "host_id                               0\n",
      "host_name                             6\n",
      "neighbourhood_group                   0\n",
      "neighbourhood                         0\n",
      "latitude                              0\n",
      "longitude                             0\n",
      "room_type                             0\n",
      "price                             15042\n",
      "minimum_nights                        0\n",
      "number_of_reviews                     0\n",
      "last_review                       11805\n",
      "reviews_per_month                 11805\n",
      "calculated_host_listings_count        0\n",
      "availability_365                      0\n",
      "number_of_reviews_ltm                 0\n",
      "license                           34212\n",
      "dtype: int64\n",
      "\n",
      "Missing values in df2023_09:\n",
      "id                                    0\n",
      "name                                  0\n",
      "host_id                               0\n",
      "host_name                             5\n",
      "neighbourhood_group                   0\n",
      "neighbourhood                         0\n",
      "latitude                              0\n",
      "longitude                             0\n",
      "room_type                             0\n",
      "price                                 0\n",
      "minimum_nights                        0\n",
      "number_of_reviews                     0\n",
      "last_review                       10497\n",
      "reviews_per_month                 10497\n",
      "calculated_host_listings_count        0\n",
      "availability_365                      0\n",
      "number_of_reviews_ltm                 0\n",
      "license                           43729\n",
      "dtype: int64\n",
      "\n",
      "Missing values in df2023_10:\n",
      "id                                    0\n",
      "name                                  0\n",
      "host_id                               0\n",
      "host_name                            15\n",
      "neighbourhood_group                   0\n",
      "neighbourhood                         0\n",
      "latitude                              0\n",
      "longitude                             0\n",
      "room_type                             0\n",
      "price                                 0\n",
      "minimum_nights                        0\n",
      "number_of_reviews                     0\n",
      "last_review                       11480\n",
      "reviews_per_month                 11480\n",
      "calculated_host_listings_count        0\n",
      "availability_365                      0\n",
      "number_of_reviews_ltm                 0\n",
      "license                           35268\n",
      "dtype: int64\n",
      "\n",
      "Missing values in df2023_11:\n",
      "id                                    0\n",
      "name                                  0\n",
      "host_id                               0\n",
      "host_name                             5\n",
      "neighbourhood_group                   0\n",
      "neighbourhood                         0\n",
      "latitude                              0\n",
      "longitude                             0\n",
      "room_type                             0\n",
      "price                                 0\n",
      "minimum_nights                        0\n",
      "number_of_reviews                     0\n",
      "last_review                       10496\n",
      "reviews_per_month                 10496\n",
      "calculated_host_listings_count        0\n",
      "availability_365                      0\n",
      "number_of_reviews_ltm                 0\n",
      "license                           43566\n",
      "dtype: int64\n",
      "\n",
      "Missing values in df2023_12:\n",
      "id                                    0\n",
      "name                                  0\n",
      "host_id                               0\n",
      "host_name                             5\n",
      "neighbourhood_group                   0\n",
      "neighbourhood                         0\n",
      "latitude                              0\n",
      "longitude                             0\n",
      "room_type                             0\n",
      "price                                 0\n",
      "minimum_nights                        0\n",
      "number_of_reviews                     0\n",
      "last_review                       10352\n",
      "reviews_per_month                 10352\n",
      "calculated_host_listings_count        0\n",
      "availability_365                      0\n",
      "number_of_reviews_ltm                 0\n",
      "license                           35853\n",
      "dtype: int64\n",
      "\n",
      "Missing values in df2024_01:\n",
      "id                                    0\n",
      "name                                 12\n",
      "host_id                               0\n",
      "host_name                             5\n",
      "neighbourhood_group                   0\n",
      "neighbourhood                         0\n",
      "latitude                              0\n",
      "longitude                             0\n",
      "room_type                             0\n",
      "price                                 0\n",
      "minimum_nights                        0\n",
      "number_of_reviews                     0\n",
      "last_review                       10606\n",
      "reviews_per_month                 10606\n",
      "calculated_host_listings_count        0\n",
      "availability_365                      0\n",
      "number_of_reviews_ltm                 0\n",
      "license                           43240\n",
      "dtype: int64\n",
      "\n",
      "Missing values in df2024_02:\n",
      "id                                    0\n",
      "name                                  9\n",
      "host_id                               0\n",
      "host_name                             5\n",
      "neighbourhood_group                   0\n",
      "neighbourhood                         0\n",
      "latitude                              0\n",
      "longitude                             0\n",
      "room_type                             0\n",
      "price                                 0\n",
      "minimum_nights                        0\n",
      "number_of_reviews                     0\n",
      "last_review                       10436\n",
      "reviews_per_month                 10436\n",
      "calculated_host_listings_count        0\n",
      "availability_365                      0\n",
      "number_of_reviews_ltm                 0\n",
      "license                           43302\n",
      "dtype: int64\n",
      "\n",
      "Missing values in df2024_03:\n",
      "id                                    0\n",
      "name                                  0\n",
      "host_id                               0\n",
      "host_name                             5\n",
      "neighbourhood_group                   0\n",
      "neighbourhood                         0\n",
      "latitude                              0\n",
      "longitude                             0\n",
      "room_type                             0\n",
      "price                                 0\n",
      "minimum_nights                        0\n",
      "number_of_reviews                     0\n",
      "last_review                       10949\n",
      "reviews_per_month                 10949\n",
      "calculated_host_listings_count        0\n",
      "availability_365                      0\n",
      "number_of_reviews_ltm                 0\n",
      "license                           35281\n",
      "dtype: int64\n",
      "\n"
     ]
    }
   ],
   "source": [
    "df_missing_values = {}\n",
    "\n",
    "for i, df in enumerate(dataframes, start=4):\n",
    "    month_year = f\"df2023_{i:02}\" if i < 13 else f\"df2024_{i - 12:02}\"\n",
    "    df_missing_values[month_year] = df.isnull().sum()\n",
    "\n",
    "for name, missing_counts in df_missing_values.items():\n",
    "    print(f\"Missing values in {name}:\")\n",
    "    print(missing_counts)\n",
    "    print() "
   ]
  },
  {
   "cell_type": "markdown",
   "id": "a645709c",
   "metadata": {},
   "source": [
    "### Add Zipcode"
   ]
  },
  {
   "cell_type": "code",
   "execution_count": 5,
   "id": "ddbb443e",
   "metadata": {},
   "outputs": [],
   "source": [
    "NYCzipcode = gpd.read_file('./Data/ZIPCODE/ZIP_CODE_040114.shp')"
   ]
  },
  {
   "cell_type": "code",
   "execution_count": 6,
   "id": "c87dc57e",
   "metadata": {
    "scrolled": true
   },
   "outputs": [
    {
     "data": {
      "text/plain": [
       "'\\nLength of df2023_04: 43582\\nLength of df2023_05: 39719\\nLength of df2023_06: 39453\\nLength of df2023_07: 39202\\nLength of df2023_08: 39319\\nLength of df2023_09: 43729\\nLength of df2023_10: 39627\\nLength of df2023_11: 43566\\nLength of df2023_12: 38792\\n'"
      ]
     },
     "execution_count": 6,
     "metadata": {},
     "output_type": "execute_result"
    }
   ],
   "source": [
    "\"\"\"\n",
    "Length of df2023_04: 43582\n",
    "Length of df2023_05: 39719\n",
    "Length of df2023_06: 39453\n",
    "Length of df2023_07: 39202\n",
    "Length of df2023_08: 39319\n",
    "Length of df2023_09: 43729\n",
    "Length of df2023_10: 39627\n",
    "Length of df2023_11: 43566\n",
    "Length of df2023_12: 38792\n",
    "\"\"\""
   ]
  },
  {
   "cell_type": "code",
   "execution_count": 7,
   "id": "f26217eb",
   "metadata": {},
   "outputs": [],
   "source": [
    "df2023_04_gdf = gpd.GeoDataFrame(\n",
    "    df2023_04,\n",
    "    geometry=gpd.points_from_xy(df2023_04.longitude, df2023_04.latitude),\n",
    "    crs=\"EPSG:4326\"\n",
    ")"
   ]
  },
  {
   "cell_type": "code",
   "execution_count": 8,
   "id": "98bb4020",
   "metadata": {},
   "outputs": [],
   "source": [
    "df2023_05_gdf = gpd.GeoDataFrame(\n",
    "    df2023_05,\n",
    "    geometry=gpd.points_from_xy(df2023_05.longitude, df2023_05.latitude),\n",
    "    crs=\"EPSG:4326\"\n",
    ")"
   ]
  },
  {
   "cell_type": "code",
   "execution_count": 9,
   "id": "3d732c22",
   "metadata": {},
   "outputs": [],
   "source": [
    "df2023_06_gdf = gpd.GeoDataFrame(\n",
    "    df2023_06,\n",
    "    geometry=gpd.points_from_xy(df2023_06.longitude, df2023_06.latitude),\n",
    "    crs=\"EPSG:4326\"\n",
    ")"
   ]
  },
  {
   "cell_type": "code",
   "execution_count": 10,
   "id": "5cb77483",
   "metadata": {},
   "outputs": [],
   "source": [
    "df2023_07_gdf = gpd.GeoDataFrame(\n",
    "    df2023_07,\n",
    "    geometry=gpd.points_from_xy(df2023_07.longitude, df2023_07.latitude),\n",
    "    crs=\"EPSG:4326\"\n",
    ")"
   ]
  },
  {
   "cell_type": "code",
   "execution_count": 11,
   "id": "866ed493",
   "metadata": {},
   "outputs": [],
   "source": [
    "df2023_08_gdf = gpd.GeoDataFrame(\n",
    "    df2023_08,\n",
    "    geometry=gpd.points_from_xy(df2023_08.longitude, df2023_08.latitude),\n",
    "    crs=\"EPSG:4326\"\n",
    ")"
   ]
  },
  {
   "cell_type": "code",
   "execution_count": 12,
   "id": "180a74c7",
   "metadata": {},
   "outputs": [],
   "source": [
    "df2023_09_gdf = gpd.GeoDataFrame(\n",
    "    df2023_09,\n",
    "    geometry=gpd.points_from_xy(df2023_09.longitude, df2023_09.latitude),\n",
    "    crs=\"EPSG:4326\"\n",
    ")"
   ]
  },
  {
   "cell_type": "code",
   "execution_count": 13,
   "id": "111aadee",
   "metadata": {},
   "outputs": [],
   "source": [
    "df2023_10_gdf = gpd.GeoDataFrame(\n",
    "    df2023_10,\n",
    "    geometry=gpd.points_from_xy(df2023_10.longitude, df2023_10.latitude),\n",
    "    crs=\"EPSG:4326\"\n",
    ")"
   ]
  },
  {
   "cell_type": "code",
   "execution_count": 14,
   "id": "52868ffb",
   "metadata": {},
   "outputs": [],
   "source": [
    "df2023_11_gdf = gpd.GeoDataFrame(\n",
    "    df2023_11,\n",
    "    geometry=gpd.points_from_xy(df2023_11.longitude, df2023_11.latitude),\n",
    "    crs=\"EPSG:4326\"\n",
    ")"
   ]
  },
  {
   "cell_type": "code",
   "execution_count": 15,
   "id": "eb3a0fe2",
   "metadata": {},
   "outputs": [],
   "source": [
    "df2023_12_gdf = gpd.GeoDataFrame(\n",
    "    df2023_12,\n",
    "    geometry=gpd.points_from_xy(df2023_12.longitude, df2023_12.latitude),\n",
    "    crs=\"EPSG:4326\"\n",
    ")"
   ]
  },
  {
   "cell_type": "code",
   "execution_count": 16,
   "id": "1e4a1326",
   "metadata": {},
   "outputs": [],
   "source": [
    "df2024_01_gdf = gpd.GeoDataFrame(\n",
    "    df2024_01,\n",
    "    geometry=gpd.points_from_xy(df2024_01.longitude, df2024_01.latitude),\n",
    "    crs=\"EPSG:4326\"\n",
    ")"
   ]
  },
  {
   "cell_type": "code",
   "execution_count": 17,
   "id": "7bf2a760",
   "metadata": {},
   "outputs": [],
   "source": [
    "df2024_02_gdf = gpd.GeoDataFrame(\n",
    "    df2024_02,\n",
    "    geometry=gpd.points_from_xy(df2024_02.longitude, df2024_02.latitude),\n",
    "    crs=\"EPSG:4326\"\n",
    ")"
   ]
  },
  {
   "cell_type": "code",
   "execution_count": 18,
   "id": "a4628a64",
   "metadata": {},
   "outputs": [],
   "source": [
    "df2024_03_gdf = gpd.GeoDataFrame(\n",
    "    df2024_03,\n",
    "    geometry=gpd.points_from_xy(df2024_03.longitude, df2024_03.latitude),\n",
    "    crs=\"EPSG:4326\"\n",
    ")"
   ]
  },
  {
   "cell_type": "code",
   "execution_count": 19,
   "id": "e37914d0",
   "metadata": {},
   "outputs": [],
   "source": [
    "# 2024_1 with ziocode not all data.\n",
    "df2024_01_gdf = df2024_01_gdf.to_crs(NYCzipcode.crs)\n",
    "joined_gdf = gpd.sjoin(df2024_01_gdf, NYCzipcode, how=\"left\", op=\"within\")\n",
    "unique_zipcodes = joined_gdf.reset_index().groupby('index').first()\n",
    "airbnb202401_with_zip = df2024_01.merge(unique_zipcodes[['ZIPCODE']], left_index=True, right_index=True, how='left')\n"
   ]
  },
  {
   "cell_type": "code",
   "execution_count": 20,
   "id": "4b562758",
   "metadata": {},
   "outputs": [],
   "source": [
    "# 2023_4 with ziocode not all data.\n",
    "df2023_04_gdf = df2023_04_gdf.to_crs(NYCzipcode.crs)\n",
    "joined_gdf = gpd.sjoin(df2023_04_gdf, NYCzipcode, how=\"left\", op=\"within\")\n",
    "unique_zipcodes = joined_gdf.reset_index().groupby('index').first()\n",
    "airbnb202304_with_zip = df2023_04.merge(unique_zipcodes[['ZIPCODE']], left_index=True, right_index=True, how='left')\n"
   ]
  },
  {
   "cell_type": "code",
   "execution_count": 21,
   "id": "5e220234",
   "metadata": {},
   "outputs": [],
   "source": [
    "# 2023_5 with ziocode not all data.\n",
    "df2023_05_gdf = df2023_05_gdf.to_crs(NYCzipcode.crs)\n",
    "joined_gdf = gpd.sjoin(df2023_05_gdf, NYCzipcode, how=\"left\", op=\"within\")\n",
    "unique_zipcodes = joined_gdf.reset_index().groupby('index').first()\n",
    "airbnb202305_with_zip = df2023_05.merge(unique_zipcodes[['ZIPCODE']], left_index=True, right_index=True, how='left')\n"
   ]
  },
  {
   "cell_type": "code",
   "execution_count": 22,
   "id": "989d0418",
   "metadata": {},
   "outputs": [],
   "source": [
    "# 2023_6 with ziocode not all data.\n",
    "df2023_06_gdf = df2023_06_gdf.to_crs(NYCzipcode.crs)\n",
    "joined_gdf = gpd.sjoin(df2023_06_gdf, NYCzipcode, how=\"left\", op=\"within\")\n",
    "unique_zipcodes = joined_gdf.reset_index().groupby('index').first()\n",
    "airbnb202306_with_zip = df2023_06.merge(unique_zipcodes[['ZIPCODE']], left_index=True, right_index=True, how='left')\n"
   ]
  },
  {
   "cell_type": "code",
   "execution_count": 23,
   "id": "b7942575",
   "metadata": {},
   "outputs": [],
   "source": [
    "# 2023_7 with ziocode not all data.\n",
    "df2023_07_gdf = df2023_07_gdf.to_crs(NYCzipcode.crs)\n",
    "joined_gdf = gpd.sjoin(df2023_07_gdf, NYCzipcode, how=\"left\", op=\"within\")\n",
    "unique_zipcodes = joined_gdf.reset_index().groupby('index').first()\n",
    "airbnb202307_with_zip = df2023_07.merge(unique_zipcodes[['ZIPCODE']], left_index=True, right_index=True, how='left')\n"
   ]
  },
  {
   "cell_type": "code",
   "execution_count": 24,
   "id": "25a2383c",
   "metadata": {},
   "outputs": [],
   "source": [
    "# 2023_8 with ziocode not all data.\n",
    "df2023_08_gdf = df2023_08_gdf.to_crs(NYCzipcode.crs)\n",
    "joined_gdf = gpd.sjoin(df2023_08_gdf, NYCzipcode, how=\"left\", op=\"within\")\n",
    "unique_zipcodes = joined_gdf.reset_index().groupby('index').first()\n",
    "airbnb202308_with_zip = df2023_08.merge(unique_zipcodes[['ZIPCODE']], left_index=True, right_index=True, how='left')\n"
   ]
  },
  {
   "cell_type": "code",
   "execution_count": 25,
   "id": "cc6642d5",
   "metadata": {},
   "outputs": [],
   "source": [
    "# 2023_9 with ziocode not all data.\n",
    "df2023_09_gdf = df2023_09_gdf.to_crs(NYCzipcode.crs)\n",
    "joined_gdf = gpd.sjoin(df2023_09_gdf, NYCzipcode, how=\"left\", op=\"within\")\n",
    "unique_zipcodes = joined_gdf.reset_index().groupby('index').first()\n",
    "airbnb202309_with_zip = df2023_09.merge(unique_zipcodes[['ZIPCODE']], left_index=True, right_index=True, how='left')\n"
   ]
  },
  {
   "cell_type": "code",
   "execution_count": 26,
   "id": "85388e41",
   "metadata": {},
   "outputs": [],
   "source": [
    "# 2023_10 with ziocode not all data.\n",
    "df2023_10_gdf = df2023_10_gdf.to_crs(NYCzipcode.crs)\n",
    "joined_gdf = gpd.sjoin(df2023_10_gdf, NYCzipcode, how=\"left\", op=\"within\")\n",
    "unique_zipcodes = joined_gdf.reset_index().groupby('index').first()\n",
    "airbnb202310_with_zip = df2023_10.merge(unique_zipcodes[['ZIPCODE']], left_index=True, right_index=True, how='left')\n"
   ]
  },
  {
   "cell_type": "code",
   "execution_count": 27,
   "id": "f8486079",
   "metadata": {},
   "outputs": [],
   "source": [
    "# 2023_11 with ziocode not all data.\n",
    "df2023_11_gdf = df2023_11_gdf.to_crs(NYCzipcode.crs)\n",
    "joined_gdf = gpd.sjoin(df2023_11_gdf, NYCzipcode, how=\"left\", op=\"within\")\n",
    "unique_zipcodes = joined_gdf.reset_index().groupby('index').first()\n",
    "airbnb202311_with_zip = df2023_11.merge(unique_zipcodes[['ZIPCODE']], left_index=True, right_index=True, how='left')\n"
   ]
  },
  {
   "cell_type": "code",
   "execution_count": 28,
   "id": "4943a5f6",
   "metadata": {},
   "outputs": [],
   "source": [
    "# 2023_12 with ziocode not all data.\n",
    "df2023_12_gdf = df2023_12_gdf.to_crs(NYCzipcode.crs)\n",
    "joined_gdf = gpd.sjoin(df2023_12_gdf, NYCzipcode, how=\"left\", op=\"within\")\n",
    "unique_zipcodes = joined_gdf.reset_index().groupby('index').first()\n",
    "airbnb202312_with_zip = df2023_12.merge(unique_zipcodes[['ZIPCODE']], left_index=True, right_index=True, how='left')\n"
   ]
  },
  {
   "cell_type": "code",
   "execution_count": 29,
   "id": "9dfa871c",
   "metadata": {},
   "outputs": [],
   "source": [
    "# 2024_2 with ziocode not all data.\n",
    "df2024_02_gdf = df2024_02_gdf.to_crs(NYCzipcode.crs)\n",
    "joined_gdf = gpd.sjoin(df2024_02_gdf, NYCzipcode, how=\"left\", op=\"within\")\n",
    "unique_zipcodes = joined_gdf.reset_index().groupby('index').first()\n",
    "airbnb202402_with_zip = df2024_02.merge(unique_zipcodes[['ZIPCODE']], left_index=True, right_index=True, how='left')\n"
   ]
  },
  {
   "cell_type": "code",
   "execution_count": 30,
   "id": "3c436c0d",
   "metadata": {},
   "outputs": [],
   "source": [
    "# 2024_3 with ziocode not all data.\n",
    "df2024_03_gdf = df2024_03_gdf.to_crs(NYCzipcode.crs)\n",
    "joined_gdf = gpd.sjoin(df2024_03_gdf, NYCzipcode, how=\"left\", op=\"within\")\n",
    "unique_zipcodes = joined_gdf.reset_index().groupby('index').first()\n",
    "airbnb202403_with_zip = df2024_03.merge(unique_zipcodes[['ZIPCODE']], left_index=True, right_index=True, how='left')\n"
   ]
  },
  {
   "cell_type": "code",
   "execution_count": 31,
   "id": "2a7753bd",
   "metadata": {
    "scrolled": false
   },
   "outputs": [
    {
     "data": {
      "text/plain": [
       "39719"
      ]
     },
     "execution_count": 31,
     "metadata": {},
     "output_type": "execute_result"
    }
   ],
   "source": [
    "#Removing the Duplicates if any\n",
    "airbnb202401_with_zip.duplicated().sum()\n",
    "airbnb202401_with_zip.drop_duplicates(inplace=True)\n",
    "len(airbnb202401_with_zip)"
   ]
  },
  {
   "cell_type": "code",
   "execution_count": 32,
   "id": "47e06ea7",
   "metadata": {
    "scrolled": true
   },
   "outputs": [
    {
     "data": {
      "text/plain": [
       "39202"
      ]
     },
     "execution_count": 32,
     "metadata": {},
     "output_type": "execute_result"
    }
   ],
   "source": [
    "#Removing the Duplicates if any\n",
    "airbnb202402_with_zip.duplicated().sum()\n",
    "airbnb202402_with_zip.drop_duplicates(inplace=True)\n",
    "len(airbnb202402_with_zip)"
   ]
  },
  {
   "cell_type": "code",
   "execution_count": 33,
   "id": "6b7358ea",
   "metadata": {},
   "outputs": [
    {
     "data": {
      "text/plain": [
       "39319"
      ]
     },
     "execution_count": 33,
     "metadata": {},
     "output_type": "execute_result"
    }
   ],
   "source": [
    "#Removing the Duplicates if any\n",
    "airbnb202403_with_zip.duplicated().sum()\n",
    "airbnb202403_with_zip.drop_duplicates(inplace=True)\n",
    "len(airbnb202403_with_zip)"
   ]
  },
  {
   "cell_type": "code",
   "execution_count": 34,
   "id": "05af36de",
   "metadata": {},
   "outputs": [
    {
     "data": {
      "text/plain": [
       "43241"
      ]
     },
     "execution_count": 34,
     "metadata": {},
     "output_type": "execute_result"
    }
   ],
   "source": [
    "#Removing the Duplicates if any\n",
    "airbnb202304_with_zip.duplicated().sum()\n",
    "airbnb202304_with_zip.drop_duplicates(inplace=True)\n",
    "len(airbnb202304_with_zip)"
   ]
  },
  {
   "cell_type": "code",
   "execution_count": 35,
   "id": "b728613a",
   "metadata": {},
   "outputs": [
    {
     "data": {
      "text/plain": [
       "43303"
      ]
     },
     "execution_count": 35,
     "metadata": {},
     "output_type": "execute_result"
    }
   ],
   "source": [
    "#Removing the Duplicates if any\n",
    "airbnb202305_with_zip.duplicated().sum()\n",
    "airbnb202305_with_zip.drop_duplicates(inplace=True)\n",
    "len(airbnb202305_with_zip)"
   ]
  },
  {
   "cell_type": "code",
   "execution_count": 36,
   "id": "96f522d1",
   "metadata": {},
   "outputs": [
    {
     "data": {
      "text/plain": [
       "43566"
      ]
     },
     "execution_count": 36,
     "metadata": {},
     "output_type": "execute_result"
    }
   ],
   "source": [
    "#Removing the Duplicates if any\n",
    "airbnb202306_with_zip.duplicated().sum()\n",
    "airbnb202306_with_zip.drop_duplicates(inplace=True)\n",
    "len(airbnb202306_with_zip)"
   ]
  },
  {
   "cell_type": "code",
   "execution_count": 37,
   "id": "12d8cfc8",
   "metadata": {},
   "outputs": [
    {
     "data": {
      "text/plain": [
       "43729"
      ]
     },
     "execution_count": 37,
     "metadata": {},
     "output_type": "execute_result"
    }
   ],
   "source": [
    "#Removing the Duplicates if any\n",
    "airbnb202307_with_zip.duplicated().sum()\n",
    "airbnb202307_with_zip.drop_duplicates(inplace=True)\n",
    "len(airbnb202307_with_zip)"
   ]
  },
  {
   "cell_type": "code",
   "execution_count": 38,
   "id": "9e99e58c",
   "metadata": {},
   "outputs": [
    {
     "data": {
      "text/plain": [
       "43582"
      ]
     },
     "execution_count": 38,
     "metadata": {},
     "output_type": "execute_result"
    }
   ],
   "source": [
    "#Removing the Duplicates if any\n",
    "airbnb202308_with_zip.duplicated().sum()\n",
    "airbnb202308_with_zip.drop_duplicates(inplace=True)\n",
    "len(airbnb202308_with_zip)"
   ]
  },
  {
   "cell_type": "code",
   "execution_count": 39,
   "id": "a2415a41",
   "metadata": {},
   "outputs": [
    {
     "data": {
      "text/plain": [
       "39453"
      ]
     },
     "execution_count": 39,
     "metadata": {},
     "output_type": "execute_result"
    }
   ],
   "source": [
    "#Removing the Duplicates if any\n",
    "airbnb202309_with_zip.duplicated().sum()\n",
    "airbnb202309_with_zip.drop_duplicates(inplace=True)\n",
    "len(airbnb202309_with_zip)"
   ]
  },
  {
   "cell_type": "code",
   "execution_count": 40,
   "id": "cf1eae5a",
   "metadata": {},
   "outputs": [
    {
     "data": {
      "text/plain": [
       "38792"
      ]
     },
     "execution_count": 40,
     "metadata": {},
     "output_type": "execute_result"
    }
   ],
   "source": [
    "#Removing the Duplicates if any\n",
    "airbnb202310_with_zip.duplicated().sum()\n",
    "airbnb202310_with_zip.drop_duplicates(inplace=True)\n",
    "len(airbnb202310_with_zip)"
   ]
  },
  {
   "cell_type": "code",
   "execution_count": 41,
   "id": "bd9736e5",
   "metadata": {},
   "outputs": [
    {
     "data": {
      "text/plain": [
       "39160"
      ]
     },
     "execution_count": 41,
     "metadata": {},
     "output_type": "execute_result"
    }
   ],
   "source": [
    "#Removing the Duplicates if any\n",
    "airbnb202311_with_zip.duplicated().sum()\n",
    "airbnb202311_with_zip.drop_duplicates(inplace=True)\n",
    "len(airbnb202311_with_zip)"
   ]
  },
  {
   "cell_type": "code",
   "execution_count": 42,
   "id": "06ac3599",
   "metadata": {},
   "outputs": [
    {
     "data": {
      "text/plain": [
       "39627"
      ]
     },
     "execution_count": 42,
     "metadata": {},
     "output_type": "execute_result"
    }
   ],
   "source": [
    "#Removing the Duplicates if any\n",
    "airbnb202312_with_zip.duplicated().sum()\n",
    "airbnb202312_with_zip.drop_duplicates(inplace=True)\n",
    "len(airbnb202312_with_zip)"
   ]
  },
  {
   "cell_type": "code",
   "execution_count": 43,
   "id": "8077b607",
   "metadata": {},
   "outputs": [
    {
     "data": {
      "text/plain": [
       "Index(['id', 'name', 'host_id', 'host_name', 'neighbourhood_group',\n",
       "       'neighbourhood', 'latitude', 'longitude', 'room_type', 'price',\n",
       "       'minimum_nights', 'number_of_reviews', 'last_review',\n",
       "       'reviews_per_month', 'calculated_host_listings_count',\n",
       "       'availability_365', 'number_of_reviews_ltm', 'license', 'ZIPCODE'],\n",
       "      dtype='object')"
      ]
     },
     "execution_count": 43,
     "metadata": {},
     "output_type": "execute_result"
    }
   ],
   "source": [
    "airbnb202401_with_zip.columns"
   ]
  },
  {
   "cell_type": "code",
   "execution_count": 44,
   "id": "dd2ba6cc",
   "metadata": {},
   "outputs": [
    {
     "data": {
      "text/plain": [
       "array([ True,  True,  True,  True,  True,  True,  True,  True,  True,\n",
       "        True,  True,  True,  True,  True,  True,  True,  True,  True,\n",
       "        True])"
      ]
     },
     "execution_count": 44,
     "metadata": {},
     "output_type": "execute_result"
    }
   ],
   "source": [
    "airbnb202402_with_zip.columns == airbnb202401_with_zip.columns \n",
    "airbnb202402_with_zip.columns == airbnb202403_with_zip.columns\n",
    "airbnb202402_with_zip.columns == airbnb202304_with_zip.columns\n",
    "airbnb202402_with_zip.columns == airbnb202305_with_zip.columns\n",
    "airbnb202402_with_zip.columns == airbnb202306_with_zip.columns\n",
    "airbnb202402_with_zip.columns == airbnb202307_with_zip.columns\n",
    "airbnb202402_with_zip.columns == airbnb202308_with_zip.columns\n",
    "airbnb202402_with_zip.columns == airbnb202309_with_zip.columns\n",
    "airbnb202402_with_zip.columns == airbnb202310_with_zip.columns\n",
    "airbnb202402_with_zip.columns == airbnb202311_with_zip.columns\n",
    "airbnb202402_with_zip.columns == airbnb202312_with_zip.columns"
   ]
  },
  {
   "cell_type": "markdown",
   "id": "4d89cf9d",
   "metadata": {},
   "source": [
    "### Crime Data"
   ]
  },
  {
   "cell_type": "code",
   "execution_count": 45,
   "id": "118c21a1",
   "metadata": {},
   "outputs": [
    {
     "data": {
      "text/html": [
       "<div>\n",
       "<style scoped>\n",
       "    .dataframe tbody tr th:only-of-type {\n",
       "        vertical-align: middle;\n",
       "    }\n",
       "\n",
       "    .dataframe tbody tr th {\n",
       "        vertical-align: top;\n",
       "    }\n",
       "\n",
       "    .dataframe thead th {\n",
       "        text-align: right;\n",
       "    }\n",
       "</style>\n",
       "<table border=\"1\" class=\"dataframe\">\n",
       "  <thead>\n",
       "    <tr style=\"text-align: right;\">\n",
       "      <th></th>\n",
       "      <th>Full Complaint ID</th>\n",
       "      <th>Complaint Year Number</th>\n",
       "      <th>Month Number</th>\n",
       "      <th>Record Create Date</th>\n",
       "      <th>Complaint Precinct Code</th>\n",
       "      <th>Patrol Borough Name</th>\n",
       "      <th>County</th>\n",
       "      <th>Law Code Category Description</th>\n",
       "      <th>Offense Description</th>\n",
       "      <th>PD Code Description</th>\n",
       "      <th>Bias Motive Description</th>\n",
       "      <th>Offense Category</th>\n",
       "      <th>Arrest Date</th>\n",
       "      <th>Arrest Id</th>\n",
       "    </tr>\n",
       "  </thead>\n",
       "  <tbody>\n",
       "    <tr>\n",
       "      <th>0</th>\n",
       "      <td>202206012204617</td>\n",
       "      <td>2022</td>\n",
       "      <td>3</td>\n",
       "      <td>03/07/2022</td>\n",
       "      <td>60</td>\n",
       "      <td>PATROL BORO BKLYN SOUTH</td>\n",
       "      <td>KINGS</td>\n",
       "      <td>FELONY</td>\n",
       "      <td>MISCELLANEOUS PENAL LAW</td>\n",
       "      <td>AGGRAVATED HARASSMENT 1</td>\n",
       "      <td>ANTI-JEWISH</td>\n",
       "      <td>Religion/Religious Practice</td>\n",
       "      <td>NaN</td>\n",
       "      <td>NaN</td>\n",
       "    </tr>\n",
       "    <tr>\n",
       "      <th>1</th>\n",
       "      <td>202006012153917</td>\n",
       "      <td>2020</td>\n",
       "      <td>2</td>\n",
       "      <td>02/08/2020</td>\n",
       "      <td>60</td>\n",
       "      <td>PATROL BORO BKLYN SOUTH</td>\n",
       "      <td>KINGS</td>\n",
       "      <td>FELONY</td>\n",
       "      <td>MISCELLANEOUS PENAL LAW</td>\n",
       "      <td>AGGRAVATED HARASSMENT 1</td>\n",
       "      <td>ANTI-JEWISH</td>\n",
       "      <td>Religion/Religious Practice</td>\n",
       "      <td>NaN</td>\n",
       "      <td>NaN</td>\n",
       "    </tr>\n",
       "    <tr>\n",
       "      <th>2</th>\n",
       "      <td>202306012418117</td>\n",
       "      <td>2023</td>\n",
       "      <td>5</td>\n",
       "      <td>05/23/2023</td>\n",
       "      <td>60</td>\n",
       "      <td>PATROL BORO BKLYN SOUTH</td>\n",
       "      <td>KINGS</td>\n",
       "      <td>FELONY</td>\n",
       "      <td>MISCELLANEOUS PENAL LAW</td>\n",
       "      <td>AGGRAVATED HARASSMENT 1</td>\n",
       "      <td>ANTI-JEWISH</td>\n",
       "      <td>Religion/Religious Practice</td>\n",
       "      <td>NaN</td>\n",
       "      <td>NaN</td>\n",
       "    </tr>\n",
       "    <tr>\n",
       "      <th>3</th>\n",
       "      <td>202306012285217</td>\n",
       "      <td>2023</td>\n",
       "      <td>4</td>\n",
       "      <td>04/02/2023</td>\n",
       "      <td>60</td>\n",
       "      <td>PATROL BORO BKLYN SOUTH</td>\n",
       "      <td>KINGS</td>\n",
       "      <td>FELONY</td>\n",
       "      <td>MISCELLANEOUS PENAL LAW</td>\n",
       "      <td>AGGRAVATED HARASSMENT 1</td>\n",
       "      <td>ANTI-JEWISH</td>\n",
       "      <td>Religion/Religious Practice</td>\n",
       "      <td>NaN</td>\n",
       "      <td>NaN</td>\n",
       "    </tr>\n",
       "    <tr>\n",
       "      <th>4</th>\n",
       "      <td>202306012358417</td>\n",
       "      <td>2023</td>\n",
       "      <td>4</td>\n",
       "      <td>05/01/2023</td>\n",
       "      <td>60</td>\n",
       "      <td>PATROL BORO BKLYN SOUTH</td>\n",
       "      <td>KINGS</td>\n",
       "      <td>FELONY</td>\n",
       "      <td>MISCELLANEOUS PENAL LAW</td>\n",
       "      <td>AGGRAVATED HARASSMENT 1</td>\n",
       "      <td>ANTI-JEWISH</td>\n",
       "      <td>Religion/Religious Practice</td>\n",
       "      <td>NaN</td>\n",
       "      <td>NaN</td>\n",
       "    </tr>\n",
       "  </tbody>\n",
       "</table>\n",
       "</div>"
      ],
      "text/plain": [
       "   Full Complaint ID  Complaint Year Number  Month Number Record Create Date  \\\n",
       "0    202206012204617                   2022             3         03/07/2022   \n",
       "1    202006012153917                   2020             2         02/08/2020   \n",
       "2    202306012418117                   2023             5         05/23/2023   \n",
       "3    202306012285217                   2023             4         04/02/2023   \n",
       "4    202306012358417                   2023             4         05/01/2023   \n",
       "\n",
       "   Complaint Precinct Code      Patrol Borough Name County  \\\n",
       "0                       60  PATROL BORO BKLYN SOUTH  KINGS   \n",
       "1                       60  PATROL BORO BKLYN SOUTH  KINGS   \n",
       "2                       60  PATROL BORO BKLYN SOUTH  KINGS   \n",
       "3                       60  PATROL BORO BKLYN SOUTH  KINGS   \n",
       "4                       60  PATROL BORO BKLYN SOUTH  KINGS   \n",
       "\n",
       "  Law Code Category Description      Offense Description  \\\n",
       "0                        FELONY  MISCELLANEOUS PENAL LAW   \n",
       "1                        FELONY  MISCELLANEOUS PENAL LAW   \n",
       "2                        FELONY  MISCELLANEOUS PENAL LAW   \n",
       "3                        FELONY  MISCELLANEOUS PENAL LAW   \n",
       "4                        FELONY  MISCELLANEOUS PENAL LAW   \n",
       "\n",
       "       PD Code Description Bias Motive Description  \\\n",
       "0  AGGRAVATED HARASSMENT 1             ANTI-JEWISH   \n",
       "1  AGGRAVATED HARASSMENT 1             ANTI-JEWISH   \n",
       "2  AGGRAVATED HARASSMENT 1             ANTI-JEWISH   \n",
       "3  AGGRAVATED HARASSMENT 1             ANTI-JEWISH   \n",
       "4  AGGRAVATED HARASSMENT 1             ANTI-JEWISH   \n",
       "\n",
       "              Offense Category  Arrest Date Arrest Id  \n",
       "0  Religion/Religious Practice          NaN       NaN  \n",
       "1  Religion/Religious Practice          NaN       NaN  \n",
       "2  Religion/Religious Practice          NaN       NaN  \n",
       "3  Religion/Religious Practice          NaN       NaN  \n",
       "4  Religion/Religious Practice          NaN       NaN  "
      ]
     },
     "execution_count": 45,
     "metadata": {},
     "output_type": "execute_result"
    }
   ],
   "source": [
    "file_path_crimes = os.path.join(data_folder, 'NYPD_Hate_Crimes_20240305.csv')\n",
    "crimes = pd.read_csv(file_path_crimes)\n",
    "crimes.head()"
   ]
  },
  {
   "cell_type": "markdown",
   "id": "356d6eb1",
   "metadata": {},
   "source": [
    "## Descriptive Analysis"
   ]
  },
  {
   "cell_type": "code",
   "execution_count": 46,
   "id": "fb67f55a",
   "metadata": {},
   "outputs": [
    {
     "data": {
      "text/plain": [
       "Full Complaint ID                  int64\n",
       "Complaint Year Number              int64\n",
       "Month Number                       int64\n",
       "Record Create Date                object\n",
       "Complaint Precinct Code            int64\n",
       "Patrol Borough Name               object\n",
       "County                            object\n",
       "Law Code Category Description     object\n",
       "Offense Description               object\n",
       "PD Code Description               object\n",
       "Bias Motive Description           object\n",
       "Offense Category                  object\n",
       "Arrest Date                      float64\n",
       "Arrest Id                         object\n",
       "dtype: object"
      ]
     },
     "execution_count": 46,
     "metadata": {},
     "output_type": "execute_result"
    }
   ],
   "source": [
    "crimes.dtypes"
   ]
  },
  {
   "cell_type": "code",
   "execution_count": 47,
   "id": "29617010",
   "metadata": {},
   "outputs": [
    {
     "data": {
      "text/plain": [
       "array(['KINGS', 'NEW YORK', 'QUEENS', 'BRONX', 'RICHMOND'], dtype=object)"
      ]
     },
     "execution_count": 47,
     "metadata": {},
     "output_type": "execute_result"
    }
   ],
   "source": [
    "crimes.County.unique()"
   ]
  },
  {
   "cell_type": "code",
   "execution_count": 48,
   "id": "54828439",
   "metadata": {},
   "outputs": [
    {
     "data": {
      "text/plain": [
       "array(['Manhattan', 'Brooklyn', 'Queens', 'Staten Island', 'Bronx'],\n",
       "      dtype=object)"
      ]
     },
     "execution_count": 48,
     "metadata": {},
     "output_type": "execute_result"
    }
   ],
   "source": [
    "airbnb202401_with_zip.neighbourhood_group.unique()"
   ]
  },
  {
   "cell_type": "code",
   "execution_count": 49,
   "id": "a7b20047",
   "metadata": {},
   "outputs": [],
   "source": [
    "# Kings= Brooklyn, RichMond= Staten Island\n",
    "county_to_borough = {\n",
    "    'KINGS': 'Brooklyn',\n",
    "    'NEW YORK': 'Manhattan',\n",
    "    'QUEENS': 'Queens',\n",
    "    'BRONX': 'Bronx',\n",
    "    'RICHMOND': 'Staten Island'\n",
    "}\n",
    "\n",
    "# Replace the county names with borough names in the 'County' column\n",
    "crimes['County'] = crimes['County'].replace(county_to_borough)"
   ]
  },
  {
   "cell_type": "code",
   "execution_count": 50,
   "id": "7c280dea",
   "metadata": {},
   "outputs": [
    {
     "data": {
      "text/plain": [
       "array(['Brooklyn', 'Manhattan', 'Queens', 'Bronx', 'Staten Island'],\n",
       "      dtype=object)"
      ]
     },
     "execution_count": 50,
     "metadata": {},
     "output_type": "execute_result"
    }
   ],
   "source": [
    "crimes.County.unique()"
   ]
  },
  {
   "cell_type": "code",
   "execution_count": 51,
   "id": "fa1965e2",
   "metadata": {},
   "outputs": [
    {
     "data": {
      "text/plain": [
       "(2406, 14)"
      ]
     },
     "execution_count": 51,
     "metadata": {},
     "output_type": "execute_result"
    }
   ],
   "source": [
    "crimes.shape"
   ]
  },
  {
   "cell_type": "markdown",
   "id": "ca79081c",
   "metadata": {},
   "source": [
    "### Rental Income"
   ]
  },
  {
   "cell_type": "code",
   "execution_count": 52,
   "id": "f38d1f75",
   "metadata": {},
   "outputs": [],
   "source": [
    "rental = pd.read_csv(\"./Data/DOF_Condominium_Comparable_Rental_Income_in_NYC_20231211.csv\")"
   ]
  },
  {
   "cell_type": "code",
   "execution_count": 53,
   "id": "20477867",
   "metadata": {},
   "outputs": [
    {
     "data": {
      "text/html": [
       "<div>\n",
       "<style scoped>\n",
       "    .dataframe tbody tr th:only-of-type {\n",
       "        vertical-align: middle;\n",
       "    }\n",
       "\n",
       "    .dataframe tbody tr th {\n",
       "        vertical-align: top;\n",
       "    }\n",
       "\n",
       "    .dataframe thead th {\n",
       "        text-align: right;\n",
       "    }\n",
       "</style>\n",
       "<table border=\"1\" class=\"dataframe\">\n",
       "  <thead>\n",
       "    <tr style=\"text-align: right;\">\n",
       "      <th></th>\n",
       "      <th>Gross Income per SqFt</th>\n",
       "    </tr>\n",
       "    <tr>\n",
       "      <th>Neighborhood</th>\n",
       "      <th></th>\n",
       "    </tr>\n",
       "  </thead>\n",
       "  <tbody>\n",
       "    <tr>\n",
       "      <th>15TH Q QUEENS</th>\n",
       "      <td>29.626667</td>\n",
       "    </tr>\n",
       "    <tr>\n",
       "      <th>2999</th>\n",
       "      <td>12.600000</td>\n",
       "    </tr>\n",
       "    <tr>\n",
       "      <th>30TH Q BROOKLYN</th>\n",
       "      <td>20.820000</td>\n",
       "    </tr>\n",
       "    <tr>\n",
       "      <th>50TH Q BROOKLYN</th>\n",
       "      <td>24.882500</td>\n",
       "    </tr>\n",
       "    <tr>\n",
       "      <th>5TH Q BROOKLYN</th>\n",
       "      <td>26.815000</td>\n",
       "    </tr>\n",
       "  </tbody>\n",
       "</table>\n",
       "</div>"
      ],
      "text/plain": [
       "                 Gross Income per SqFt\n",
       "Neighborhood                          \n",
       "15TH Q QUEENS                29.626667\n",
       "2999                         12.600000\n",
       "30TH Q BROOKLYN              20.820000\n",
       "50TH Q BROOKLYN              24.882500\n",
       "5TH Q BROOKLYN               26.815000"
      ]
     },
     "execution_count": 53,
     "metadata": {},
     "output_type": "execute_result"
    }
   ],
   "source": [
    "rental_gross_income = rental.groupby(['Neighborhood']).agg({'Gross Income per SqFt': 'mean'})\n",
    "rental_gross_income.sort_index(inplace=True)\n",
    "rental_gross_income.head()"
   ]
  },
  {
   "cell_type": "code",
   "execution_count": 54,
   "id": "73a78b9c",
   "metadata": {},
   "outputs": [
    {
     "data": {
      "text/html": [
       "<div>\n",
       "<style scoped>\n",
       "    .dataframe tbody tr th:only-of-type {\n",
       "        vertical-align: middle;\n",
       "    }\n",
       "\n",
       "    .dataframe tbody tr th {\n",
       "        vertical-align: top;\n",
       "    }\n",
       "\n",
       "    .dataframe thead th {\n",
       "        text-align: right;\n",
       "    }\n",
       "</style>\n",
       "<table border=\"1\" class=\"dataframe\">\n",
       "  <thead>\n",
       "    <tr style=\"text-align: right;\">\n",
       "      <th></th>\n",
       "      <th>price</th>\n",
       "    </tr>\n",
       "    <tr>\n",
       "      <th>neighbourhood</th>\n",
       "      <th></th>\n",
       "    </tr>\n",
       "  </thead>\n",
       "  <tbody>\n",
       "    <tr>\n",
       "      <th>Allerton</th>\n",
       "      <td>117.904762</td>\n",
       "    </tr>\n",
       "    <tr>\n",
       "      <th>Arden Heights</th>\n",
       "      <td>115.000000</td>\n",
       "    </tr>\n",
       "    <tr>\n",
       "      <th>Arrochar</th>\n",
       "      <td>137.666667</td>\n",
       "    </tr>\n",
       "    <tr>\n",
       "      <th>Arverne</th>\n",
       "      <td>220.280000</td>\n",
       "    </tr>\n",
       "    <tr>\n",
       "      <th>Astoria</th>\n",
       "      <td>117.700000</td>\n",
       "    </tr>\n",
       "  </tbody>\n",
       "</table>\n",
       "</div>"
      ],
      "text/plain": [
       "                    price\n",
       "neighbourhood            \n",
       "Allerton       117.904762\n",
       "Arden Heights  115.000000\n",
       "Arrochar       137.666667\n",
       "Arverne        220.280000\n",
       "Astoria        117.700000"
      ]
     },
     "execution_count": 54,
     "metadata": {},
     "output_type": "execute_result"
    }
   ],
   "source": [
    "airbnb_neighbor_price = df2024_01.groupby(['neighbourhood']).agg({'price': 'mean'})\n",
    "airbnb_neighbor_price.head()"
   ]
  },
  {
   "cell_type": "code",
   "execution_count": 55,
   "id": "387b39ff",
   "metadata": {},
   "outputs": [
    {
     "data": {
      "text/html": [
       "<div>\n",
       "<style scoped>\n",
       "    .dataframe tbody tr th:only-of-type {\n",
       "        vertical-align: middle;\n",
       "    }\n",
       "\n",
       "    .dataframe tbody tr th {\n",
       "        vertical-align: top;\n",
       "    }\n",
       "\n",
       "    .dataframe thead th {\n",
       "        text-align: right;\n",
       "    }\n",
       "</style>\n",
       "<table border=\"1\" class=\"dataframe\">\n",
       "  <thead>\n",
       "    <tr style=\"text-align: right;\">\n",
       "      <th></th>\n",
       "      <th>Gross Income per SqFt</th>\n",
       "    </tr>\n",
       "    <tr>\n",
       "      <th>Neighborhood</th>\n",
       "      <th></th>\n",
       "    </tr>\n",
       "  </thead>\n",
       "  <tbody>\n",
       "    <tr>\n",
       "      <th>ARVERNE</th>\n",
       "      <td>29.905000</td>\n",
       "    </tr>\n",
       "    <tr>\n",
       "      <th>ASTORIA</th>\n",
       "      <td>27.833360</td>\n",
       "    </tr>\n",
       "    <tr>\n",
       "      <th>BATH BEACH</th>\n",
       "      <td>17.751803</td>\n",
       "    </tr>\n",
       "    <tr>\n",
       "      <th>BAY RIDGE</th>\n",
       "      <td>20.267846</td>\n",
       "    </tr>\n",
       "    <tr>\n",
       "      <th>BAYSIDE</th>\n",
       "      <td>23.749327</td>\n",
       "    </tr>\n",
       "  </tbody>\n",
       "</table>\n",
       "</div>"
      ],
      "text/plain": [
       "              Gross Income per SqFt\n",
       "Neighborhood                       \n",
       "ARVERNE                   29.905000\n",
       "ASTORIA                   27.833360\n",
       "BATH BEACH                17.751803\n",
       "BAY RIDGE                 20.267846\n",
       "BAYSIDE                   23.749327"
      ]
     },
     "execution_count": 55,
     "metadata": {},
     "output_type": "execute_result"
    }
   ],
   "source": [
    "airbnb_neighbor_price.index = airbnb_neighbor_price.index.str.upper()\n",
    "filtered_rental_gross_income = rental_gross_income[rental_gross_income.index.isin(airbnb_neighbor_price.index)]\n",
    "filtered_rental_gross_income.head()"
   ]
  },
  {
   "cell_type": "code",
   "execution_count": 56,
   "id": "975114f2",
   "metadata": {},
   "outputs": [
    {
     "data": {
      "text/html": [
       "<div>\n",
       "<style scoped>\n",
       "    .dataframe tbody tr th:only-of-type {\n",
       "        vertical-align: middle;\n",
       "    }\n",
       "\n",
       "    .dataframe tbody tr th {\n",
       "        vertical-align: top;\n",
       "    }\n",
       "\n",
       "    .dataframe thead th {\n",
       "        text-align: right;\n",
       "    }\n",
       "</style>\n",
       "<table border=\"1\" class=\"dataframe\">\n",
       "  <thead>\n",
       "    <tr style=\"text-align: right;\">\n",
       "      <th></th>\n",
       "      <th>Market Value per SqFt</th>\n",
       "    </tr>\n",
       "    <tr>\n",
       "      <th>Neighborhood</th>\n",
       "      <th></th>\n",
       "    </tr>\n",
       "  </thead>\n",
       "  <tbody>\n",
       "    <tr>\n",
       "      <th>ARVERNE</th>\n",
       "      <td>137.250000</td>\n",
       "    </tr>\n",
       "    <tr>\n",
       "      <th>ASTORIA</th>\n",
       "      <td>143.843281</td>\n",
       "    </tr>\n",
       "    <tr>\n",
       "      <th>BATH BEACH</th>\n",
       "      <td>73.815082</td>\n",
       "    </tr>\n",
       "    <tr>\n",
       "      <th>BAY RIDGE</th>\n",
       "      <td>90.857385</td>\n",
       "    </tr>\n",
       "    <tr>\n",
       "      <th>BAYSIDE</th>\n",
       "      <td>120.646635</td>\n",
       "    </tr>\n",
       "  </tbody>\n",
       "</table>\n",
       "</div>"
      ],
      "text/plain": [
       "              Market Value per SqFt\n",
       "Neighborhood                       \n",
       "ARVERNE                  137.250000\n",
       "ASTORIA                  143.843281\n",
       "BATH BEACH                73.815082\n",
       "BAY RIDGE                 90.857385\n",
       "BAYSIDE                  120.646635"
      ]
     },
     "execution_count": 56,
     "metadata": {},
     "output_type": "execute_result"
    }
   ],
   "source": [
    "Rental_marketvalue = rental.groupby(['Neighborhood']).agg({'Market Value per SqFt': 'mean'})\n",
    "filtered_Rental_marketvalue = Rental_marketvalue[Rental_marketvalue.index.isin(airbnb_neighbor_price.index)]\n",
    "filtered_Rental_marketvalue.head()"
   ]
  },
  {
   "cell_type": "markdown",
   "id": "8388d07f",
   "metadata": {},
   "source": [
    "## Exploratory Analysis"
   ]
  },
  {
   "cell_type": "markdown",
   "id": "a1c4371a",
   "metadata": {},
   "source": [
    "(目前只做了202401 后面需要可以直接copy代码改数)"
   ]
  },
  {
   "cell_type": "code",
   "execution_count": 57,
   "id": "2f4e3a7d",
   "metadata": {},
   "outputs": [
    {
     "data": {
      "text/plain": [
       "Index(['host_id', 'neighbourhood_group', 'neighbourhood', 'latitude',\n",
       "       'longitude', 'room_type', 'price', 'minimum_nights',\n",
       "       'number_of_reviews', 'reviews_per_month',\n",
       "       'calculated_host_listings_count', 'availability_365'],\n",
       "      dtype='object')"
      ]
     },
     "execution_count": 57,
     "metadata": {},
     "output_type": "execute_result"
    }
   ],
   "source": [
    "#drop unnecessary columns\n",
    "df2024_01.drop(['name','id','host_name','last_review','number_of_reviews_ltm', 'license'], axis=1, inplace=True)\n",
    "df2024_01.columns"
   ]
  },
  {
   "cell_type": "code",
   "execution_count": 58,
   "id": "58c97fe1",
   "metadata": {},
   "outputs": [],
   "source": [
    "#select the number columns\n",
    "numeric_df = df2024_01.select_dtypes(include=[np.number])\n"
   ]
  },
  {
   "cell_type": "markdown",
   "id": "89ea632b",
   "metadata": {},
   "source": [
    "Get Correlation between different variables"
   ]
  },
  {
   "cell_type": "code",
   "execution_count": 59,
   "id": "7e5431bd",
   "metadata": {},
   "outputs": [
    {
     "data": {
      "text/plain": [
       "<Axes: >"
      ]
     },
     "execution_count": 59,
     "metadata": {},
     "output_type": "execute_result"
    },
    {
     "data": {
      "image/png": "[encoded data removed]",
      "text/plain": [
       "<Figure size 1500x800 with 2 Axes>"
      ]
     },
     "metadata": {},
     "output_type": "display_data"
    }
   ],
   "source": [
    "corr = numeric_df.corr(method='kendall')\n",
    "plt.figure(figsize=(15,8))\n",
    "sns.heatmap(corr, annot=True)"
   ]
  },
  {
   "cell_type": "markdown",
   "id": "f0d2e1a7",
   "metadata": {},
   "source": [
    "Plot all Neighbourhood Group"
   ]
  },
  {
   "cell_type": "code",
   "execution_count": 60,
   "id": "a7148fdc",
   "metadata": {},
   "outputs": [
    {
     "data": {
      "text/plain": [
       "Text(0.5, 1.0, 'Neighbourhood Group')"
      ]
     },
     "execution_count": 60,
     "metadata": {},
     "output_type": "execute_result"
    },
    {
     "data": {
      "image/png": "[encoded data removed]",
      "text/plain": [
       "<Figure size 1000x1000 with 1 Axes>"
      ]
     },
     "metadata": {},
     "output_type": "display_data"
    }
   ],
   "source": [
    "sns.countplot(x='neighbourhood_group', data=df2024_01, palette=\"plasma\")\n",
    "fig = plt.gcf()\n",
    "fig.set_size_inches(10,10)\n",
    "plt.title('Neighbourhood Group')"
   ]
  },
  {
   "cell_type": "markdown",
   "id": "3755754c",
   "metadata": {},
   "source": [
    "Neighbourhood"
   ]
  },
  {
   "cell_type": "code",
   "execution_count": 61,
   "id": "15f91230",
   "metadata": {},
   "outputs": [
    {
     "data": {
      "text/plain": [
       "Text(0.5, 1.0, 'Neighbourhood')"
      ]
     },
     "execution_count": 61,
     "metadata": {},
     "output_type": "execute_result"
    },
    {
     "data": {
      "image/png": "[encoded data removed]",
      "text/plain": [
       "<Figure size 2500x600 with 1 Axes>"
      ]
     },
     "metadata": {},
     "output_type": "display_data"
    }
   ],
   "source": [
    "sns.countplot(x='neighbourhood', data=df2024_01, palette=\"plasma\")\n",
    "fig = plt.gcf()\n",
    "fig.set_size_inches(25,6)\n",
    "plt.title('Neighbourhood')\n"
   ]
  },
  {
   "cell_type": "code",
   "execution_count": 62,
   "id": "7964a56f",
   "metadata": {},
   "outputs": [],
   "source": [
    "df2024_01['neighbourhood'] = df2024_01['neighbourhood'].astype(str)"
   ]
  },
  {
   "cell_type": "markdown",
   "id": "9a5c431d",
   "metadata": {},
   "source": [
    "Room Type"
   ]
  },
  {
   "cell_type": "code",
   "execution_count": 63,
   "id": "ad19c85e",
   "metadata": {},
   "outputs": [
    {
     "data": {
      "text/plain": [
       "Text(0.5, 1.0, 'Restaurants delivering online or Not')"
      ]
     },
     "execution_count": 63,
     "metadata": {},
     "output_type": "execute_result"
    },
    {
     "data": {
      "image/png": "[encoded data removed]",
      "text/plain": [
       "<Figure size 1000x1000 with 1 Axes>"
      ]
     },
     "metadata": {},
     "output_type": "display_data"
    }
   ],
   "source": [
    "#Restaurants delivering Online or not\n",
    "sns.countplot(x='room_type', data=df2024_01, palette=\"plasma\")\n",
    "fig = plt.gcf()\n",
    "fig.set_size_inches(10,10)\n",
    "plt.title('Restaurants delivering online or Not')"
   ]
  },
  {
   "cell_type": "markdown",
   "id": "008d6fbf",
   "metadata": {},
   "source": [
    "Relation between neighbourgroup and Availability of Room¶\n"
   ]
  },
  {
   "cell_type": "code",
   "execution_count": 64,
   "id": "9c1a560b",
   "metadata": {},
   "outputs": [
    {
     "data": {
      "image/png": "[encoded data removed]",
      "text/plain": [
       "<Figure size 1000x1000 with 1 Axes>"
      ]
     },
     "metadata": {},
     "output_type": "display_data"
    }
   ],
   "source": [
    "plt.figure(figsize=(10,10))\n",
    "ax = sns.boxplot(data=df2024_01, x='neighbourhood_group',y='availability_365',palette='plasma')"
   ]
  },
  {
   "cell_type": "code",
   "execution_count": 65,
   "id": "70804568",
   "metadata": {},
   "outputs": [
    {
     "data": {
      "text/plain": [
       "<contextlib.ExitStack at 0x162273150>"
      ]
     },
     "execution_count": 65,
     "metadata": {},
     "output_type": "execute_result"
    },
    {
     "data": {
      "image/png": "[encoded data removed]",
      "text/plain": [
       "<Figure size 1000x600 with 1 Axes>"
      ]
     },
     "metadata": {},
     "output_type": "display_data"
    }
   ],
   "source": [
    "plt.figure(figsize=(10,6))\n",
    "sns.scatterplot(x=df2024_01['longitude'], y=df2024_01['latitude'], hue=df2024_01['neighbourhood_group'])\n",
    "plt.ioff()"
   ]
  },
  {
   "cell_type": "code",
   "execution_count": 66,
   "id": "29af5326",
   "metadata": {},
   "outputs": [
    {
     "data": {
      "text/plain": [
       "<contextlib.ExitStack at 0x1623cf350>"
      ]
     },
     "execution_count": 66,
     "metadata": {},
     "output_type": "execute_result"
    }
   ],
   "source": [
    "plt.figure(figsize=(10,6))\n",
    "sns.scatterplot(x=df2024_01['longitude'], y=df2024_01['latitude'], hue=df2024_01['availability_365'])\n",
    "plt.ioff()"
   ]
  },
  {
   "cell_type": "code",
   "execution_count": 67,
   "id": "76dc93bf",
   "metadata": {},
   "outputs": [
    {
     "data": {
      "text/html": [
       "<div>\n",
       "<style scoped>\n",
       "    .dataframe tbody tr th:only-of-type {\n",
       "        vertical-align: middle;\n",
       "    }\n",
       "\n",
       "    .dataframe tbody tr th {\n",
       "        vertical-align: top;\n",
       "    }\n",
       "\n",
       "    .dataframe thead th {\n",
       "        text-align: right;\n",
       "    }\n",
       "</style>\n",
       "<table border=\"1\" class=\"dataframe\">\n",
       "  <thead>\n",
       "    <tr style=\"text-align: right;\">\n",
       "      <th></th>\n",
       "      <th>host_id</th>\n",
       "      <th>neighbourhood_group</th>\n",
       "      <th>neighbourhood</th>\n",
       "      <th>latitude</th>\n",
       "      <th>longitude</th>\n",
       "      <th>room_type</th>\n",
       "      <th>price</th>\n",
       "      <th>minimum_nights</th>\n",
       "      <th>number_of_reviews</th>\n",
       "      <th>reviews_per_month</th>\n",
       "      <th>calculated_host_listings_count</th>\n",
       "      <th>availability_365</th>\n",
       "    </tr>\n",
       "  </thead>\n",
       "  <tbody>\n",
       "    <tr>\n",
       "      <th>0</th>\n",
       "      <td>5448955</td>\n",
       "      <td>Manhattan</td>\n",
       "      <td>East Village</td>\n",
       "      <td>40.73179</td>\n",
       "      <td>-73.98679</td>\n",
       "      <td>Entire home/apt</td>\n",
       "      <td>NaN</td>\n",
       "      <td>30</td>\n",
       "      <td>15</td>\n",
       "      <td>0.20</td>\n",
       "      <td>1</td>\n",
       "      <td>0</td>\n",
       "    </tr>\n",
       "    <tr>\n",
       "      <th>1</th>\n",
       "      <td>83422715</td>\n",
       "      <td>Brooklyn</td>\n",
       "      <td>Flatbush</td>\n",
       "      <td>40.65375</td>\n",
       "      <td>-73.95502</td>\n",
       "      <td>Entire home/apt</td>\n",
       "      <td>289.0</td>\n",
       "      <td>30</td>\n",
       "      <td>0</td>\n",
       "      <td>NaN</td>\n",
       "      <td>1</td>\n",
       "      <td>365</td>\n",
       "    </tr>\n",
       "    <tr>\n",
       "      <th>2</th>\n",
       "      <td>43719554</td>\n",
       "      <td>Manhattan</td>\n",
       "      <td>Harlem</td>\n",
       "      <td>40.82440</td>\n",
       "      <td>-73.94598</td>\n",
       "      <td>Private room</td>\n",
       "      <td>NaN</td>\n",
       "      <td>30</td>\n",
       "      <td>0</td>\n",
       "      <td>NaN</td>\n",
       "      <td>1</td>\n",
       "      <td>0</td>\n",
       "    </tr>\n",
       "    <tr>\n",
       "      <th>3</th>\n",
       "      <td>5925222</td>\n",
       "      <td>Brooklyn</td>\n",
       "      <td>Bushwick</td>\n",
       "      <td>40.69020</td>\n",
       "      <td>-73.91782</td>\n",
       "      <td>Entire home/apt</td>\n",
       "      <td>NaN</td>\n",
       "      <td>30</td>\n",
       "      <td>1</td>\n",
       "      <td>0.01</td>\n",
       "      <td>1</td>\n",
       "      <td>0</td>\n",
       "    </tr>\n",
       "    <tr>\n",
       "      <th>4</th>\n",
       "      <td>268631641</td>\n",
       "      <td>Manhattan</td>\n",
       "      <td>East Village</td>\n",
       "      <td>40.72385</td>\n",
       "      <td>-73.97695</td>\n",
       "      <td>Private room</td>\n",
       "      <td>NaN</td>\n",
       "      <td>30</td>\n",
       "      <td>1</td>\n",
       "      <td>0.02</td>\n",
       "      <td>1</td>\n",
       "      <td>0</td>\n",
       "    </tr>\n",
       "  </tbody>\n",
       "</table>\n",
       "</div>"
      ],
      "text/plain": [
       "     host_id neighbourhood_group neighbourhood  latitude  longitude  \\\n",
       "0    5448955           Manhattan  East Village  40.73179  -73.98679   \n",
       "1   83422715            Brooklyn      Flatbush  40.65375  -73.95502   \n",
       "2   43719554           Manhattan        Harlem  40.82440  -73.94598   \n",
       "3    5925222            Brooklyn      Bushwick  40.69020  -73.91782   \n",
       "4  268631641           Manhattan  East Village  40.72385  -73.97695   \n",
       "\n",
       "         room_type  price  minimum_nights  number_of_reviews  \\\n",
       "0  Entire home/apt    NaN              30                 15   \n",
       "1  Entire home/apt  289.0              30                  0   \n",
       "2     Private room    NaN              30                  0   \n",
       "3  Entire home/apt    NaN              30                  1   \n",
       "4     Private room    NaN              30                  1   \n",
       "\n",
       "   reviews_per_month  calculated_host_listings_count  availability_365  \n",
       "0               0.20                               1                 0  \n",
       "1                NaN                               1               365  \n",
       "2                NaN                               1                 0  \n",
       "3               0.01                               1                 0  \n",
       "4               0.02                               1                 0  "
      ]
     },
     "execution_count": 67,
     "metadata": {},
     "output_type": "execute_result"
    }
   ],
   "source": [
    "df2024_01.head()\n",
    "#发现availability_365数据有问题"
   ]
  },
  {
   "cell_type": "markdown",
   "id": "81176605",
   "metadata": {},
   "source": [
    "### Time Series"
   ]
  },
  {
   "cell_type": "markdown",
   "id": "06e91e6b",
   "metadata": {},
   "source": [
    "### PCA..."
   ]
  },
  {
   "cell_type": "code",
   "execution_count": 68,
   "id": "7751f2fd",
   "metadata": {},
   "outputs": [
    {
     "data": {
      "text/html": [
       "<div>\n",
       "<style scoped>\n",
       "    .dataframe tbody tr th:only-of-type {\n",
       "        vertical-align: middle;\n",
       "    }\n",
       "\n",
       "    .dataframe tbody tr th {\n",
       "        vertical-align: top;\n",
       "    }\n",
       "\n",
       "    .dataframe thead th {\n",
       "        text-align: right;\n",
       "    }\n",
       "</style>\n",
       "<table border=\"1\" class=\"dataframe\">\n",
       "  <thead>\n",
       "    <tr style=\"text-align: right;\">\n",
       "      <th></th>\n",
       "      <th>host_id</th>\n",
       "      <th>neighbourhood_group</th>\n",
       "      <th>neighbourhood</th>\n",
       "      <th>latitude</th>\n",
       "      <th>longitude</th>\n",
       "      <th>room_type</th>\n",
       "      <th>price</th>\n",
       "      <th>minimum_nights</th>\n",
       "      <th>number_of_reviews</th>\n",
       "      <th>reviews_per_month</th>\n",
       "      <th>calculated_host_listings_count</th>\n",
       "      <th>availability_365</th>\n",
       "    </tr>\n",
       "  </thead>\n",
       "  <tbody>\n",
       "    <tr>\n",
       "      <th>0</th>\n",
       "      <td>5448955</td>\n",
       "      <td>Manhattan</td>\n",
       "      <td>East Village</td>\n",
       "      <td>40.73179</td>\n",
       "      <td>-73.98679</td>\n",
       "      <td>Entire home/apt</td>\n",
       "      <td>NaN</td>\n",
       "      <td>30</td>\n",
       "      <td>15</td>\n",
       "      <td>0.20</td>\n",
       "      <td>1</td>\n",
       "      <td>0</td>\n",
       "    </tr>\n",
       "    <tr>\n",
       "      <th>1</th>\n",
       "      <td>83422715</td>\n",
       "      <td>Brooklyn</td>\n",
       "      <td>Flatbush</td>\n",
       "      <td>40.65375</td>\n",
       "      <td>-73.95502</td>\n",
       "      <td>Entire home/apt</td>\n",
       "      <td>289.0</td>\n",
       "      <td>30</td>\n",
       "      <td>0</td>\n",
       "      <td>NaN</td>\n",
       "      <td>1</td>\n",
       "      <td>365</td>\n",
       "    </tr>\n",
       "    <tr>\n",
       "      <th>2</th>\n",
       "      <td>43719554</td>\n",
       "      <td>Manhattan</td>\n",
       "      <td>Harlem</td>\n",
       "      <td>40.82440</td>\n",
       "      <td>-73.94598</td>\n",
       "      <td>Private room</td>\n",
       "      <td>NaN</td>\n",
       "      <td>30</td>\n",
       "      <td>0</td>\n",
       "      <td>NaN</td>\n",
       "      <td>1</td>\n",
       "      <td>0</td>\n",
       "    </tr>\n",
       "    <tr>\n",
       "      <th>3</th>\n",
       "      <td>5925222</td>\n",
       "      <td>Brooklyn</td>\n",
       "      <td>Bushwick</td>\n",
       "      <td>40.69020</td>\n",
       "      <td>-73.91782</td>\n",
       "      <td>Entire home/apt</td>\n",
       "      <td>NaN</td>\n",
       "      <td>30</td>\n",
       "      <td>1</td>\n",
       "      <td>0.01</td>\n",
       "      <td>1</td>\n",
       "      <td>0</td>\n",
       "    </tr>\n",
       "    <tr>\n",
       "      <th>4</th>\n",
       "      <td>268631641</td>\n",
       "      <td>Manhattan</td>\n",
       "      <td>East Village</td>\n",
       "      <td>40.72385</td>\n",
       "      <td>-73.97695</td>\n",
       "      <td>Private room</td>\n",
       "      <td>NaN</td>\n",
       "      <td>30</td>\n",
       "      <td>1</td>\n",
       "      <td>0.02</td>\n",
       "      <td>1</td>\n",
       "      <td>0</td>\n",
       "    </tr>\n",
       "  </tbody>\n",
       "</table>\n",
       "</div>"
      ],
      "text/plain": [
       "     host_id neighbourhood_group neighbourhood  latitude  longitude  \\\n",
       "0    5448955           Manhattan  East Village  40.73179  -73.98679   \n",
       "1   83422715            Brooklyn      Flatbush  40.65375  -73.95502   \n",
       "2   43719554           Manhattan        Harlem  40.82440  -73.94598   \n",
       "3    5925222            Brooklyn      Bushwick  40.69020  -73.91782   \n",
       "4  268631641           Manhattan  East Village  40.72385  -73.97695   \n",
       "\n",
       "         room_type  price  minimum_nights  number_of_reviews  \\\n",
       "0  Entire home/apt    NaN              30                 15   \n",
       "1  Entire home/apt  289.0              30                  0   \n",
       "2     Private room    NaN              30                  0   \n",
       "3  Entire home/apt    NaN              30                  1   \n",
       "4     Private room    NaN              30                  1   \n",
       "\n",
       "   reviews_per_month  calculated_host_listings_count  availability_365  \n",
       "0               0.20                               1                 0  \n",
       "1                NaN                               1               365  \n",
       "2                NaN                               1                 0  \n",
       "3               0.01                               1                 0  \n",
       "4               0.02                               1                 0  "
      ]
     },
     "execution_count": 68,
     "metadata": {},
     "output_type": "execute_result"
    }
   ],
   "source": [
    "df2024_01.head()"
   ]
  },
  {
   "cell_type": "markdown",
   "id": "4e9bf330",
   "metadata": {},
   "source": [
    "## Nueral Nets"
   ]
  },
  {
   "cell_type": "markdown",
   "id": "87acb0a6",
   "metadata": {},
   "source": [
    "## Concatenate all the airbnb data with zip from 2023-04 to 2024-02 as one dataframe\n",
    "### Later, we will splite this dataset as Train and Validation set\n",
    "### Then, we will treat 2024-03 as the test set (or make predictions on them)"
   ]
  },
  {
   "cell_type": "code",
   "execution_count": 293,
   "id": "b8273697",
   "metadata": {},
   "outputs": [],
   "source": [
    "combined_data = pd.concat([airbnb202304_with_zip, \n",
    "                           airbnb202305_with_zip, \n",
    "                           airbnb202306_with_zip, \n",
    "                           airbnb202307_with_zip,\n",
    "                           airbnb202308_with_zip, \n",
    "                           airbnb202309_with_zip, \n",
    "                           airbnb202310_with_zip, \n",
    "                           airbnb202311_with_zip,\n",
    "                           airbnb202312_with_zip,\n",
    "                           airbnb202401_with_zip,\n",
    "                           airbnb202402_with_zip, \n",
    "                           airbnb202403_with_zip], ignore_index=True)"
   ]
  },
  {
   "cell_type": "code",
   "execution_count": 294,
   "id": "c23439e6",
   "metadata": {},
   "outputs": [
    {
     "data": {
      "text/html": [
       "<div>\n",
       "<style scoped>\n",
       "    .dataframe tbody tr th:only-of-type {\n",
       "        vertical-align: middle;\n",
       "    }\n",
       "\n",
       "    .dataframe tbody tr th {\n",
       "        vertical-align: top;\n",
       "    }\n",
       "\n",
       "    .dataframe thead th {\n",
       "        text-align: right;\n",
       "    }\n",
       "</style>\n",
       "<table border=\"1\" class=\"dataframe\">\n",
       "  <thead>\n",
       "    <tr style=\"text-align: right;\">\n",
       "      <th></th>\n",
       "      <th>id</th>\n",
       "      <th>name</th>\n",
       "      <th>host_id</th>\n",
       "      <th>host_name</th>\n",
       "      <th>neighbourhood_group</th>\n",
       "      <th>neighbourhood</th>\n",
       "      <th>latitude</th>\n",
       "      <th>longitude</th>\n",
       "      <th>room_type</th>\n",
       "      <th>price</th>\n",
       "      <th>minimum_nights</th>\n",
       "      <th>number_of_reviews</th>\n",
       "      <th>last_review</th>\n",
       "      <th>reviews_per_month</th>\n",
       "      <th>calculated_host_listings_count</th>\n",
       "      <th>availability_365</th>\n",
       "      <th>number_of_reviews_ltm</th>\n",
       "      <th>license</th>\n",
       "      <th>ZIPCODE</th>\n",
       "    </tr>\n",
       "  </thead>\n",
       "  <tbody>\n",
       "    <tr>\n",
       "      <th>0</th>\n",
       "      <td>609278205075943432</td>\n",
       "      <td>Grace , beauty and peace</td>\n",
       "      <td>455175874</td>\n",
       "      <td>Larry</td>\n",
       "      <td>Queens</td>\n",
       "      <td>College Point</td>\n",
       "      <td>40.777122</td>\n",
       "      <td>-73.847305</td>\n",
       "      <td>Private room</td>\n",
       "      <td>100.0</td>\n",
       "      <td>1</td>\n",
       "      <td>0</td>\n",
       "      <td>NaN</td>\n",
       "      <td>NaN</td>\n",
       "      <td>1</td>\n",
       "      <td>365</td>\n",
       "      <td>0</td>\n",
       "      <td>NaN</td>\n",
       "      <td>11356</td>\n",
       "    </tr>\n",
       "    <tr>\n",
       "      <th>1</th>\n",
       "      <td>765948794133787266</td>\n",
       "      <td>Brooklyn Refuge</td>\n",
       "      <td>488760226</td>\n",
       "      <td>Eric</td>\n",
       "      <td>Brooklyn</td>\n",
       "      <td>Canarsie</td>\n",
       "      <td>40.648510</td>\n",
       "      <td>-73.894330</td>\n",
       "      <td>Private room</td>\n",
       "      <td>30.0</td>\n",
       "      <td>2</td>\n",
       "      <td>18</td>\n",
       "      <td>2023-03-19</td>\n",
       "      <td>4.46</td>\n",
       "      <td>2</td>\n",
       "      <td>9</td>\n",
       "      <td>18</td>\n",
       "      <td>NaN</td>\n",
       "      <td>11236</td>\n",
       "    </tr>\n",
       "    <tr>\n",
       "      <th>2</th>\n",
       "      <td>550274125926615886</td>\n",
       "      <td>Perfect for taking a nigth off</td>\n",
       "      <td>240094957</td>\n",
       "      <td>Gloria</td>\n",
       "      <td>Queens</td>\n",
       "      <td>Glendale</td>\n",
       "      <td>40.704280</td>\n",
       "      <td>-73.894360</td>\n",
       "      <td>Private room</td>\n",
       "      <td>135.0</td>\n",
       "      <td>1</td>\n",
       "      <td>0</td>\n",
       "      <td>NaN</td>\n",
       "      <td>NaN</td>\n",
       "      <td>1</td>\n",
       "      <td>365</td>\n",
       "      <td>0</td>\n",
       "      <td>NaN</td>\n",
       "      <td>11385</td>\n",
       "    </tr>\n",
       "    <tr>\n",
       "      <th>3</th>\n",
       "      <td>625396851096244118</td>\n",
       "      <td>1 room in house to rent</td>\n",
       "      <td>16640515</td>\n",
       "      <td>James</td>\n",
       "      <td>Brooklyn</td>\n",
       "      <td>Flatlands</td>\n",
       "      <td>40.621193</td>\n",
       "      <td>-73.926361</td>\n",
       "      <td>Private room</td>\n",
       "      <td>70.0</td>\n",
       "      <td>3</td>\n",
       "      <td>0</td>\n",
       "      <td>NaN</td>\n",
       "      <td>NaN</td>\n",
       "      <td>2</td>\n",
       "      <td>362</td>\n",
       "      <td>0</td>\n",
       "      <td>NaN</td>\n",
       "      <td>11234</td>\n",
       "    </tr>\n",
       "    <tr>\n",
       "      <th>4</th>\n",
       "      <td>668336778831639835</td>\n",
       "      <td>Private 1 bedroom in Bushwick townhouse</td>\n",
       "      <td>258072</td>\n",
       "      <td>Isabella</td>\n",
       "      <td>Brooklyn</td>\n",
       "      <td>Bushwick</td>\n",
       "      <td>40.688373</td>\n",
       "      <td>-73.907095</td>\n",
       "      <td>Entire home/apt</td>\n",
       "      <td>80.0</td>\n",
       "      <td>30</td>\n",
       "      <td>10</td>\n",
       "      <td>2023-01-22</td>\n",
       "      <td>1.69</td>\n",
       "      <td>2</td>\n",
       "      <td>96</td>\n",
       "      <td>10</td>\n",
       "      <td>NaN</td>\n",
       "      <td>11207</td>\n",
       "    </tr>\n",
       "  </tbody>\n",
       "</table>\n",
       "</div>"
      ],
      "text/plain": [
       "                   id                                     name    host_id  \\\n",
       "0  609278205075943432                 Grace , beauty and peace  455175874   \n",
       "1  765948794133787266                          Brooklyn Refuge  488760226   \n",
       "2  550274125926615886           Perfect for taking a nigth off  240094957   \n",
       "3  625396851096244118                  1 room in house to rent   16640515   \n",
       "4  668336778831639835  Private 1 bedroom in Bushwick townhouse     258072   \n",
       "\n",
       "  host_name neighbourhood_group  neighbourhood   latitude  longitude  \\\n",
       "0     Larry              Queens  College Point  40.777122 -73.847305   \n",
       "1      Eric            Brooklyn       Canarsie  40.648510 -73.894330   \n",
       "2    Gloria              Queens       Glendale  40.704280 -73.894360   \n",
       "3     James            Brooklyn      Flatlands  40.621193 -73.926361   \n",
       "4  Isabella            Brooklyn       Bushwick  40.688373 -73.907095   \n",
       "\n",
       "         room_type  price  minimum_nights  number_of_reviews last_review  \\\n",
       "0     Private room  100.0               1                  0         NaN   \n",
       "1     Private room   30.0               2                 18  2023-03-19   \n",
       "2     Private room  135.0               1                  0         NaN   \n",
       "3     Private room   70.0               3                  0         NaN   \n",
       "4  Entire home/apt   80.0              30                 10  2023-01-22   \n",
       "\n",
       "   reviews_per_month  calculated_host_listings_count  availability_365  \\\n",
       "0                NaN                               1               365   \n",
       "1               4.46                               2                 9   \n",
       "2                NaN                               1               365   \n",
       "3                NaN                               2               362   \n",
       "4               1.69                               2                96   \n",
       "\n",
       "   number_of_reviews_ltm license ZIPCODE  \n",
       "0                      0     NaN   11356  \n",
       "1                     18     NaN   11236  \n",
       "2                      0     NaN   11385  \n",
       "3                      0     NaN   11234  \n",
       "4                     10     NaN   11207  "
      ]
     },
     "execution_count": 294,
     "metadata": {},
     "output_type": "execute_result"
    }
   ],
   "source": [
    "# combined_data = airbnb202402_with_zip\n",
    "combined_data.head()"
   ]
  },
  {
   "cell_type": "code",
   "execution_count": 296,
   "id": "9a7c7f20",
   "metadata": {
    "scrolled": true
   },
   "outputs": [
    {
     "data": {
      "text/plain": [
       "(492693, 19)"
      ]
     },
     "execution_count": 296,
     "metadata": {},
     "output_type": "execute_result"
    }
   ],
   "source": [
    "combined_data.shape"
   ]
  },
  {
   "cell_type": "code",
   "execution_count": 297,
   "id": "69176e6b",
   "metadata": {},
   "outputs": [],
   "source": [
    "combined_data = combined_data.dropna()"
   ]
  },
  {
   "cell_type": "code",
   "execution_count": 298,
   "id": "98c9fdb2",
   "metadata": {},
   "outputs": [
    {
     "data": {
      "text/plain": [
       "(16769, 19)"
      ]
     },
     "execution_count": 298,
     "metadata": {},
     "output_type": "execute_result"
    }
   ],
   "source": [
    "combined_data.shape"
   ]
  },
  {
   "cell_type": "code",
   "execution_count": 299,
   "id": "c578b532",
   "metadata": {
    "scrolled": true
   },
   "outputs": [
    {
     "data": {
      "text/plain": [
       "(Index(['id', 'name', 'host_id', 'host_name', 'neighbourhood_group',\n",
       "        'neighbourhood', 'latitude', 'longitude', 'room_type', 'price',\n",
       "        'minimum_nights', 'number_of_reviews', 'last_review',\n",
       "        'reviews_per_month', 'calculated_host_listings_count',\n",
       "        'availability_365', 'number_of_reviews_ltm', 'license', 'ZIPCODE'],\n",
       "       dtype='object'),\n",
       " (16769, 19))"
      ]
     },
     "execution_count": 299,
     "metadata": {},
     "output_type": "execute_result"
    }
   ],
   "source": [
    "combined_data.columns, combined_data.shape"
   ]
  },
  {
   "cell_type": "code",
   "execution_count": 300,
   "id": "1e2be311",
   "metadata": {},
   "outputs": [],
   "source": [
    "combined_data.rename(columns={'neighbourhood_group': 'borough'}, inplace=True)\n",
    "combined_data.last_review = pd.to_datetime(combined_data.last_review )\n",
    "combined_data['days_since_last_review'] = (pd.to_datetime('today') - combined_data['last_review']).dt.days"
   ]
  },
  {
   "cell_type": "code",
   "execution_count": 301,
   "id": "de0451ff",
   "metadata": {},
   "outputs": [],
   "source": [
    "combined_data = combined_data.drop([\"license\"], axis = 1)\n",
    "combined_data = combined_data.drop([\"id\"], axis = 1)\n",
    "combined_data = combined_data.drop([\"host_id\"], axis = 1)\n",
    "combined_data = combined_data.drop([\"last_review\"], axis = 1)\n",
    "combined_data = combined_data.drop([\"number_of_reviews_ltm\"], axis = 1)\n",
    "# combined_data = combined_data.drop([\"host_name\"], axis = 1)\n",
    "# combined_data = combined_data.drop([\"name\"], axis = 1)"
   ]
  },
  {
   "cell_type": "code",
   "execution_count": 302,
   "id": "b40302b4",
   "metadata": {},
   "outputs": [
    {
     "data": {
      "text/plain": [
       "(16769, 15)"
      ]
     },
     "execution_count": 302,
     "metadata": {},
     "output_type": "execute_result"
    }
   ],
   "source": [
    "combined_data.shape"
   ]
  },
  {
   "cell_type": "code",
   "execution_count": 303,
   "id": "7ee7b33c",
   "metadata": {
    "scrolled": true
   },
   "outputs": [
    {
     "data": {
      "text/plain": [
       "(16769, 15)"
      ]
     },
     "execution_count": 303,
     "metadata": {},
     "output_type": "execute_result"
    }
   ],
   "source": [
    "combined_data.shape"
   ]
  },
  {
   "cell_type": "code",
   "execution_count": 304,
   "id": "b9476a2e",
   "metadata": {
    "scrolled": false
   },
   "outputs": [
    {
     "data": {
      "text/plain": [
       "name                               object\n",
       "host_name                          object\n",
       "borough                            object\n",
       "neighbourhood                      object\n",
       "latitude                          float64\n",
       "longitude                         float64\n",
       "room_type                          object\n",
       "price                             float64\n",
       "minimum_nights                      int64\n",
       "number_of_reviews                   int64\n",
       "reviews_per_month                 float64\n",
       "calculated_host_listings_count      int64\n",
       "availability_365                    int64\n",
       "ZIPCODE                            object\n",
       "days_since_last_review              int64\n",
       "dtype: object"
      ]
     },
     "execution_count": 304,
     "metadata": {},
     "output_type": "execute_result"
    }
   ],
   "source": [
    "combined_data.dtypes"
   ]
  },
  {
   "cell_type": "code",
   "execution_count": 305,
   "id": "3e9dc92a",
   "metadata": {
    "scrolled": false
   },
   "outputs": [
    {
     "data": {
      "text/plain": [
       "16769"
      ]
     },
     "execution_count": 305,
     "metadata": {},
     "output_type": "execute_result"
    }
   ],
   "source": [
    "len(combined_data)"
   ]
  },
  {
   "cell_type": "code",
   "execution_count": 306,
   "id": "83169a2f",
   "metadata": {},
   "outputs": [],
   "source": [
    "y = combined_data['price'].values"
   ]
  },
  {
   "cell_type": "code",
   "execution_count": 307,
   "id": "a1a7d33c",
   "metadata": {},
   "outputs": [
    {
     "data": {
      "text/plain": [
       "((16769, 15), (16769,))"
      ]
     },
     "execution_count": 307,
     "metadata": {},
     "output_type": "execute_result"
    }
   ],
   "source": [
    "combined_data.shape, y.shape"
   ]
  },
  {
   "cell_type": "code",
   "execution_count": 308,
   "id": "3e9b94d8",
   "metadata": {},
   "outputs": [],
   "source": [
    "combined_data = combined_data.drop(columns=['price'])"
   ]
  },
  {
   "cell_type": "code",
   "execution_count": 309,
   "id": "3631fd28",
   "metadata": {},
   "outputs": [
    {
     "data": {
      "text/plain": [
       "16769"
      ]
     },
     "execution_count": 309,
     "metadata": {},
     "output_type": "execute_result"
    }
   ],
   "source": [
    "len(y)"
   ]
  },
  {
   "cell_type": "code",
   "execution_count": 310,
   "id": "09b1055c",
   "metadata": {},
   "outputs": [
    {
     "data": {
      "text/plain": [
       "name                               object\n",
       "host_name                          object\n",
       "borough                            object\n",
       "neighbourhood                      object\n",
       "latitude                          float64\n",
       "longitude                         float64\n",
       "room_type                          object\n",
       "minimum_nights                      int64\n",
       "number_of_reviews                   int64\n",
       "reviews_per_month                 float64\n",
       "calculated_host_listings_count      int64\n",
       "availability_365                    int64\n",
       "ZIPCODE                            object\n",
       "days_since_last_review              int64\n",
       "dtype: object"
      ]
     },
     "execution_count": 310,
     "metadata": {},
     "output_type": "execute_result"
    }
   ],
   "source": [
    "combined_data.dtypes"
   ]
  },
  {
   "cell_type": "code",
   "execution_count": 311,
   "id": "9b65a81e",
   "metadata": {},
   "outputs": [],
   "source": [
    "# one-hot \n",
    "encoder = OneHotEncoder(sparse_output=False)\n",
    "categorical_features = encoder.fit_transform(combined_data[['room_type', 'neighbourhood', 'borough', 'ZIPCODE']])\n",
    "\n",
    "# ompute missing values in numerical columns before scaling\n",
    "imputer = SimpleImputer(strategy='mean')\n",
    "numerical_columns = ['latitude', 'longitude', 'minimum_nights', 'number_of_reviews', 'reviews_per_month', 'calculated_host_listings_count', 'availability_365', 'days_since_last_review']\n",
    "numerical_features = imputer.fit_transform(combined_data[numerical_columns])\n",
    "\n",
    "scaler = StandardScaler()\n",
    "numerical_features_scaled = scaler.fit_transform(numerical_features)\n",
    "\n",
    "# combine\n",
    "X = np.hstack((categorical_features, numerical_features_scaled))\n"
   ]
  },
  {
   "cell_type": "code",
   "execution_count": 313,
   "id": "36468f21",
   "metadata": {
    "scrolled": true
   },
   "outputs": [
    {
     "data": {
      "text/plain": [
       "((16769, 343), (16769,))"
      ]
     },
     "execution_count": 313,
     "metadata": {},
     "output_type": "execute_result"
    }
   ],
   "source": [
    "X.shape, y.shape"
   ]
  },
  {
   "cell_type": "code",
   "execution_count": 314,
   "id": "182faec0",
   "metadata": {
    "scrolled": true
   },
   "outputs": [
    {
     "data": {
      "text/plain": [
       "(16769,)"
      ]
     },
     "execution_count": 314,
     "metadata": {},
     "output_type": "execute_result"
    }
   ],
   "source": [
    "y.shape"
   ]
  },
  {
   "cell_type": "code",
   "execution_count": 316,
   "id": "c2d11244",
   "metadata": {},
   "outputs": [],
   "source": [
    "X_train, X_val, y_train, y_val = train_test_split(X, y, test_size=0.1, random_state=42)"
   ]
  },
  {
   "cell_type": "code",
   "execution_count": 319,
   "id": "d151e350",
   "metadata": {
    "scrolled": true
   },
   "outputs": [
    {
     "data": {
      "text/plain": [
       "((15092,), (15092, 343), (1677, 343), (1677,))"
      ]
     },
     "execution_count": 319,
     "metadata": {},
     "output_type": "execute_result"
    }
   ],
   "source": [
    "y_train.shape, X_train.shape, X_val.shape, y_val.shape"
   ]
  },
  {
   "cell_type": "code",
   "execution_count": 320,
   "id": "2c96fb39",
   "metadata": {},
   "outputs": [
    {
     "data": {
      "text/plain": [
       "numpy.ndarray"
      ]
     },
     "execution_count": 320,
     "metadata": {},
     "output_type": "execute_result"
    }
   ],
   "source": [
    "type(X_train)"
   ]
  },
  {
   "cell_type": "code",
   "execution_count": 278,
   "id": "1ac7cc24",
   "metadata": {},
   "outputs": [],
   "source": [
    "X_train_df = pd.DataFrame(X_train)\n",
    "X_train_filled = X_train_df.fillna(X_train_df.mean())\n",
    "X_train_filled_array = X_train_filled.values"
   ]
  },
  {
   "cell_type": "code",
   "execution_count": 279,
   "id": "78cc0ac9",
   "metadata": {},
   "outputs": [],
   "source": [
    "X_train = X_train_filled_array"
   ]
  },
  {
   "cell_type": "code",
   "execution_count": 280,
   "id": "873a1028",
   "metadata": {},
   "outputs": [],
   "source": [
    "y_train_series = pd.Series(y_train)\n",
    "y_train_filled = y_train_series.fillna(y_train_series.mean())\n",
    "y_train_filled_array = y_train_filled.values\n",
    "y_train = y_train_filled_array"
   ]
  },
  {
   "cell_type": "code",
   "execution_count": 281,
   "id": "18e2b6cf",
   "metadata": {},
   "outputs": [],
   "source": [
    "y_val_df = pd.DataFrame(y_val)\n",
    "y_val_filled = y_val_df.fillna(y_val_df.mean())\n",
    "y_val_filled_array = y_val_filled.values\n",
    "y_val = y_val_filled_array"
   ]
  },
  {
   "cell_type": "code",
   "execution_count": 282,
   "id": "6c21dc39",
   "metadata": {},
   "outputs": [],
   "source": [
    "X_val_df = pd.DataFrame(X_val)\n",
    "X_val_filled = X_val_df.fillna(X_val_df.mean())\n",
    "X_val_filled_array = X_val_filled.values\n",
    "X_val = X_val_filled_array"
   ]
  },
  {
   "cell_type": "code",
   "execution_count": 321,
   "id": "2f03010e",
   "metadata": {},
   "outputs": [],
   "source": [
    "X_train_tensor = torch.tensor(X_train, dtype=torch.float32)\n",
    "X_val_tensor = torch.tensor(X_val, dtype=torch.float32)\n",
    "# X_test_tensor = torch.tensor(X_test, dtype=torch.float32)\n",
    "y_train_tensor = torch.tensor(y_train, dtype=torch.float32).view(-1, 1)  \n",
    "y_val_tensor = torch.tensor(y_val, dtype=torch.float32).view(-1, 1)    \n",
    "# y_test_tensor = torch.tensor(y_test_filled, dtype=torch.float32).view(-1, 1)  \n",
    "\n",
    "\n",
    "train_dataset = torch.utils.data.TensorDataset(X_train_tensor, y_train_tensor)\n",
    "val_dataset = torch.utils.data.TensorDataset(X_val_tensor, y_val_tensor)\n",
    "# test_dataset = torch.utils.data.TensorDataset(X_test_tensor, y_test_tensor)\n",
    "\n",
    "batch_size = 64\n",
    "\n",
    "# data loaders\n",
    "train_loader = torch.utils.data.DataLoader(train_dataset, batch_size=batch_size, shuffle=True)\n",
    "val_loader = torch.utils.data.DataLoader(val_dataset, batch_size=batch_size, shuffle=False)\n",
    "# test_loader = torch.utils.data.DataLoader(test_dataset, batch_size=batch_size, shuffle=False)\n"
   ]
  },
  {
   "cell_type": "code",
   "execution_count": 322,
   "id": "c0edb8f7",
   "metadata": {},
   "outputs": [
    {
     "data": {
      "text/plain": [
       "torch.utils.data.dataloader.DataLoader"
      ]
     },
     "execution_count": 322,
     "metadata": {},
     "output_type": "execute_result"
    }
   ],
   "source": [
    "type(train_loader)"
   ]
  },
  {
   "cell_type": "code",
   "execution_count": 323,
   "id": "925c72ba",
   "metadata": {},
   "outputs": [
    {
     "data": {
      "text/plain": [
       "torch.utils.data.dataset.TensorDataset"
      ]
     },
     "execution_count": 323,
     "metadata": {},
     "output_type": "execute_result"
    }
   ],
   "source": [
    "type(val_dataset)"
   ]
  },
  {
   "cell_type": "code",
   "execution_count": 324,
   "id": "75f2b023",
   "metadata": {
    "scrolled": true
   },
   "outputs": [
    {
     "name": "stdout",
     "output_type": "stream",
     "text": [
      "X_train_tensor shape: torch.Size([15092, 343])\n",
      "y_train_tensor shape: torch.Size([15092, 1])\n"
     ]
    }
   ],
   "source": [
    "print(\"X_train_tensor shape:\", X_train_tensor.shape)\n",
    "print(\"y_train_tensor shape:\", y_train_tensor.shape)\n"
   ]
  },
  {
   "cell_type": "code",
   "execution_count": 325,
   "id": "b0f6f395",
   "metadata": {},
   "outputs": [
    {
     "name": "stdout",
     "output_type": "stream",
     "text": [
      "X_train_tensor shape: torch.Size([1677, 343])\n",
      "y_train_tensor shape: torch.Size([1677, 1])\n"
     ]
    }
   ],
   "source": [
    "print(\"X_train_tensor shape:\", X_val_tensor.shape)\n",
    "print(\"y_train_tensor shape:\", y_val_tensor.shape)"
   ]
  },
  {
   "cell_type": "code",
   "execution_count": 342,
   "id": "0948e01a",
   "metadata": {},
   "outputs": [],
   "source": [
    "import torch.nn.functional as F\n",
    "\n",
    "class AirbnbPricePredictor(nn.Module):\n",
    "    def __init__(self, input_size):\n",
    "        super(AirbnbPricePredictor, self).__init__()\n",
    "        self.fc1 = nn.Linear(input_size, 256)\n",
    "        self.fc2 = nn.Linear(256, 512)\n",
    "        self.fc3 = nn.Linear(512, 1024)\n",
    "        self.fc4 = nn.Linear(1024, 2048)\n",
    "        self.fc5 = nn.Linear(2048, 1024)\n",
    "        self.fc6 = nn.Linear(1024, 512)\n",
    "        self.fc7 = nn.Linear(512, 256)\n",
    "        self.fc8 = nn.Linear(256, 128)\n",
    "        self.fc9 = nn.Linear(128, 64)\n",
    "        self.fc10 = nn.Linear(64, 1)\n",
    "        \n",
    "    def forward(self, x):\n",
    "        x = F.relu(self.fc1(x))\n",
    "        x = F.relu(self.fc2(x))\n",
    "        x = F.relu(self.fc3(x))\n",
    "        x = F.relu(self.fc4(x))\n",
    "        x = F.relu(self.fc5(x))\n",
    "        x = F.relu(self.fc6(x))\n",
    "        x = F.relu(self.fc7(x))\n",
    "        x = F.relu(self.fc8(x))\n",
    "        x = F.relu(self.fc9(x))\n",
    "        x = self.fc10(x)\n",
    "        return x\n",
    "\n",
    "#         self.dropout = nn.Dropout(0.5)  # Adding dropout layer\n",
    "#         self.batch_norm1 = nn.BatchNorm1d(256)  # Adding batch normalization layer\n",
    "#         self.batch_norm2 = nn.BatchNorm1d(512)\n",
    "#         self.batch_norm3 = nn.BatchNorm1d(1024)\n",
    "#         self.batch_norm4 = nn.BatchNorm1d(512)\n",
    "#         self.batch_norm5 = nn.BatchNorm1d(256)\n",
    "\n",
    "#     def forward(self, x):\n",
    "#         x = F.relu(self.batch_norm1(self.fc1(x)))\n",
    "#         x = F.relu(self.batch_norm2(self.fc2(x)))\n",
    "#         x = F.relu(self.batch_norm3(self.fc3(x)))\n",
    "#         x = F.relu(self.batch_norm4(self.fc4(x)))\n",
    "#         x = F.relu(self.batch_norm5(self.fc5(x)))\n",
    "#         x = F.relu(self.fc6(x))\n",
    "#         x = F.relu(self.fc7(x))\n",
    "#         x = self.fc8(x)\n",
    "#         return x\n"
   ]
  },
  {
   "cell_type": "code",
   "execution_count": 327,
   "id": "a89a9042",
   "metadata": {},
   "outputs": [],
   "source": [
    "# class AirbnbPricePredictor(nn.Module):\n",
    "#     def __init__(self, input_size):\n",
    "#         super(AirbnbPricePredictor, self).__init__()\n",
    "#         self.fc1 = nn.Linear(input_size, 256)  # Increased hidden layer size\n",
    "#         self.fc2 = nn.Linear(256, 512)         # Increased hidden layer size\n",
    "#         self.fc3 = nn.Linear(512, 1024) \n",
    "#         self.fc4 = nn.Linear(1024, 512)\n",
    "#         self.fc5 = nn.Linear(512, 256)   # Increased hidden layer size\n",
    "#         self.fc6 = nn.Linear(256, 168)\n",
    "#         self.fc7 = nn.Linear(168, 64)\n",
    "#         self.fc8 = nn.Linear(64, 1)\n",
    "\n",
    "#     def forward(self, x):\n",
    "#         x = F.relu(self.fc1(x))\n",
    "#         x = F.relu(self.fc2(x))\n",
    "#         x = F.relu(self.fc3(x))\n",
    "#         x = F.relu(self.fc4(x))\n",
    "#         x = F.relu(self.fc5(x))\n",
    "#         x = F.relu(self.fc6(x))\n",
    "#         x = F.relu(self.fc7(x))\n",
    "# #         x = F.relu(self.fc8(x))\n",
    "#         x = self.fc8(x)\n",
    "#         return x\n",
    "# import torch.nn as nn\n",
    "# import torch.nn.functional as F\n",
    "\n",
    "# class AirbnbPricePredictor(nn.Module):\n",
    "#     def __init__(self, input_size):\n",
    "#         super(AirbnbPricePredictor, self).__init__()\n",
    "#         self.fc1 = nn.Linear(input_size, 256)\n",
    "#         self.bn1 = nn.BatchNorm1d(256)  \n",
    "#         self.fc2 = nn.Linear(256, 128)\n",
    "#         self.bn2 = nn.BatchNorm1d(128)  \n",
    "#         self.fc3 = nn.Linear(128, 64)\n",
    "#         self.bn3 = nn.BatchNorm1d(64)   \n",
    "#         self.fc4 = nn.Linear(64, 32)\n",
    "#         self.fc5 = nn.Linear(32, 1)\n",
    "\n",
    "#     def forward(self, x):\n",
    "#         x = F.relu(self.bn1(self.fc1(x)))  \n",
    "#         x = F.relu(self.bn2(self.fc2(x))) \n",
    "#         x = F.relu(self.bn3(self.fc3(x)))  \n",
    "#         x = F.relu(self.fc4(x))\n",
    "#         x = self.fc5(x)\n",
    "#         return x\n"
   ]
  },
  {
   "cell_type": "code",
   "execution_count": 108,
   "id": "2a8580df",
   "metadata": {},
   "outputs": [],
   "source": [
    "# import torch\n",
    "# import torch.nn as nn\n",
    "# import torch.optim as optim\n",
    "# from torch.optim.lr_scheduler import ReduceLROnPlateau\n",
    "\n",
    "# # Assuming model and other components are already defined and initialized\n",
    "# optimizer = optim.Adam(model.parameters(), lr=0.0002)\n",
    "# scheduler = ReduceLROnPlateau(optimizer, 'min', patience=10, factor=0.5, verbose=True)\n",
    "\n",
    "# epochs = 200\n",
    "# best_val_loss = float('inf')\n",
    "# threshold = 0.1  # Define a threshold for accuracy (e.g., 10%)\n",
    "\n",
    "# def calculate_accuracy(outputs, labels, threshold):\n",
    "#     abs_diff = torch.abs(outputs - labels)\n",
    "#     allowed_diff = threshold * torch.abs(labels)\n",
    "#     return torch.mean((abs_diff <= allowed_diff).float()).item()\n",
    "\n",
    "# for epoch in range(epochs):\n",
    "#     model.train()\n",
    "#     train_loss = 0.0\n",
    "#     train_acc = 0.0\n",
    "#     total_samples = 0\n",
    "\n",
    "#     for inputs, labels in train_loader:\n",
    "#         optimizer.zero_grad()\n",
    "#         outputs = model(inputs)\n",
    "#         loss = criterion(outputs, labels)\n",
    "#         loss.backward()\n",
    "#         optimizer.step()\n",
    "#         train_loss += loss.item() * inputs.size(0)\n",
    "#         train_acc += calculate_accuracy(outputs, labels, threshold) * inputs.size(0)\n",
    "#         total_samples += inputs.size(0)\n",
    "\n",
    "#     train_loss /= total_samples\n",
    "#     train_acc /= total_samples\n",
    "\n",
    "#     model.eval()\n",
    "#     val_loss = 0.0\n",
    "#     val_acc = 0.0\n",
    "#     with torch.no_grad():\n",
    "#         for inputs, labels in val_loader:\n",
    "#             outputs = model(inputs)\n",
    "#             loss = criterion(outputs, labels)\n",
    "#             val_loss += loss.item() * inputs.size(0)\n",
    "#             val_acc += calculate_accuracy(outputs, labels, threshold) * inputs.size(0)\n",
    "\n",
    "#     val_loss /= len(val_loader.dataset)\n",
    "#     val_acc /= len(val_loader.dataset)\n",
    "\n",
    "#     print(f'Epoch {epoch+1}, Train Loss: {train_loss:.4f}, Train Acc: {train_acc:.2%}, Val Loss: {val_loss:.4f}, Val Acc: {val_acc:.2%}')\n",
    "#     scheduler.step(val_loss)\n",
    "\n",
    "#     if val_loss < best_val_loss:\n",
    "#         best_val_loss = val_loss\n",
    "#         # Save model checkpoint here if needed\n",
    "#     else:\n",
    "#         print(\"No improvement in validation loss, consider stopping training\")\n"
   ]
  },
  {
   "cell_type": "code",
   "execution_count": 144,
   "id": "0e6f6927",
   "metadata": {},
   "outputs": [],
   "source": [
    "# input_size = X_train_tensor.shape[1]\n",
    "# model = AirbnbPricePredictor(input_size)\n",
    "# criterion = nn.MSELoss(reduction='mean')\n",
    "# optimizer = optim.Adam(model.parameters(), lr=0.0002)\n",
    "# # scheduler = StepLR(optimizer, step_size=50, gamma=0.1)  # Adjust step_size and gamma as needed\n",
    "\n",
    "# epochs = 200\n",
    "# threshold = 0.1  # Define a threshold for accuracy (e.g., 10%)\n"
   ]
  },
  {
   "cell_type": "code",
   "execution_count": 239,
   "id": "a743c421",
   "metadata": {},
   "outputs": [],
   "source": [
    "# input_size = X_train_tensor.shape[1]\n",
    "# model = AirbnbPricePredictor(input_size)\n",
    "# criterion = nn.L1Loss(reduction='mean')  # Using L1Loss for Mean Absolute Error\n",
    "# optimizer = optim.Adam(model.parameters(), lr=0.0002)\n",
    "# scheduler = StepLR(optimizer, step_size=50, gamma=0.1)\n",
    "\n",
    "# epochs = 200\n",
    "# threshold = 0.1  # 10% threshold\n",
    "\n",
    "# def calculate_accuracy(outputs, labels, threshold):\n",
    "#     abs_diff = torch.abs(outputs - labels)\n",
    "#     allowed_diff = threshold * torch.abs(labels)\n",
    "#     return torch.mean((abs_diff <= allowed_diff).float()).item()\n",
    "\n",
    "# for epoch in range(epochs):\n",
    "#     model.train()\n",
    "#     running_loss = 0.0\n",
    "#     train_accuracy = 0.0\n",
    "#     total_samples = 0\n",
    "\n",
    "#     for inputs, labels in train_loader:\n",
    "#         optimizer.zero_grad()\n",
    "#         outputs = model(inputs)\n",
    "#         loss = criterion(outputs, labels)\n",
    "#         loss.backward()\n",
    "#         optimizer.step()\n",
    "#         running_loss += loss.item() * inputs.size(0)\n",
    "#         train_accuracy += calculate_accuracy(outputs, labels, threshold) * inputs.size(0)\n",
    "#         total_samples += inputs.size(0)\n",
    "\n",
    "#     scheduler.step()\n",
    "#     epoch_loss = running_loss / total_samples\n",
    "#     epoch_train_accuracy = train_accuracy / total_samples\n",
    "\n",
    "#     model.eval()\n",
    "#     val_loss = 0.0\n",
    "#     val_accuracy = 0.0\n",
    "#     with torch.no_grad():\n",
    "#         for inputs, labels in val_loader:\n",
    "#             outputs = model(inputs)\n",
    "#             val_loss += criterion(outputs, labels).item() * inputs.size(0)\n",
    "#             val_accuracy += calculate_accuracy(outputs, labels, threshold) * inputs.size(0)\n",
    "            \n",
    "#     epoch_val_loss = val_loss / len(val_loader.dataset)\n",
    "#     epoch_val_accuracy = val_accuracy / len(val_loader.dataset)\n",
    "    \n",
    "#     print(f'Epoch {epoch+1}/{epochs}, Training MAE: {epoch_loss:.4f}, Train Acc: {epoch_train_accuracy:.2%}, Validation MAE: {epoch_val_loss:.4f}, Val Acc: {epoch_val_accuracy:.2%}')\n"
   ]
  },
  {
   "cell_type": "code",
   "execution_count": 242,
   "id": "39960e7d",
   "metadata": {},
   "outputs": [],
   "source": [
    "# for epoch in range(epochs):\n",
    "#     model.train()\n",
    "#     running_loss = 0.0\n",
    "#     correct_predictions = 0\n",
    "#     total_samples = 0\n",
    "\n",
    "#     for inputs, labels in train_loader:\n",
    "#         optimizer.zero_grad()\n",
    "#         outputs = model(inputs)\n",
    "#         loss = criterion(outputs, labels)\n",
    "#         loss.backward()\n",
    "#         optimizer.step()\n",
    "#         running_loss += loss.item()\n",
    "\n",
    "#         # Calculate the accuracy-like metric\n",
    "#         with torch.no_grad():\n",
    "#             abs_percentage_error = torch.abs((outputs - labels) / labels)\n",
    "#             correct_predictions += torch.sum(abs_percentage_error < threshold).item()\n",
    "#             total_samples += labels.size(0)\n",
    "        \n",
    "#     scheduler.step()\n",
    "#     epoch_loss = running_loss / len(train_loader)\n",
    "#     train_accuracy = correct_predictions / total_samples\n",
    "\n",
    "#     model.eval()\n",
    "#     val_loss = 0.0\n",
    "#     with torch.no_grad():\n",
    "#         for inputs, labels in val_loader:\n",
    "#             outputs = model(inputs)\n",
    "#             val_loss += criterion(outputs, labels).item()\n",
    "            \n",
    "#     epoch_val_loss = val_loss / len(val_loader)\n",
    "    \n",
    "#     print(f'Epoch {epoch+1}/{epochs}, Loss: {epoch_loss:.4f}, Val Loss: {epoch_val_loss:.4f}, Train Acc: {train_accuracy:.2%}')\n",
    "\n"
   ]
  },
  {
   "cell_type": "code",
   "execution_count": 343,
   "id": "8f55ed65",
   "metadata": {},
   "outputs": [
    {
     "name": "stdout",
     "output_type": "stream",
     "text": [
      "343\n"
     ]
    }
   ],
   "source": [
    "input_size = X_train_tensor.shape[1]\n",
    "print(input_size)\n",
    "model = AirbnbPricePredictor(input_size)\n",
    "\n",
    "# criterion = nn.MSELoss()\n",
    "criterion = nn.L1Loss(reduction='mean')\n",
    "optimizer = optim.Adam(model.parameters(), lr=0.0002)\n",
    "\n",
    "# optimizer = optim.Adamax(model.parameters(), lr=0.002, betas=(0.9, 0.999))\n",
    "# optimizer = optim.SGD(model.parameters(), lr=0.01, momentum=0.9)\n",
    "\n",
    "\n",
    "# optimizer = optim.SGD(model.parameters(), lr=0.1)\n",
    "\n",
    "# Define cyclic learning rate scheduler\n",
    "# step_size_up = 100  # Number of steps for the learning rate to increase\n",
    "# step_size_down = 200  # Number of steps for the learning rate to decrease\n",
    "# base_lr = 0.001  # Lower boundary for learning rate\n",
    "# max_lr = 0.01  # Upper boundary for learning rate\n",
    "# clr_scheduler = CyclicLR(optimizer, base_lr=base_lr, max_lr=max_lr,\n",
    "#                          step_size_up=step_size_up, step_size_down=step_size_down)\n",
    "\n"
   ]
  },
  {
   "cell_type": "code",
   "execution_count": 345,
   "id": "a0ddf592",
   "metadata": {},
   "outputs": [
    {
     "name": "stdout",
     "output_type": "stream",
     "text": [
      "Epoch 1/300, Loss: 99.7932, Val Loss: 96.6554, Training Accuracy: 27.27%, Validation Accuracy: 26.42%\n",
      "Epoch 2/300, Loss: 98.1896, Val Loss: 99.4591, Training Accuracy: 27.63%, Validation Accuracy: 22.06%\n"
     ]
    },
    {
     "ename": "KeyboardInterrupt",
     "evalue": "",
     "output_type": "error",
     "traceback": [
      "\u001b[0;31m---------------------------------------------------------------------------\u001b[0m",
      "\u001b[0;31mKeyboardInterrupt\u001b[0m                         Traceback (most recent call last)",
      "Cell \u001b[0;32mIn[345], line 12\u001b[0m\n\u001b[1;32m      9\u001b[0m train_total_predictions \u001b[38;5;241m=\u001b[39m \u001b[38;5;241m0\u001b[39m\n\u001b[1;32m     11\u001b[0m \u001b[38;5;28;01mfor\u001b[39;00m inputs, labels \u001b[38;5;129;01min\u001b[39;00m train_loader:\n\u001b[0;32m---> 12\u001b[0m     optimizer\u001b[38;5;241m.\u001b[39mzero_grad()\n\u001b[1;32m     14\u001b[0m     \u001b[38;5;66;03m# Check for NaN values in inputs\u001b[39;00m\n\u001b[1;32m     15\u001b[0m     \u001b[38;5;28;01mif\u001b[39;00m np\u001b[38;5;241m.\u001b[39misnan(inputs)\u001b[38;5;241m.\u001b[39many():\n",
      "File \u001b[0;32m~/anaconda3/lib/python3.11/site-packages/torch/_compile.py:24\u001b[0m, in \u001b[0;36m_disable_dynamo.<locals>.inner\u001b[0;34m(*args, **kwargs)\u001b[0m\n\u001b[1;32m     20\u001b[0m \u001b[38;5;129m@functools\u001b[39m\u001b[38;5;241m.\u001b[39mwraps(fn)\n\u001b[1;32m     21\u001b[0m \u001b[38;5;28;01mdef\u001b[39;00m \u001b[38;5;21minner\u001b[39m(\u001b[38;5;241m*\u001b[39margs, \u001b[38;5;241m*\u001b[39m\u001b[38;5;241m*\u001b[39mkwargs):\n\u001b[1;32m     22\u001b[0m     \u001b[38;5;28;01mimport\u001b[39;00m \u001b[38;5;21;01mtorch\u001b[39;00m\u001b[38;5;21;01m.\u001b[39;00m\u001b[38;5;21;01m_dynamo\u001b[39;00m\n\u001b[0;32m---> 24\u001b[0m     \u001b[38;5;28;01mreturn\u001b[39;00m torch\u001b[38;5;241m.\u001b[39m_dynamo\u001b[38;5;241m.\u001b[39mdisable(fn, recursive)(\u001b[38;5;241m*\u001b[39margs, \u001b[38;5;241m*\u001b[39m\u001b[38;5;241m*\u001b[39mkwargs)\n",
      "File \u001b[0;32m~/anaconda3/lib/python3.11/site-packages/torch/_dynamo/eval_frame.py:328\u001b[0m, in \u001b[0;36m_TorchDynamoContext.__call__.<locals>._fn\u001b[0;34m(*args, **kwargs)\u001b[0m\n\u001b[1;32m    326\u001b[0m dynamic_ctx\u001b[38;5;241m.\u001b[39m\u001b[38;5;21m__enter__\u001b[39m()\n\u001b[1;32m    327\u001b[0m \u001b[38;5;28;01mtry\u001b[39;00m:\n\u001b[0;32m--> 328\u001b[0m     \u001b[38;5;28;01mreturn\u001b[39;00m fn(\u001b[38;5;241m*\u001b[39margs, \u001b[38;5;241m*\u001b[39m\u001b[38;5;241m*\u001b[39mkwargs)\n\u001b[1;32m    329\u001b[0m \u001b[38;5;28;01mfinally\u001b[39;00m:\n\u001b[1;32m    330\u001b[0m     set_eval_frame(prior)\n",
      "File \u001b[0;32m~/anaconda3/lib/python3.11/site-packages/torch/optim/optimizer.py:808\u001b[0m, in \u001b[0;36mOptimizer.zero_grad\u001b[0;34m(self, set_to_none)\u001b[0m\n\u001b[1;32m    806\u001b[0m \u001b[38;5;28;01mif\u001b[39;00m p\u001b[38;5;241m.\u001b[39mgrad \u001b[38;5;129;01mis\u001b[39;00m \u001b[38;5;129;01mnot\u001b[39;00m \u001b[38;5;28;01mNone\u001b[39;00m:\n\u001b[1;32m    807\u001b[0m     \u001b[38;5;28;01mif\u001b[39;00m set_to_none:\n\u001b[0;32m--> 808\u001b[0m         p\u001b[38;5;241m.\u001b[39mgrad \u001b[38;5;241m=\u001b[39m \u001b[38;5;28;01mNone\u001b[39;00m\n\u001b[1;32m    809\u001b[0m     \u001b[38;5;28;01melse\u001b[39;00m:\n\u001b[1;32m    810\u001b[0m         \u001b[38;5;28;01mif\u001b[39;00m p\u001b[38;5;241m.\u001b[39mgrad\u001b[38;5;241m.\u001b[39mgrad_fn \u001b[38;5;129;01mis\u001b[39;00m \u001b[38;5;129;01mnot\u001b[39;00m \u001b[38;5;28;01mNone\u001b[39;00m:\n",
      "\u001b[0;31mKeyboardInterrupt\u001b[0m: "
     ]
    }
   ],
   "source": [
    "threshold = 0.1\n",
    "\n",
    "# Training loop\n",
    "epochs = 300\n",
    "for epoch in range(epochs):\n",
    "    model.train()\n",
    "    running_loss = 0.0\n",
    "    train_correct_predictions = 0  # Separate variables for training accuracy calculation\n",
    "    train_total_predictions = 0\n",
    "    \n",
    "    for inputs, labels in train_loader:\n",
    "        optimizer.zero_grad()\n",
    "\n",
    "        # Check for NaN values in inputs\n",
    "        if np.isnan(inputs).any():\n",
    "            print(\"NaN values detected in inputs!\")\n",
    "            # Handle NaN values appropriately\n",
    "            \n",
    "        # Check for NaN values in labels\n",
    "        if np.isnan(labels).any():\n",
    "            print(\"NaN values detected in labels!\")\n",
    "            # Handle NaN values appropriately\n",
    "            \n",
    "        outputs = model(inputs)\n",
    "        loss = criterion(outputs, labels)\n",
    "        loss.backward()\n",
    "        optimizer.step()\n",
    "        running_loss += loss.item() * inputs.size(0)\n",
    "        \n",
    "        # Calculate absolute percentage error for accuracy-like metric\n",
    "        abs_percentage_error = torch.abs(outputs - labels) / labels\n",
    "        \n",
    "        # Count correct predictions within the threshold\n",
    "        train_correct_predictions += torch.sum(abs_percentage_error <= threshold)\n",
    "        train_total_predictions += len(labels)\n",
    "        \n",
    "    epoch_loss = running_loss / len(train_loader.dataset)\n",
    "    training_accuracy = train_correct_predictions / train_total_predictions  # Using separate variables\n",
    "    \n",
    "    model.eval()\n",
    "    val_loss = 0.0\n",
    "    correct_predictions = 0\n",
    "    total_predictions = 0\n",
    "    \n",
    "    with torch.no_grad():\n",
    "        for inputs, labels in val_loader:\n",
    "            outputs = model(inputs)\n",
    "            loss = criterion(outputs, labels)\n",
    "            val_loss += loss.item() * inputs.size(0)\n",
    "            \n",
    "            # Calculate absolute percentage error for accuracy-like metric\n",
    "            abs_percentage_error = torch.abs(outputs - labels) / labels\n",
    "            \n",
    "            # Count correct predictions within the threshold\n",
    "            correct_predictions += torch.sum(abs_percentage_error <= threshold)\n",
    "            total_predictions += len(labels)\n",
    "    \n",
    "    epoch_val_loss = val_loss / len(val_loader.dataset)\n",
    "    validation_accuracy = correct_predictions / total_predictions\n",
    "    \n",
    "    print(f'Epoch {epoch+1}/{epochs}, Loss: {epoch_loss:.4f}, Val Loss: {epoch_val_loss:.4f}, Training Accuracy: {training_accuracy:.2%}, Validation Accuracy: {validation_accuracy:.2%}')\n"
   ]
  },
  {
   "cell_type": "code",
   "execution_count": 329,
   "id": "30cafe7a",
   "metadata": {},
   "outputs": [
    {
     "name": "stdout",
     "output_type": "stream",
     "text": [
      "Epoch 1/200, Loss: 168.3001, Val Loss: 124.9578, Accuracy: 11.71%\n",
      "Epoch 2/200, Loss: 128.2377, Val Loss: 120.4401, Accuracy: 17.61%\n",
      "Epoch 3/200, Loss: 124.4717, Val Loss: 116.1181, Accuracy: 18.64%\n",
      "Epoch 4/200, Loss: 120.8779, Val Loss: 116.3538, Accuracy: 19.43%\n",
      "Epoch 5/200, Loss: 117.1665, Val Loss: 113.6018, Accuracy: 20.92%\n",
      "Epoch 6/200, Loss: 114.7732, Val Loss: 109.5894, Accuracy: 22.02%\n",
      "Epoch 7/200, Loss: 112.7085, Val Loss: 108.1930, Accuracy: 22.44%\n",
      "Epoch 8/200, Loss: 110.3938, Val Loss: 110.2880, Accuracy: 23.36%\n",
      "Epoch 9/200, Loss: 108.7588, Val Loss: 105.4420, Accuracy: 24.20%\n",
      "Epoch 10/200, Loss: 107.2472, Val Loss: 103.8024, Accuracy: 25.37%\n",
      "Epoch 11/200, Loss: 105.2711, Val Loss: 102.6334, Accuracy: 26.31%\n",
      "Epoch 12/200, Loss: 104.1550, Val Loss: 100.9852, Accuracy: 27.14%\n",
      "Epoch 13/200, Loss: 103.3348, Val Loss: 100.5905, Accuracy: 27.13%\n",
      "Epoch 14/200, Loss: 101.4145, Val Loss: 101.3124, Accuracy: 27.88%\n",
      "Epoch 15/200, Loss: 101.0820, Val Loss: 99.2543, Accuracy: 27.79%\n",
      "Epoch 16/200, Loss: 99.7137, Val Loss: 98.2870, Accuracy: 28.89%\n",
      "Epoch 17/200, Loss: 98.9516, Val Loss: 97.5852, Accuracy: 29.49%\n",
      "Epoch 18/200, Loss: 97.7673, Val Loss: 97.6227, Accuracy: 29.50%\n",
      "Epoch 19/200, Loss: 97.3944, Val Loss: 96.6404, Accuracy: 29.94%\n",
      "Epoch 20/200, Loss: 95.9259, Val Loss: 96.6317, Accuracy: 30.76%\n",
      "Epoch 21/200, Loss: 95.0013, Val Loss: 94.4927, Accuracy: 30.85%\n",
      "Epoch 22/200, Loss: 94.7962, Val Loss: 96.8219, Accuracy: 30.45%\n",
      "Epoch 23/200, Loss: 93.3241, Val Loss: 94.3235, Accuracy: 31.79%\n",
      "Epoch 24/200, Loss: 92.5480, Val Loss: 94.1383, Accuracy: 31.10%\n",
      "Epoch 25/200, Loss: 91.9044, Val Loss: 92.7910, Accuracy: 31.47%\n",
      "Epoch 26/200, Loss: 91.4008, Val Loss: 95.7664, Accuracy: 31.65%\n",
      "Epoch 27/200, Loss: 89.7756, Val Loss: 96.0587, Accuracy: 33.28%\n",
      "Epoch 28/200, Loss: 89.3735, Val Loss: 91.7128, Accuracy: 32.19%\n",
      "Epoch 29/200, Loss: 88.4303, Val Loss: 91.6565, Accuracy: 32.81%\n",
      "Epoch 30/200, Loss: 87.4423, Val Loss: 91.6056, Accuracy: 33.88%\n",
      "Epoch 31/200, Loss: 86.6440, Val Loss: 91.8642, Accuracy: 33.76%\n",
      "Epoch 32/200, Loss: 85.2150, Val Loss: 89.7092, Accuracy: 34.05%\n",
      "Epoch 33/200, Loss: 84.3208, Val Loss: 90.0401, Accuracy: 33.75%\n",
      "Epoch 34/200, Loss: 83.0968, Val Loss: 90.7859, Accuracy: 33.88%\n",
      "Epoch 35/200, Loss: 82.6927, Val Loss: 90.9292, Accuracy: 33.19%\n",
      "Epoch 36/200, Loss: 80.3241, Val Loss: 88.7868, Accuracy: 33.28%\n",
      "Epoch 37/200, Loss: 77.9595, Val Loss: 88.5520, Accuracy: 35.18%\n",
      "Epoch 38/200, Loss: 77.5254, Val Loss: 86.9510, Accuracy: 35.48%\n",
      "Epoch 39/200, Loss: 76.4389, Val Loss: 88.6348, Accuracy: 36.13%\n",
      "Epoch 40/200, Loss: 75.8490, Val Loss: 86.3604, Accuracy: 36.31%\n",
      "Epoch 41/200, Loss: 75.0653, Val Loss: 87.3741, Accuracy: 36.68%\n",
      "Epoch 42/200, Loss: 75.1490, Val Loss: 87.1758, Accuracy: 36.76%\n",
      "Epoch 43/200, Loss: 74.6619, Val Loss: 86.8412, Accuracy: 36.42%\n",
      "Epoch 44/200, Loss: 73.7176, Val Loss: 85.9689, Accuracy: 37.42%\n",
      "Epoch 45/200, Loss: 72.9882, Val Loss: 87.9683, Accuracy: 37.96%\n",
      "Epoch 46/200, Loss: 73.0778, Val Loss: 87.2121, Accuracy: 38.36%\n",
      "Epoch 47/200, Loss: 71.9888, Val Loss: 84.8536, Accuracy: 39.21%\n",
      "Epoch 48/200, Loss: 71.9068, Val Loss: 85.8941, Accuracy: 38.78%\n",
      "Epoch 49/200, Loss: 71.7802, Val Loss: 85.6863, Accuracy: 38.75%\n",
      "Epoch 50/200, Loss: 71.2025, Val Loss: 88.0061, Accuracy: 39.69%\n",
      "Epoch 51/200, Loss: 71.1236, Val Loss: 87.2355, Accuracy: 39.92%\n",
      "Epoch 52/200, Loss: 71.0338, Val Loss: 85.1824, Accuracy: 39.54%\n",
      "Epoch 53/200, Loss: 70.1921, Val Loss: 87.9791, Accuracy: 39.34%\n",
      "Epoch 54/200, Loss: 69.7643, Val Loss: 86.7851, Accuracy: 40.48%\n",
      "Epoch 55/200, Loss: 69.6557, Val Loss: 86.7332, Accuracy: 40.58%\n",
      "Epoch 56/200, Loss: 68.6165, Val Loss: 84.2885, Accuracy: 41.42%\n",
      "Epoch 57/200, Loss: 68.7562, Val Loss: 86.5199, Accuracy: 41.55%\n",
      "Epoch 58/200, Loss: 68.6753, Val Loss: 84.7231, Accuracy: 40.99%\n",
      "Epoch 59/200, Loss: 68.4926, Val Loss: 85.5059, Accuracy: 41.70%\n",
      "Epoch 60/200, Loss: 68.2763, Val Loss: 85.2198, Accuracy: 41.45%\n",
      "Epoch 61/200, Loss: 67.0821, Val Loss: 85.4967, Accuracy: 42.04%\n",
      "Epoch 62/200, Loss: 67.1144, Val Loss: 85.1604, Accuracy: 42.08%\n",
      "Epoch 63/200, Loss: 67.2220, Val Loss: 84.4667, Accuracy: 41.08%\n",
      "Epoch 64/200, Loss: 66.3035, Val Loss: 85.0266, Accuracy: 42.70%\n",
      "Epoch 65/200, Loss: 66.2463, Val Loss: 84.3637, Accuracy: 43.10%\n",
      "Epoch 66/200, Loss: 66.1505, Val Loss: 85.6897, Accuracy: 42.44%\n",
      "Epoch 67/200, Loss: 64.8084, Val Loss: 83.1542, Accuracy: 43.80%\n",
      "Epoch 68/200, Loss: 65.2670, Val Loss: 86.4205, Accuracy: 43.49%\n",
      "Epoch 69/200, Loss: 65.1175, Val Loss: 83.1486, Accuracy: 43.78%\n",
      "Epoch 70/200, Loss: 64.4272, Val Loss: 86.7327, Accuracy: 43.57%\n",
      "Epoch 71/200, Loss: 65.0256, Val Loss: 85.2446, Accuracy: 44.06%\n",
      "Epoch 72/200, Loss: 63.9273, Val Loss: 83.6853, Accuracy: 44.64%\n",
      "Epoch 73/200, Loss: 64.1324, Val Loss: 83.5266, Accuracy: 43.71%\n",
      "Epoch 74/200, Loss: 63.3692, Val Loss: 85.3800, Accuracy: 45.12%\n",
      "Epoch 75/200, Loss: 62.9201, Val Loss: 84.2694, Accuracy: 45.41%\n",
      "Epoch 76/200, Loss: 62.4210, Val Loss: 83.0024, Accuracy: 45.72%\n",
      "Epoch 77/200, Loss: 62.1574, Val Loss: 85.1002, Accuracy: 45.63%\n",
      "Epoch 78/200, Loss: 62.9683, Val Loss: 85.6978, Accuracy: 44.99%\n",
      "Epoch 79/200, Loss: 62.3335, Val Loss: 82.4317, Accuracy: 45.69%\n",
      "Epoch 80/200, Loss: 61.3843, Val Loss: 85.9168, Accuracy: 46.37%\n",
      "Epoch 81/200, Loss: 61.6280, Val Loss: 83.5312, Accuracy: 45.89%\n",
      "Epoch 82/200, Loss: 61.7059, Val Loss: 83.4536, Accuracy: 45.46%\n",
      "Epoch 83/200, Loss: 61.1407, Val Loss: 83.7003, Accuracy: 46.17%\n",
      "Epoch 84/200, Loss: 60.4262, Val Loss: 83.6341, Accuracy: 47.15%\n",
      "Epoch 85/200, Loss: 61.9153, Val Loss: 83.0619, Accuracy: 46.18%\n",
      "Epoch 86/200, Loss: 60.1657, Val Loss: 83.9347, Accuracy: 47.98%\n",
      "Epoch 87/200, Loss: 60.2916, Val Loss: 82.6914, Accuracy: 46.81%\n",
      "Epoch 88/200, Loss: 60.2909, Val Loss: 84.9543, Accuracy: 47.40%\n",
      "Epoch 89/200, Loss: 59.1752, Val Loss: 84.4210, Accuracy: 48.12%\n",
      "Epoch 90/200, Loss: 60.2182, Val Loss: 83.2703, Accuracy: 47.25%\n",
      "Epoch 91/200, Loss: 59.8766, Val Loss: 83.1532, Accuracy: 47.81%\n",
      "Epoch 92/200, Loss: 59.1112, Val Loss: 83.8745, Accuracy: 47.74%\n",
      "Epoch 93/200, Loss: 58.6278, Val Loss: 84.2771, Accuracy: 48.64%\n",
      "Epoch 94/200, Loss: 58.2478, Val Loss: 84.2294, Accuracy: 48.85%\n",
      "Epoch 95/200, Loss: 58.9050, Val Loss: 84.1830, Accuracy: 48.24%\n",
      "Epoch 96/200, Loss: 58.6848, Val Loss: 82.7382, Accuracy: 48.33%\n",
      "Epoch 97/200, Loss: 58.2583, Val Loss: 81.4901, Accuracy: 48.58%\n",
      "Epoch 98/200, Loss: 58.4899, Val Loss: 86.4281, Accuracy: 48.46%\n",
      "Epoch 99/200, Loss: 57.7160, Val Loss: 84.1191, Accuracy: 48.55%\n",
      "Epoch 100/200, Loss: 57.2660, Val Loss: 82.7401, Accuracy: 48.98%\n",
      "Epoch 101/200, Loss: 56.7035, Val Loss: 81.6503, Accuracy: 50.38%\n",
      "Epoch 102/200, Loss: 57.4705, Val Loss: 83.2748, Accuracy: 49.71%\n",
      "Epoch 103/200, Loss: 56.9323, Val Loss: 81.7170, Accuracy: 49.44%\n",
      "Epoch 104/200, Loss: 56.2504, Val Loss: 82.1317, Accuracy: 51.08%\n",
      "Epoch 105/200, Loss: 56.2718, Val Loss: 82.7543, Accuracy: 50.22%\n",
      "Epoch 106/200, Loss: 56.2765, Val Loss: 84.2493, Accuracy: 50.70%\n",
      "Epoch 107/200, Loss: 56.4464, Val Loss: 82.9892, Accuracy: 50.15%\n",
      "Epoch 108/200, Loss: 55.8707, Val Loss: 84.0678, Accuracy: 50.52%\n",
      "Epoch 109/200, Loss: 55.4338, Val Loss: 82.2311, Accuracy: 50.86%\n",
      "Epoch 110/200, Loss: 55.3236, Val Loss: 82.3632, Accuracy: 51.17%\n",
      "Epoch 111/200, Loss: 54.6416, Val Loss: 82.9397, Accuracy: 51.86%\n",
      "Epoch 112/200, Loss: 55.6496, Val Loss: 80.9199, Accuracy: 50.65%\n",
      "Epoch 113/200, Loss: 54.9024, Val Loss: 84.2868, Accuracy: 51.84%\n",
      "Epoch 114/200, Loss: 55.0575, Val Loss: 85.5210, Accuracy: 51.32%\n",
      "Epoch 115/200, Loss: 53.8855, Val Loss: 84.7414, Accuracy: 52.21%\n",
      "Epoch 116/200, Loss: 54.7559, Val Loss: 83.3236, Accuracy: 52.75%\n",
      "Epoch 117/200, Loss: 54.3451, Val Loss: 82.2862, Accuracy: 52.14%\n",
      "Epoch 118/200, Loss: 54.4220, Val Loss: 81.3879, Accuracy: 52.21%\n",
      "Epoch 119/200, Loss: 53.7882, Val Loss: 81.9261, Accuracy: 53.26%\n",
      "Epoch 120/200, Loss: 54.9053, Val Loss: 82.1408, Accuracy: 51.34%\n",
      "Epoch 121/200, Loss: 52.8239, Val Loss: 83.8490, Accuracy: 53.44%\n",
      "Epoch 122/200, Loss: 52.8361, Val Loss: 81.2871, Accuracy: 53.98%\n",
      "Epoch 123/200, Loss: 52.4301, Val Loss: 81.5415, Accuracy: 53.83%\n",
      "Epoch 124/200, Loss: 52.4818, Val Loss: 84.2913, Accuracy: 53.60%\n",
      "Epoch 125/200, Loss: 53.2588, Val Loss: 80.8210, Accuracy: 53.01%\n",
      "Epoch 126/200, Loss: 52.2758, Val Loss: 81.8799, Accuracy: 54.18%\n"
     ]
    },
    {
     "name": "stdout",
     "output_type": "stream",
     "text": [
      "Epoch 127/200, Loss: 52.0340, Val Loss: 80.5193, Accuracy: 54.47%\n",
      "Epoch 128/200, Loss: 51.8580, Val Loss: 81.0525, Accuracy: 54.48%\n",
      "Epoch 129/200, Loss: 52.4055, Val Loss: 81.9949, Accuracy: 54.64%\n",
      "Epoch 130/200, Loss: 52.0484, Val Loss: 82.3122, Accuracy: 54.01%\n",
      "Epoch 131/200, Loss: 51.8607, Val Loss: 82.4011, Accuracy: 54.72%\n",
      "Epoch 132/200, Loss: 51.2038, Val Loss: 81.7372, Accuracy: 54.66%\n",
      "Epoch 133/200, Loss: 51.4809, Val Loss: 80.9253, Accuracy: 55.14%\n",
      "Epoch 134/200, Loss: 50.7211, Val Loss: 81.4407, Accuracy: 55.12%\n",
      "Epoch 135/200, Loss: 51.2281, Val Loss: 81.3846, Accuracy: 54.66%\n",
      "Epoch 136/200, Loss: 50.9472, Val Loss: 81.6049, Accuracy: 55.55%\n",
      "Epoch 137/200, Loss: 50.8351, Val Loss: 80.4223, Accuracy: 55.44%\n",
      "Epoch 138/200, Loss: 50.1471, Val Loss: 83.1796, Accuracy: 55.73%\n",
      "Epoch 139/200, Loss: 50.6501, Val Loss: 80.6265, Accuracy: 55.59%\n",
      "Epoch 140/200, Loss: 50.7874, Val Loss: 80.2007, Accuracy: 55.55%\n",
      "Epoch 141/200, Loss: 50.5109, Val Loss: 81.7595, Accuracy: 56.13%\n",
      "Epoch 142/200, Loss: 49.7505, Val Loss: 81.0276, Accuracy: 56.77%\n",
      "Epoch 143/200, Loss: 50.3921, Val Loss: 79.0910, Accuracy: 55.06%\n",
      "Epoch 144/200, Loss: 50.6391, Val Loss: 81.6359, Accuracy: 55.65%\n",
      "Epoch 145/200, Loss: 49.4639, Val Loss: 81.8367, Accuracy: 57.34%\n",
      "Epoch 146/200, Loss: 49.3725, Val Loss: 80.1281, Accuracy: 56.39%\n",
      "Epoch 147/200, Loss: 49.6498, Val Loss: 82.1584, Accuracy: 56.49%\n",
      "Epoch 148/200, Loss: 49.1217, Val Loss: 79.6389, Accuracy: 56.73%\n",
      "Epoch 149/200, Loss: 49.3311, Val Loss: 79.4735, Accuracy: 56.62%\n",
      "Epoch 150/200, Loss: 48.8594, Val Loss: 80.1195, Accuracy: 57.80%\n",
      "Epoch 151/200, Loss: 49.2498, Val Loss: 79.2126, Accuracy: 56.41%\n",
      "Epoch 152/200, Loss: 48.7698, Val Loss: 78.9544, Accuracy: 57.25%\n",
      "Epoch 153/200, Loss: 49.1907, Val Loss: 79.9393, Accuracy: 56.49%\n",
      "Epoch 154/200, Loss: 47.8166, Val Loss: 79.6296, Accuracy: 58.13%\n",
      "Epoch 155/200, Loss: 48.4034, Val Loss: 79.6527, Accuracy: 58.00%\n",
      "Epoch 156/200, Loss: 48.1144, Val Loss: 79.6305, Accuracy: 57.76%\n",
      "Epoch 157/200, Loss: 48.4668, Val Loss: 79.8271, Accuracy: 57.85%\n",
      "Epoch 158/200, Loss: 47.8161, Val Loss: 80.3718, Accuracy: 59.03%\n",
      "Epoch 159/200, Loss: 47.3824, Val Loss: 80.5545, Accuracy: 59.03%\n",
      "Epoch 160/200, Loss: 47.1427, Val Loss: 78.5865, Accuracy: 59.69%\n",
      "Epoch 161/200, Loss: 47.0136, Val Loss: 78.7089, Accuracy: 60.02%\n",
      "Epoch 162/200, Loss: 46.5557, Val Loss: 78.9425, Accuracy: 59.68%\n",
      "Epoch 163/200, Loss: 46.7737, Val Loss: 79.8090, Accuracy: 59.75%\n",
      "Epoch 164/200, Loss: 46.3614, Val Loss: 78.7386, Accuracy: 59.66%\n",
      "Epoch 165/200, Loss: 46.5032, Val Loss: 79.6087, Accuracy: 59.49%\n",
      "Epoch 166/200, Loss: 46.6150, Val Loss: 78.7230, Accuracy: 59.02%\n",
      "Epoch 167/200, Loss: 47.0133, Val Loss: 79.3485, Accuracy: 58.91%\n",
      "Epoch 168/200, Loss: 45.9756, Val Loss: 79.3196, Accuracy: 59.69%\n",
      "Epoch 169/200, Loss: 46.7861, Val Loss: 79.8653, Accuracy: 59.50%\n",
      "Epoch 170/200, Loss: 46.3312, Val Loss: 79.6101, Accuracy: 59.71%\n",
      "Epoch 171/200, Loss: 46.4252, Val Loss: 78.7146, Accuracy: 59.24%\n",
      "Epoch 172/200, Loss: 46.2686, Val Loss: 76.8620, Accuracy: 60.48%\n",
      "Epoch 173/200, Loss: 46.1096, Val Loss: 79.4024, Accuracy: 59.66%\n",
      "Epoch 174/200, Loss: 46.3968, Val Loss: 80.6622, Accuracy: 59.59%\n",
      "Epoch 175/200, Loss: 45.5524, Val Loss: 77.1623, Accuracy: 60.28%\n",
      "Epoch 176/200, Loss: 44.5522, Val Loss: 78.6371, Accuracy: 61.11%\n",
      "Epoch 177/200, Loss: 44.6607, Val Loss: 77.7647, Accuracy: 61.22%\n",
      "Epoch 178/200, Loss: 45.0562, Val Loss: 79.1397, Accuracy: 60.85%\n",
      "Epoch 179/200, Loss: 45.1553, Val Loss: 78.3515, Accuracy: 60.81%\n",
      "Epoch 180/200, Loss: 44.4423, Val Loss: 78.8574, Accuracy: 62.28%\n",
      "Epoch 181/200, Loss: 44.4181, Val Loss: 78.9131, Accuracy: 61.71%\n",
      "Epoch 182/200, Loss: 44.9156, Val Loss: 78.2845, Accuracy: 60.57%\n",
      "Epoch 183/200, Loss: 43.8994, Val Loss: 79.2184, Accuracy: 62.53%\n",
      "Epoch 184/200, Loss: 44.3842, Val Loss: 78.7864, Accuracy: 61.32%\n",
      "Epoch 185/200, Loss: 43.9342, Val Loss: 79.0525, Accuracy: 62.15%\n",
      "Epoch 186/200, Loss: 43.4584, Val Loss: 79.4784, Accuracy: 62.50%\n",
      "Epoch 187/200, Loss: 44.6987, Val Loss: 78.8797, Accuracy: 60.58%\n",
      "Epoch 188/200, Loss: 43.4623, Val Loss: 77.2154, Accuracy: 62.76%\n",
      "Epoch 189/200, Loss: 44.0492, Val Loss: 78.5988, Accuracy: 61.52%\n",
      "Epoch 190/200, Loss: 43.5493, Val Loss: 77.7132, Accuracy: 62.86%\n",
      "Epoch 191/200, Loss: 42.7509, Val Loss: 78.8276, Accuracy: 63.72%\n",
      "Epoch 192/200, Loss: 43.1579, Val Loss: 78.8743, Accuracy: 63.40%\n",
      "Epoch 193/200, Loss: 43.2290, Val Loss: 78.1834, Accuracy: 63.01%\n",
      "Epoch 194/200, Loss: 43.0275, Val Loss: 78.5569, Accuracy: 63.12%\n",
      "Epoch 195/200, Loss: 42.6941, Val Loss: 81.1906, Accuracy: 62.89%\n",
      "Epoch 196/200, Loss: 43.2695, Val Loss: 75.6956, Accuracy: 61.58%\n",
      "Epoch 197/200, Loss: 42.6503, Val Loss: 76.9213, Accuracy: 63.70%\n",
      "Epoch 198/200, Loss: 42.9523, Val Loss: 77.9042, Accuracy: 62.74%\n",
      "Epoch 199/200, Loss: 42.4785, Val Loss: 79.3116, Accuracy: 63.56%\n",
      "Epoch 200/200, Loss: 41.8683, Val Loss: 77.2779, Accuracy: 64.56%\n"
     ]
    }
   ],
   "source": [
    "threshold = 0.1\n",
    "\n",
    "# Training loop\n",
    "epochs = 200\n",
    "for epoch in range(epochs):\n",
    "    model.train()\n",
    "    running_loss = 0.0\n",
    "    correct_predictions = 0\n",
    "    total_predictions = 0\n",
    "    \n",
    "    for inputs, labels in train_loader:\n",
    "        optimizer.zero_grad()\n",
    "\n",
    "        # Check for NaN values in inputs\n",
    "        if np.isnan(inputs).any():\n",
    "            print(\"NaN values detected in inputs!\")\n",
    "            # Handle NaN values appropriately\n",
    "            \n",
    "        # Check for NaN values in labels\n",
    "        if np.isnan(labels).any():\n",
    "            print(\"NaN values detected in labels!\")\n",
    "            # Handle NaN values appropriately\n",
    "            \n",
    "        outputs = model(inputs)\n",
    "        loss = criterion(outputs, labels)\n",
    "        loss.backward()\n",
    "        optimizer.step()\n",
    "        running_loss += loss.item() * inputs.size(0)\n",
    "        \n",
    "        # Calculate absolute percentage error for accuracy-like metric\n",
    "        abs_percentage_error = torch.abs(outputs - labels) / labels\n",
    "        \n",
    "        # Count correct predictions within the threshold\n",
    "        correct_predictions += torch.sum(abs_percentage_error <= threshold)\n",
    "        total_predictions += len(labels)\n",
    "        \n",
    "    epoch_loss = running_loss / len(train_loader.dataset)\n",
    "    accuracy = correct_predictions / total_predictions\n",
    "    \n",
    "    model.eval()\n",
    "    val_loss = 0.0\n",
    "    \n",
    "    with torch.no_grad():\n",
    "        for inputs, labels in val_loader:\n",
    "            outputs = model(inputs)\n",
    "            loss = criterion(outputs, labels)\n",
    "            val_loss += loss.item() * inputs.size(0)\n",
    "            \n",
    "    epoch_val_loss = val_loss / len(val_loader.dataset)\n",
    "    \n",
    "    print(f'Epoch {epoch+1}/{epochs}, Loss: {epoch_loss:.4f}, Val Loss: {epoch_val_loss:.4f}, Accuracy: {accuracy:.2%}')\n"
   ]
  },
  {
   "cell_type": "code",
   "execution_count": 253,
   "id": "18462da6",
   "metadata": {},
   "outputs": [
    {
     "name": "stdout",
     "output_type": "stream",
     "text": [
      "Epoch 1/100, Train Loss: 70.2515, Train Accuracy: 53.66%, Val Loss: 124.8512, Val Accuracy: 22.26%, \n",
      "Epoch 2/100, Train Loss: 70.0175, Train Accuracy: 53.38%, Val Loss: 126.2065, Val Accuracy: 22.57%, \n",
      "Epoch 3/100, Train Loss: 69.7844, Train Accuracy: 54.39%, Val Loss: 125.9621, Val Accuracy: 21.63%, \n",
      "Epoch 4/100, Train Loss: 70.0324, Train Accuracy: 53.83%, Val Loss: 126.1993, Val Accuracy: 20.38%, \n",
      "Epoch 5/100, Train Loss: 69.6004, Train Accuracy: 54.01%, Val Loss: 125.6153, Val Accuracy: 22.26%, \n",
      "Epoch 6/100, Train Loss: 69.4743, Train Accuracy: 54.91%, Val Loss: 125.6641, Val Accuracy: 21.63%, \n",
      "Epoch 7/100, Train Loss: 69.2675, Train Accuracy: 55.33%, Val Loss: 126.1042, Val Accuracy: 21.00%, \n",
      "Epoch 8/100, Train Loss: 69.0411, Train Accuracy: 55.37%, Val Loss: 125.9050, Val Accuracy: 23.82%, \n",
      "Epoch 9/100, Train Loss: 69.0106, Train Accuracy: 54.29%, Val Loss: 126.8775, Val Accuracy: 21.32%, \n",
      "Epoch 10/100, Train Loss: 69.0663, Train Accuracy: 54.81%, Val Loss: 126.8942, Val Accuracy: 20.38%, \n",
      "Epoch 11/100, Train Loss: 68.7515, Train Accuracy: 54.32%, Val Loss: 126.8469, Val Accuracy: 22.88%, \n",
      "Epoch 12/100, Train Loss: 68.5581, Train Accuracy: 55.54%, Val Loss: 126.3736, Val Accuracy: 23.20%, \n",
      "Epoch 13/100, Train Loss: 69.0639, Train Accuracy: 52.20%, Val Loss: 126.1370, Val Accuracy: 21.63%, \n",
      "Epoch 14/100, Train Loss: 68.5791, Train Accuracy: 54.77%, Val Loss: 126.8409, Val Accuracy: 19.75%, \n",
      "Epoch 15/100, Train Loss: 68.5840, Train Accuracy: 53.97%, Val Loss: 126.9240, Val Accuracy: 21.63%, \n",
      "Epoch 16/100, Train Loss: 68.1699, Train Accuracy: 54.98%, Val Loss: 125.6834, Val Accuracy: 23.51%, \n",
      "Epoch 17/100, Train Loss: 68.4899, Train Accuracy: 53.80%, Val Loss: 127.1936, Val Accuracy: 21.32%, \n",
      "Epoch 18/100, Train Loss: 68.0217, Train Accuracy: 54.53%, Val Loss: 128.1855, Val Accuracy: 19.12%, \n",
      "Epoch 19/100, Train Loss: 68.6038, Train Accuracy: 50.84%, Val Loss: 126.6125, Val Accuracy: 24.14%, \n",
      "Epoch 20/100, Train Loss: 67.9514, Train Accuracy: 53.94%, Val Loss: 128.4980, Val Accuracy: 19.75%, \n",
      "Epoch 21/100, Train Loss: 67.8434, Train Accuracy: 52.37%, Val Loss: 129.0688, Val Accuracy: 17.87%, \n",
      "Epoch 22/100, Train Loss: 67.4776, Train Accuracy: 54.67%, Val Loss: 127.9368, Val Accuracy: 21.94%, \n",
      "Epoch 23/100, Train Loss: 67.0986, Train Accuracy: 54.46%, Val Loss: 127.0061, Val Accuracy: 22.26%, \n",
      "Epoch 24/100, Train Loss: 67.2213, Train Accuracy: 55.85%, Val Loss: 127.8361, Val Accuracy: 23.51%, \n",
      "Epoch 25/100, Train Loss: 66.4672, Train Accuracy: 55.92%, Val Loss: 128.2712, Val Accuracy: 21.32%, \n",
      "Epoch 26/100, Train Loss: 66.3471, Train Accuracy: 56.38%, Val Loss: 128.0418, Val Accuracy: 21.94%, \n",
      "Epoch 27/100, Train Loss: 66.5039, Train Accuracy: 56.31%, Val Loss: 129.4149, Val Accuracy: 22.26%, \n",
      "Epoch 28/100, Train Loss: 66.2155, Train Accuracy: 56.52%, Val Loss: 128.0755, Val Accuracy: 21.94%, \n",
      "Epoch 29/100, Train Loss: 66.4953, Train Accuracy: 54.81%, Val Loss: 129.6942, Val Accuracy: 18.50%, \n",
      "Epoch 30/100, Train Loss: 66.1431, Train Accuracy: 56.17%, Val Loss: 129.4993, Val Accuracy: 21.00%, \n",
      "Epoch 31/100, Train Loss: 66.4719, Train Accuracy: 54.32%, Val Loss: 129.0954, Val Accuracy: 21.32%, \n",
      "Epoch 32/100, Train Loss: 65.6958, Train Accuracy: 56.34%, Val Loss: 129.9823, Val Accuracy: 18.50%, \n",
      "Epoch 33/100, Train Loss: 65.4152, Train Accuracy: 56.66%, Val Loss: 130.6377, Val Accuracy: 20.69%, \n",
      "Epoch 34/100, Train Loss: 66.7217, Train Accuracy: 53.10%, Val Loss: 128.6563, Val Accuracy: 22.26%, \n",
      "Epoch 35/100, Train Loss: 65.4687, Train Accuracy: 56.79%, Val Loss: 129.4775, Val Accuracy: 20.38%, \n",
      "Epoch 36/100, Train Loss: 65.1653, Train Accuracy: 56.83%, Val Loss: 129.3840, Val Accuracy: 18.18%, \n",
      "Epoch 37/100, Train Loss: 65.4477, Train Accuracy: 56.76%, Val Loss: 130.3358, Val Accuracy: 17.24%, \n",
      "Epoch 38/100, Train Loss: 64.8885, Train Accuracy: 56.69%, Val Loss: 130.1291, Val Accuracy: 18.50%, \n",
      "Epoch 39/100, Train Loss: 65.1904, Train Accuracy: 55.44%, Val Loss: 127.5099, Val Accuracy: 22.88%, \n",
      "Epoch 40/100, Train Loss: 65.4943, Train Accuracy: 55.02%, Val Loss: 129.4683, Val Accuracy: 18.81%, \n",
      "Epoch 41/100, Train Loss: 64.3483, Train Accuracy: 57.67%, Val Loss: 127.7619, Val Accuracy: 23.51%, \n",
      "Epoch 42/100, Train Loss: 64.3003, Train Accuracy: 57.35%, Val Loss: 128.2239, Val Accuracy: 24.14%, \n",
      "Epoch 43/100, Train Loss: 64.4870, Train Accuracy: 56.90%, Val Loss: 129.8193, Val Accuracy: 21.94%, \n",
      "Epoch 44/100, Train Loss: 64.3656, Train Accuracy: 57.07%, Val Loss: 131.4777, Val Accuracy: 18.81%, \n",
      "Epoch 45/100, Train Loss: 64.0957, Train Accuracy: 57.77%, Val Loss: 128.3671, Val Accuracy: 23.82%, \n",
      "Epoch 46/100, Train Loss: 64.0840, Train Accuracy: 57.67%, Val Loss: 130.0826, Val Accuracy: 20.38%, \n",
      "Epoch 47/100, Train Loss: 63.8698, Train Accuracy: 57.21%, Val Loss: 130.4226, Val Accuracy: 19.44%, \n",
      "Epoch 48/100, Train Loss: 63.9035, Train Accuracy: 56.69%, Val Loss: 129.3038, Val Accuracy: 18.81%, \n",
      "Epoch 49/100, Train Loss: 63.8221, Train Accuracy: 56.76%, Val Loss: 128.5072, Val Accuracy: 21.32%, \n",
      "Epoch 50/100, Train Loss: 63.6426, Train Accuracy: 58.36%, Val Loss: 128.5596, Val Accuracy: 20.38%, \n",
      "Epoch 51/100, Train Loss: 63.6336, Train Accuracy: 57.74%, Val Loss: 128.7047, Val Accuracy: 20.69%, \n",
      "Epoch 52/100, Train Loss: 63.4041, Train Accuracy: 57.63%, Val Loss: 129.4517, Val Accuracy: 18.81%, \n",
      "Epoch 53/100, Train Loss: 63.2929, Train Accuracy: 57.84%, Val Loss: 127.7669, Val Accuracy: 23.20%, \n",
      "Epoch 54/100, Train Loss: 63.2659, Train Accuracy: 56.83%, Val Loss: 127.9232, Val Accuracy: 21.00%, \n",
      "Epoch 55/100, Train Loss: 62.7438, Train Accuracy: 57.70%, Val Loss: 129.3179, Val Accuracy: 18.50%, \n",
      "Epoch 56/100, Train Loss: 62.6965, Train Accuracy: 58.99%, Val Loss: 129.3763, Val Accuracy: 21.32%, \n",
      "Epoch 57/100, Train Loss: 62.7839, Train Accuracy: 58.64%, Val Loss: 130.0080, Val Accuracy: 18.50%, \n",
      "Epoch 58/100, Train Loss: 63.1066, Train Accuracy: 56.97%, Val Loss: 129.8771, Val Accuracy: 18.81%, \n",
      "Epoch 59/100, Train Loss: 62.6944, Train Accuracy: 56.59%, Val Loss: 127.9044, Val Accuracy: 22.88%, \n",
      "Epoch 60/100, Train Loss: 62.4090, Train Accuracy: 58.36%, Val Loss: 130.5395, Val Accuracy: 20.38%, \n",
      "Epoch 61/100, Train Loss: 62.0983, Train Accuracy: 59.20%, Val Loss: 128.2375, Val Accuracy: 20.38%, \n",
      "Epoch 62/100, Train Loss: 61.9562, Train Accuracy: 59.09%, Val Loss: 130.2705, Val Accuracy: 21.00%, \n",
      "Epoch 63/100, Train Loss: 62.4777, Train Accuracy: 57.42%, Val Loss: 128.9960, Val Accuracy: 20.38%, \n",
      "Epoch 64/100, Train Loss: 62.0464, Train Accuracy: 58.08%, Val Loss: 128.9486, Val Accuracy: 22.26%, \n",
      "Epoch 65/100, Train Loss: 62.4690, Train Accuracy: 56.83%, Val Loss: 128.0206, Val Accuracy: 22.26%, \n",
      "Epoch 66/100, Train Loss: 61.8364, Train Accuracy: 58.64%, Val Loss: 128.4426, Val Accuracy: 23.51%, \n",
      "Epoch 67/100, Train Loss: 61.9758, Train Accuracy: 57.46%, Val Loss: 127.7574, Val Accuracy: 22.57%, \n",
      "Epoch 68/100, Train Loss: 61.5240, Train Accuracy: 57.84%, Val Loss: 127.7848, Val Accuracy: 24.14%, \n",
      "Epoch 69/100, Train Loss: 61.9377, Train Accuracy: 57.28%, Val Loss: 129.6635, Val Accuracy: 19.12%, \n",
      "Epoch 70/100, Train Loss: 61.0047, Train Accuracy: 60.00%, Val Loss: 127.3306, Val Accuracy: 21.63%, \n",
      "Epoch 71/100, Train Loss: 61.6277, Train Accuracy: 57.63%, Val Loss: 127.7673, Val Accuracy: 22.57%, \n",
      "Epoch 72/100, Train Loss: 61.7923, Train Accuracy: 57.56%, Val Loss: 129.0830, Val Accuracy: 20.69%, \n",
      "Epoch 73/100, Train Loss: 61.2599, Train Accuracy: 58.99%, Val Loss: 128.1134, Val Accuracy: 23.20%, \n",
      "Epoch 74/100, Train Loss: 60.9543, Train Accuracy: 58.92%, Val Loss: 127.5395, Val Accuracy: 24.14%, \n",
      "Epoch 75/100, Train Loss: 60.7258, Train Accuracy: 58.43%, Val Loss: 128.4073, Val Accuracy: 21.00%, \n",
      "Epoch 76/100, Train Loss: 60.8063, Train Accuracy: 58.89%, Val Loss: 129.2200, Val Accuracy: 19.75%, \n",
      "Epoch 77/100, Train Loss: 60.9332, Train Accuracy: 58.68%, Val Loss: 128.2396, Val Accuracy: 22.26%, \n",
      "Epoch 78/100, Train Loss: 60.0863, Train Accuracy: 60.94%, Val Loss: 129.0815, Val Accuracy: 20.69%, \n",
      "Epoch 79/100, Train Loss: 60.3898, Train Accuracy: 59.20%, Val Loss: 128.8047, Val Accuracy: 22.57%, \n",
      "Epoch 80/100, Train Loss: 59.9907, Train Accuracy: 59.97%, Val Loss: 127.4198, Val Accuracy: 24.14%, \n",
      "Epoch 81/100, Train Loss: 60.1815, Train Accuracy: 59.76%, Val Loss: 128.5085, Val Accuracy: 20.38%, \n",
      "Epoch 82/100, Train Loss: 60.2704, Train Accuracy: 59.34%, Val Loss: 126.4574, Val Accuracy: 22.57%, \n"
     ]
    },
    {
     "name": "stdout",
     "output_type": "stream",
     "text": [
      "Epoch 83/100, Train Loss: 60.1098, Train Accuracy: 59.72%, Val Loss: 127.9521, Val Accuracy: 23.20%, \n",
      "Epoch 84/100, Train Loss: 60.1158, Train Accuracy: 58.92%, Val Loss: 126.5558, Val Accuracy: 21.63%, \n",
      "Epoch 85/100, Train Loss: 60.2048, Train Accuracy: 59.34%, Val Loss: 126.1887, Val Accuracy: 25.39%, \n",
      "Epoch 86/100, Train Loss: 59.4387, Train Accuracy: 60.80%, Val Loss: 127.6934, Val Accuracy: 23.82%, \n",
      "Epoch 87/100, Train Loss: 59.3252, Train Accuracy: 61.32%, Val Loss: 128.1176, Val Accuracy: 23.20%, \n",
      "Epoch 88/100, Train Loss: 59.7732, Train Accuracy: 59.86%, Val Loss: 127.9659, Val Accuracy: 23.82%, \n",
      "Epoch 89/100, Train Loss: 59.0576, Train Accuracy: 61.53%, Val Loss: 127.9584, Val Accuracy: 23.82%, \n",
      "Epoch 90/100, Train Loss: 59.2735, Train Accuracy: 60.77%, Val Loss: 126.7935, Val Accuracy: 25.71%, \n",
      "Epoch 91/100, Train Loss: 58.9802, Train Accuracy: 60.87%, Val Loss: 128.6515, Val Accuracy: 22.88%, \n",
      "Epoch 92/100, Train Loss: 59.5188, Train Accuracy: 59.51%, Val Loss: 126.5103, Val Accuracy: 23.51%, \n",
      "Epoch 93/100, Train Loss: 59.5544, Train Accuracy: 59.13%, Val Loss: 127.7263, Val Accuracy: 22.26%, \n",
      "Epoch 94/100, Train Loss: 59.0323, Train Accuracy: 59.72%, Val Loss: 127.7154, Val Accuracy: 24.14%, \n",
      "Epoch 95/100, Train Loss: 58.6235, Train Accuracy: 61.01%, Val Loss: 127.9234, Val Accuracy: 22.26%, \n",
      "Epoch 96/100, Train Loss: 58.4323, Train Accuracy: 60.80%, Val Loss: 127.8990, Val Accuracy: 24.14%, \n",
      "Epoch 97/100, Train Loss: 58.3330, Train Accuracy: 61.88%, Val Loss: 127.1661, Val Accuracy: 22.57%, \n",
      "Epoch 98/100, Train Loss: 58.6394, Train Accuracy: 60.80%, Val Loss: 128.4620, Val Accuracy: 22.88%, \n",
      "Epoch 99/100, Train Loss: 58.4280, Train Accuracy: 60.38%, Val Loss: 127.3245, Val Accuracy: 21.32%, \n",
      "Epoch 100/100, Train Loss: 58.5999, Train Accuracy: 59.20%, Val Loss: 128.1621, Val Accuracy: 21.00%, \n"
     ]
    }
   ],
   "source": [
    "# Training loop\n",
    "threshold = 0.1\n",
    "epochs = 100\n",
    "for epoch in range(epochs):\n",
    "    model.train()\n",
    "    running_loss = 0.0\n",
    "    correct_predictions_train = 0\n",
    "    total_predictions_train = 0\n",
    "    \n",
    "    for inputs, labels in train_loader:\n",
    "#         print(inputs)\n",
    "#         break\n",
    "        optimizer.zero_grad()\n",
    "        outputs = model(inputs)\n",
    "#         print(\"outputs\", outputs)\n",
    "        loss = criterion(outputs, labels)\n",
    "#         print(\"labels\", labels)\n",
    "        \n",
    "        # backward pass and optimization\n",
    "        loss.backward()\n",
    "        optimizer.step()\n",
    "        \n",
    "        # calculate training loss\n",
    "        running_loss += loss.item() * inputs.size(0)\n",
    "        \n",
    "        # calculate absolute percentage error for training accuracy-like metric\n",
    "        abs_percentage_error_train = torch.abs(outputs - labels) / labels\n",
    "#         print(\"abs_percentage_error_train\", abs_percentage_error_train)\n",
    "        \n",
    "        # count correct predictions within the threshold for training\n",
    "        correct_predictions_train += torch.sum(abs_percentage_error_train <= threshold)\n",
    "#         print(\"correct_predictions_train\", correct_predictions_train)\n",
    "        total_predictions_train += len(labels)\n",
    "#         print(\"total_predictions_train\", total_predictions_train)\n",
    "        \n",
    "        \n",
    "    #training accuracy\n",
    "    accuracy_train = correct_predictions_train/ total_predictions_train\n",
    "\n",
    "    \n",
    "    #training loss\n",
    "    epoch_loss = running_loss / len(train_loader.dataset)\n",
    "    \n",
    "    #evaluation on validation set\n",
    "    model.eval()\n",
    "    val_loss = 0.0\n",
    "    correct_predictions_val = 0\n",
    "    total_predictions_val = 0\n",
    "    \n",
    "    with torch.no_grad():\n",
    "        for inputs, labels in val_loader:\n",
    "            outputs = model(inputs)\n",
    "            loss = criterion(outputs, labels)\n",
    "            val_loss += loss.item() * inputs.size(0)\n",
    "            \n",
    "            abs_percentage_error_val = torch.abs(outputs - labels) / labels\n",
    "            \n",
    "            correct_predictions_val += torch.sum(abs_percentage_error_val <= threshold)\n",
    "            total_predictions_val += len(labels)\n",
    "    \n",
    "    # validation loss and accuracy\n",
    "    epoch_val_loss = val_loss / len(val_loader.dataset)\n",
    "    accuracy_val = correct_predictions_val.float() / total_predictions_val\n",
    "    \n",
    "    # metrics\n",
    "    print(f'Epoch {epoch+1}/{epochs}, '\n",
    "          f'Train Loss: {epoch_loss:.4f}, Train Accuracy: {accuracy_train:.2%}, '\n",
    "          f'Val Loss: {epoch_val_loss:.4f}, Val Accuracy: {accuracy_val:.2%}, '\n",
    "         )\n",
    "#     break\n"
   ]
  },
  {
   "cell_type": "code",
   "execution_count": null,
   "id": "79e8ff80",
   "metadata": {},
   "outputs": [],
   "source": []
  }
 ],
 "metadata": {
  "kernelspec": {
   "display_name": "Python 3 (ipykernel)",
   "language": "python",
   "name": "python3"
  },
  "language_info": {
   "codemirror_mode": {
    "name": "ipython",
    "version": 3
   },
   "file_extension": ".py",
   "mimetype": "text/x-python",
   "name": "python",
   "nbconvert_exporter": "python",
   "pygments_lexer": "ipython3",
   "version": "3.11.0"
  }
 },
 "nbformat": 4,
 "nbformat_minor": 5
}
